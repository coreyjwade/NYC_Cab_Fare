{
 "cells": [
  {
   "cell_type": "markdown",
   "metadata": {},
   "source": [
    "#  Deep Learning Tests"
   ]
  },
  {
   "cell_type": "markdown",
   "metadata": {},
   "source": [
    "## Preparation"
   ]
  },
  {
   "cell_type": "code",
   "execution_count": 1,
   "metadata": {},
   "outputs": [
    {
     "name": "stderr",
     "output_type": "stream",
     "text": [
      "Using TensorFlow backend.\n"
     ]
    }
   ],
   "source": [
    "# Import necessary modules\n",
    "import pandas as pd\n",
    "import numpy as np\n",
    "import matplotlib.pyplot as plt\n",
    "import keras\n",
    "from keras.layers import Dense\n",
    "from keras.models import Sequential\n",
    "from keras.callbacks import EarlyStopping\n",
    "from sklearn.model_selection import train_test_split"
   ]
  },
  {
   "cell_type": "code",
   "execution_count": 2,
   "metadata": {},
   "outputs": [],
   "source": [
    "# Open File\n",
    "df = pd.read_csv('NYC_Cab_Fare_Wrangled_Time_Distance.csv')"
   ]
  },
  {
   "cell_type": "code",
   "execution_count": 3,
   "metadata": {},
   "outputs": [
    {
     "data": {
      "text/html": [
       "<div>\n",
       "<style scoped>\n",
       "    .dataframe tbody tr th:only-of-type {\n",
       "        vertical-align: middle;\n",
       "    }\n",
       "\n",
       "    .dataframe tbody tr th {\n",
       "        vertical-align: top;\n",
       "    }\n",
       "\n",
       "    .dataframe thead th {\n",
       "        text-align: right;\n",
       "    }\n",
       "</style>\n",
       "<table border=\"1\" class=\"dataframe\">\n",
       "  <thead>\n",
       "    <tr style=\"text-align: right;\">\n",
       "      <th></th>\n",
       "      <th>Unnamed: 0</th>\n",
       "      <th>key</th>\n",
       "      <th>fare_amount</th>\n",
       "      <th>pickup_datetime</th>\n",
       "      <th>pickup_longitude</th>\n",
       "      <th>pickup_latitude</th>\n",
       "      <th>dropoff_longitude</th>\n",
       "      <th>dropoff_latitude</th>\n",
       "      <th>passenger_count</th>\n",
       "      <th>euclidean_distance</th>\n",
       "      <th>...</th>\n",
       "      <th>dayofweek</th>\n",
       "      <th>cold_month</th>\n",
       "      <th>weekend</th>\n",
       "      <th>rush_hour</th>\n",
       "      <th>year</th>\n",
       "      <th>minute</th>\n",
       "      <th>second</th>\n",
       "      <th>15_min_intervals</th>\n",
       "      <th>total_seconds</th>\n",
       "      <th>summer_month</th>\n",
       "    </tr>\n",
       "  </thead>\n",
       "  <tbody>\n",
       "    <tr>\n",
       "      <th>0</th>\n",
       "      <td>0</td>\n",
       "      <td>2009-06-15 17:26:21.0000001</td>\n",
       "      <td>4.5</td>\n",
       "      <td>2009-06-15 17:26:21</td>\n",
       "      <td>-73.844311</td>\n",
       "      <td>40.721319</td>\n",
       "      <td>-73.841610</td>\n",
       "      <td>40.712278</td>\n",
       "      <td>1</td>\n",
       "      <td>0.009436</td>\n",
       "      <td>...</td>\n",
       "      <td>0</td>\n",
       "      <td>0</td>\n",
       "      <td>0</td>\n",
       "      <td>1</td>\n",
       "      <td>2009</td>\n",
       "      <td>26</td>\n",
       "      <td>21</td>\n",
       "      <td>69</td>\n",
       "      <td>62781</td>\n",
       "      <td>1</td>\n",
       "    </tr>\n",
       "    <tr>\n",
       "      <th>1</th>\n",
       "      <td>1</td>\n",
       "      <td>2010-01-05 16:52:16.0000002</td>\n",
       "      <td>16.9</td>\n",
       "      <td>2010-01-05 16:52:16</td>\n",
       "      <td>-74.016048</td>\n",
       "      <td>40.711303</td>\n",
       "      <td>-73.979268</td>\n",
       "      <td>40.782004</td>\n",
       "      <td>1</td>\n",
       "      <td>0.079696</td>\n",
       "      <td>...</td>\n",
       "      <td>1</td>\n",
       "      <td>1</td>\n",
       "      <td>0</td>\n",
       "      <td>1</td>\n",
       "      <td>2010</td>\n",
       "      <td>52</td>\n",
       "      <td>16</td>\n",
       "      <td>67</td>\n",
       "      <td>60736</td>\n",
       "      <td>0</td>\n",
       "    </tr>\n",
       "    <tr>\n",
       "      <th>2</th>\n",
       "      <td>2</td>\n",
       "      <td>2011-08-18 00:35:00.00000049</td>\n",
       "      <td>5.7</td>\n",
       "      <td>2011-08-18 00:35:00</td>\n",
       "      <td>-73.982738</td>\n",
       "      <td>40.761270</td>\n",
       "      <td>-73.991242</td>\n",
       "      <td>40.750562</td>\n",
       "      <td>2</td>\n",
       "      <td>0.013674</td>\n",
       "      <td>...</td>\n",
       "      <td>3</td>\n",
       "      <td>0</td>\n",
       "      <td>0</td>\n",
       "      <td>0</td>\n",
       "      <td>2011</td>\n",
       "      <td>35</td>\n",
       "      <td>0</td>\n",
       "      <td>2</td>\n",
       "      <td>2100</td>\n",
       "      <td>1</td>\n",
       "    </tr>\n",
       "    <tr>\n",
       "      <th>3</th>\n",
       "      <td>3</td>\n",
       "      <td>2012-04-21 04:30:42.0000001</td>\n",
       "      <td>7.7</td>\n",
       "      <td>2012-04-21 04:30:42</td>\n",
       "      <td>-73.987130</td>\n",
       "      <td>40.733143</td>\n",
       "      <td>-73.991567</td>\n",
       "      <td>40.758092</td>\n",
       "      <td>1</td>\n",
       "      <td>0.025340</td>\n",
       "      <td>...</td>\n",
       "      <td>5</td>\n",
       "      <td>0</td>\n",
       "      <td>1</td>\n",
       "      <td>0</td>\n",
       "      <td>2012</td>\n",
       "      <td>30</td>\n",
       "      <td>42</td>\n",
       "      <td>18</td>\n",
       "      <td>16242</td>\n",
       "      <td>0</td>\n",
       "    </tr>\n",
       "    <tr>\n",
       "      <th>4</th>\n",
       "      <td>4</td>\n",
       "      <td>2010-03-09 07:51:00.000000135</td>\n",
       "      <td>5.3</td>\n",
       "      <td>2010-03-09 07:51:00</td>\n",
       "      <td>-73.968095</td>\n",
       "      <td>40.768008</td>\n",
       "      <td>-73.956655</td>\n",
       "      <td>40.783762</td>\n",
       "      <td>1</td>\n",
       "      <td>0.019470</td>\n",
       "      <td>...</td>\n",
       "      <td>1</td>\n",
       "      <td>1</td>\n",
       "      <td>0</td>\n",
       "      <td>1</td>\n",
       "      <td>2010</td>\n",
       "      <td>51</td>\n",
       "      <td>0</td>\n",
       "      <td>31</td>\n",
       "      <td>28260</td>\n",
       "      <td>0</td>\n",
       "    </tr>\n",
       "  </tbody>\n",
       "</table>\n",
       "<p>5 rows × 22 columns</p>\n",
       "</div>"
      ],
      "text/plain": [
       "   Unnamed: 0                            key  fare_amount  \\\n",
       "0           0    2009-06-15 17:26:21.0000001          4.5   \n",
       "1           1    2010-01-05 16:52:16.0000002         16.9   \n",
       "2           2   2011-08-18 00:35:00.00000049          5.7   \n",
       "3           3    2012-04-21 04:30:42.0000001          7.7   \n",
       "4           4  2010-03-09 07:51:00.000000135          5.3   \n",
       "\n",
       "       pickup_datetime  pickup_longitude  pickup_latitude  dropoff_longitude  \\\n",
       "0  2009-06-15 17:26:21        -73.844311        40.721319         -73.841610   \n",
       "1  2010-01-05 16:52:16        -74.016048        40.711303         -73.979268   \n",
       "2  2011-08-18 00:35:00        -73.982738        40.761270         -73.991242   \n",
       "3  2012-04-21 04:30:42        -73.987130        40.733143         -73.991567   \n",
       "4  2010-03-09 07:51:00        -73.968095        40.768008         -73.956655   \n",
       "\n",
       "   dropoff_latitude  passenger_count  euclidean_distance      ...       \\\n",
       "0         40.712278                1            0.009436      ...        \n",
       "1         40.782004                1            0.079696      ...        \n",
       "2         40.750562                2            0.013674      ...        \n",
       "3         40.758092                1            0.025340      ...        \n",
       "4         40.783762                1            0.019470      ...        \n",
       "\n",
       "   dayofweek  cold_month  weekend  rush_hour  year  minute  second  \\\n",
       "0          0           0        0          1  2009      26      21   \n",
       "1          1           1        0          1  2010      52      16   \n",
       "2          3           0        0          0  2011      35       0   \n",
       "3          5           0        1          0  2012      30      42   \n",
       "4          1           1        0          1  2010      51       0   \n",
       "\n",
       "   15_min_intervals  total_seconds  summer_month  \n",
       "0                69          62781             1  \n",
       "1                67          60736             0  \n",
       "2                 2           2100             1  \n",
       "3                18          16242             0  \n",
       "4                31          28260             0  \n",
       "\n",
       "[5 rows x 22 columns]"
      ]
     },
     "execution_count": 3,
     "metadata": {},
     "output_type": "execute_result"
    }
   ],
   "source": [
    "# Show first few rows\n",
    "df.head()"
   ]
  },
  {
   "cell_type": "code",
   "execution_count": 4,
   "metadata": {},
   "outputs": [
    {
     "name": "stdout",
     "output_type": "stream",
     "text": [
      "<class 'pandas.core.frame.DataFrame'>\n",
      "RangeIndex: 53465062 entries, 0 to 53465061\n",
      "Data columns (total 22 columns):\n",
      "Unnamed: 0            int64\n",
      "key                   object\n",
      "fare_amount           float64\n",
      "pickup_datetime       object\n",
      "pickup_longitude      float64\n",
      "pickup_latitude       float64\n",
      "dropoff_longitude     float64\n",
      "dropoff_latitude      float64\n",
      "passenger_count       int64\n",
      "euclidean_distance    float64\n",
      "month                 int64\n",
      "hour                  int64\n",
      "dayofweek             int64\n",
      "cold_month            int64\n",
      "weekend               int64\n",
      "rush_hour             int64\n",
      "year                  int64\n",
      "minute                int64\n",
      "second                int64\n",
      "15_min_intervals      int64\n",
      "total_seconds         int64\n",
      "summer_month          int64\n",
      "dtypes: float64(6), int64(14), object(2)\n",
      "memory usage: 8.8+ GB\n"
     ]
    }
   ],
   "source": [
    "df.info()"
   ]
  },
  {
   "cell_type": "code",
   "execution_count": 5,
   "metadata": {},
   "outputs": [],
   "source": [
    "# Choose relevant columns\n",
    "df = df[['key', 'fare_amount', 'pickup_datetime', 'pickup_longitude', 'pickup_latitude', 'dropoff_longitude', 'dropoff_latitude', 'passenger_count', 'euclidean_distance', 'cold_month', 'weekend', 'rush_hour', '15_min_intervals', 'summer_month']]"
   ]
  },
  {
   "cell_type": "markdown",
   "metadata": {},
   "source": [
    "### 500,000 rows"
   ]
  },
  {
   "cell_type": "code",
   "execution_count": 6,
   "metadata": {},
   "outputs": [
    {
     "data": {
      "text/html": [
       "<div>\n",
       "<style scoped>\n",
       "    .dataframe tbody tr th:only-of-type {\n",
       "        vertical-align: middle;\n",
       "    }\n",
       "\n",
       "    .dataframe tbody tr th {\n",
       "        vertical-align: top;\n",
       "    }\n",
       "\n",
       "    .dataframe thead th {\n",
       "        text-align: right;\n",
       "    }\n",
       "</style>\n",
       "<table border=\"1\" class=\"dataframe\">\n",
       "  <thead>\n",
       "    <tr style=\"text-align: right;\">\n",
       "      <th></th>\n",
       "      <th>fare_amount</th>\n",
       "      <th>pickup_longitude</th>\n",
       "      <th>pickup_latitude</th>\n",
       "      <th>dropoff_longitude</th>\n",
       "      <th>dropoff_latitude</th>\n",
       "      <th>passenger_count</th>\n",
       "      <th>euclidean_distance</th>\n",
       "      <th>cold_month</th>\n",
       "      <th>weekend</th>\n",
       "      <th>rush_hour</th>\n",
       "      <th>15_min_intervals</th>\n",
       "      <th>summer_month</th>\n",
       "    </tr>\n",
       "  </thead>\n",
       "  <tbody>\n",
       "    <tr>\n",
       "      <th>count</th>\n",
       "      <td>500000.000000</td>\n",
       "      <td>500000.000000</td>\n",
       "      <td>500000.000000</td>\n",
       "      <td>500000.000000</td>\n",
       "      <td>500000.000000</td>\n",
       "      <td>500000.000000</td>\n",
       "      <td>5.000000e+05</td>\n",
       "      <td>500000.000000</td>\n",
       "      <td>500000.000000</td>\n",
       "      <td>500000.000000</td>\n",
       "      <td>500000.000000</td>\n",
       "      <td>500000.000000</td>\n",
       "    </tr>\n",
       "    <tr>\n",
       "      <th>mean</th>\n",
       "      <td>11.326031</td>\n",
       "      <td>-73.975557</td>\n",
       "      <td>40.750815</td>\n",
       "      <td>-73.974736</td>\n",
       "      <td>40.751204</td>\n",
       "      <td>1.691840</td>\n",
       "      <td>3.467676e-02</td>\n",
       "      <td>0.419090</td>\n",
       "      <td>0.282736</td>\n",
       "      <td>0.299016</td>\n",
       "      <td>55.591750</td>\n",
       "      <td>0.236896</td>\n",
       "    </tr>\n",
       "    <tr>\n",
       "      <th>std</th>\n",
       "      <td>9.550769</td>\n",
       "      <td>0.034416</td>\n",
       "      <td>0.026829</td>\n",
       "      <td>0.038199</td>\n",
       "      <td>0.068023</td>\n",
       "      <td>1.306473</td>\n",
       "      <td>7.377060e-02</td>\n",
       "      <td>0.493411</td>\n",
       "      <td>0.450330</td>\n",
       "      <td>0.457827</td>\n",
       "      <td>26.099228</td>\n",
       "      <td>0.425178</td>\n",
       "    </tr>\n",
       "    <tr>\n",
       "      <th>min</th>\n",
       "      <td>2.500000</td>\n",
       "      <td>-74.258628</td>\n",
       "      <td>40.478775</td>\n",
       "      <td>-80.095871</td>\n",
       "      <td>5.650000</td>\n",
       "      <td>1.000000</td>\n",
       "      <td>1.000000e-06</td>\n",
       "      <td>0.000000</td>\n",
       "      <td>0.000000</td>\n",
       "      <td>0.000000</td>\n",
       "      <td>0.000000</td>\n",
       "      <td>0.000000</td>\n",
       "    </tr>\n",
       "    <tr>\n",
       "      <th>25%</th>\n",
       "      <td>6.000000</td>\n",
       "      <td>-73.992330</td>\n",
       "      <td>40.736561</td>\n",
       "      <td>-73.991607</td>\n",
       "      <td>40.735622</td>\n",
       "      <td>1.000000</td>\n",
       "      <td>1.305657e-02</td>\n",
       "      <td>0.000000</td>\n",
       "      <td>0.000000</td>\n",
       "      <td>0.000000</td>\n",
       "      <td>37.000000</td>\n",
       "      <td>0.000000</td>\n",
       "    </tr>\n",
       "    <tr>\n",
       "      <th>50%</th>\n",
       "      <td>8.500000</td>\n",
       "      <td>-73.982116</td>\n",
       "      <td>40.753304</td>\n",
       "      <td>-73.980676</td>\n",
       "      <td>40.753908</td>\n",
       "      <td>1.000000</td>\n",
       "      <td>2.208048e-02</td>\n",
       "      <td>0.000000</td>\n",
       "      <td>0.000000</td>\n",
       "      <td>0.000000</td>\n",
       "      <td>58.000000</td>\n",
       "      <td>0.000000</td>\n",
       "    </tr>\n",
       "    <tr>\n",
       "      <th>75%</th>\n",
       "      <td>12.500000</td>\n",
       "      <td>-73.968466</td>\n",
       "      <td>40.767462</td>\n",
       "      <td>-73.965580</td>\n",
       "      <td>40.768387</td>\n",
       "      <td>2.000000</td>\n",
       "      <td>3.899589e-02</td>\n",
       "      <td>1.000000</td>\n",
       "      <td>1.000000</td>\n",
       "      <td>1.000000</td>\n",
       "      <td>78.000000</td>\n",
       "      <td>0.000000</td>\n",
       "    </tr>\n",
       "    <tr>\n",
       "      <th>max</th>\n",
       "      <td>459.900000</td>\n",
       "      <td>-73.700982</td>\n",
       "      <td>40.916949</td>\n",
       "      <td>-69.729976</td>\n",
       "      <td>62.143497</td>\n",
       "      <td>6.000000</td>\n",
       "      <td>3.512818e+01</td>\n",
       "      <td>1.000000</td>\n",
       "      <td>1.000000</td>\n",
       "      <td>1.000000</td>\n",
       "      <td>95.000000</td>\n",
       "      <td>1.000000</td>\n",
       "    </tr>\n",
       "  </tbody>\n",
       "</table>\n",
       "</div>"
      ],
      "text/plain": [
       "         fare_amount  pickup_longitude  pickup_latitude  dropoff_longitude  \\\n",
       "count  500000.000000     500000.000000    500000.000000      500000.000000   \n",
       "mean       11.326031        -73.975557        40.750815         -73.974736   \n",
       "std         9.550769          0.034416         0.026829           0.038199   \n",
       "min         2.500000        -74.258628        40.478775         -80.095871   \n",
       "25%         6.000000        -73.992330        40.736561         -73.991607   \n",
       "50%         8.500000        -73.982116        40.753304         -73.980676   \n",
       "75%        12.500000        -73.968466        40.767462         -73.965580   \n",
       "max       459.900000        -73.700982        40.916949         -69.729976   \n",
       "\n",
       "       dropoff_latitude  passenger_count  euclidean_distance     cold_month  \\\n",
       "count     500000.000000    500000.000000        5.000000e+05  500000.000000   \n",
       "mean          40.751204         1.691840        3.467676e-02       0.419090   \n",
       "std            0.068023         1.306473        7.377060e-02       0.493411   \n",
       "min            5.650000         1.000000        1.000000e-06       0.000000   \n",
       "25%           40.735622         1.000000        1.305657e-02       0.000000   \n",
       "50%           40.753908         1.000000        2.208048e-02       0.000000   \n",
       "75%           40.768387         2.000000        3.899589e-02       1.000000   \n",
       "max           62.143497         6.000000        3.512818e+01       1.000000   \n",
       "\n",
       "             weekend      rush_hour  15_min_intervals   summer_month  \n",
       "count  500000.000000  500000.000000     500000.000000  500000.000000  \n",
       "mean        0.282736       0.299016         55.591750       0.236896  \n",
       "std         0.450330       0.457827         26.099228       0.425178  \n",
       "min         0.000000       0.000000          0.000000       0.000000  \n",
       "25%         0.000000       0.000000         37.000000       0.000000  \n",
       "50%         0.000000       0.000000         58.000000       0.000000  \n",
       "75%         1.000000       1.000000         78.000000       0.000000  \n",
       "max         1.000000       1.000000         95.000000       1.000000  "
      ]
     },
     "execution_count": 6,
     "metadata": {},
     "output_type": "execute_result"
    }
   ],
   "source": [
    "df_sub = df.sample(n=500000)\n",
    "df_sub.describe()"
   ]
  },
  {
   "cell_type": "code",
   "execution_count": 7,
   "metadata": {},
   "outputs": [
    {
     "data": {
      "text/html": [
       "<div>\n",
       "<style scoped>\n",
       "    .dataframe tbody tr th:only-of-type {\n",
       "        vertical-align: middle;\n",
       "    }\n",
       "\n",
       "    .dataframe tbody tr th {\n",
       "        vertical-align: top;\n",
       "    }\n",
       "\n",
       "    .dataframe thead th {\n",
       "        text-align: right;\n",
       "    }\n",
       "</style>\n",
       "<table border=\"1\" class=\"dataframe\">\n",
       "  <thead>\n",
       "    <tr style=\"text-align: right;\">\n",
       "      <th></th>\n",
       "      <th>key</th>\n",
       "      <th>fare_amount</th>\n",
       "      <th>pickup_datetime</th>\n",
       "      <th>pickup_longitude</th>\n",
       "      <th>pickup_latitude</th>\n",
       "      <th>dropoff_longitude</th>\n",
       "      <th>dropoff_latitude</th>\n",
       "      <th>passenger_count</th>\n",
       "      <th>euclidean_distance</th>\n",
       "      <th>cold_month</th>\n",
       "      <th>weekend</th>\n",
       "      <th>rush_hour</th>\n",
       "      <th>15_min_intervals</th>\n",
       "      <th>summer_month</th>\n",
       "    </tr>\n",
       "  </thead>\n",
       "  <tbody>\n",
       "    <tr>\n",
       "      <th>2999477</th>\n",
       "      <td>2012-08-17 21:00:27.0000007</td>\n",
       "      <td>14.90</td>\n",
       "      <td>2012-08-17 21:00:27</td>\n",
       "      <td>-73.874523</td>\n",
       "      <td>40.774043</td>\n",
       "      <td>-73.869136</td>\n",
       "      <td>40.720666</td>\n",
       "      <td>1</td>\n",
       "      <td>0.053648</td>\n",
       "      <td>0</td>\n",
       "      <td>0</td>\n",
       "      <td>0</td>\n",
       "      <td>84</td>\n",
       "      <td>1</td>\n",
       "    </tr>\n",
       "    <tr>\n",
       "      <th>46094238</th>\n",
       "      <td>2014-01-08 18:07:00.000000185</td>\n",
       "      <td>14.50</td>\n",
       "      <td>2014-01-08 18:07:00</td>\n",
       "      <td>-73.954872</td>\n",
       "      <td>40.765432</td>\n",
       "      <td>-73.989830</td>\n",
       "      <td>40.756545</td>\n",
       "      <td>2</td>\n",
       "      <td>0.036070</td>\n",
       "      <td>1</td>\n",
       "      <td>0</td>\n",
       "      <td>1</td>\n",
       "      <td>72</td>\n",
       "      <td>0</td>\n",
       "    </tr>\n",
       "    <tr>\n",
       "      <th>28073526</th>\n",
       "      <td>2013-10-31 08:17:00.000000191</td>\n",
       "      <td>28.33</td>\n",
       "      <td>2013-10-31 08:17:00</td>\n",
       "      <td>-73.912388</td>\n",
       "      <td>40.746285</td>\n",
       "      <td>-73.992225</td>\n",
       "      <td>40.730687</td>\n",
       "      <td>5</td>\n",
       "      <td>0.081346</td>\n",
       "      <td>0</td>\n",
       "      <td>0</td>\n",
       "      <td>1</td>\n",
       "      <td>33</td>\n",
       "      <td>0</td>\n",
       "    </tr>\n",
       "    <tr>\n",
       "      <th>41858144</th>\n",
       "      <td>2015-02-21 18:39:29.00000012</td>\n",
       "      <td>4.50</td>\n",
       "      <td>2015-02-21 18:39:29</td>\n",
       "      <td>-73.962593</td>\n",
       "      <td>40.763248</td>\n",
       "      <td>-73.960449</td>\n",
       "      <td>40.759655</td>\n",
       "      <td>1</td>\n",
       "      <td>0.004184</td>\n",
       "      <td>1</td>\n",
       "      <td>1</td>\n",
       "      <td>0</td>\n",
       "      <td>74</td>\n",
       "      <td>0</td>\n",
       "    </tr>\n",
       "    <tr>\n",
       "      <th>29066295</th>\n",
       "      <td>2013-12-30 23:57:00.00000028</td>\n",
       "      <td>5.50</td>\n",
       "      <td>2013-12-30 23:57:00</td>\n",
       "      <td>-73.984115</td>\n",
       "      <td>40.761647</td>\n",
       "      <td>-73.974345</td>\n",
       "      <td>40.757470</td>\n",
       "      <td>1</td>\n",
       "      <td>0.010625</td>\n",
       "      <td>1</td>\n",
       "      <td>0</td>\n",
       "      <td>0</td>\n",
       "      <td>95</td>\n",
       "      <td>0</td>\n",
       "    </tr>\n",
       "  </tbody>\n",
       "</table>\n",
       "</div>"
      ],
      "text/plain": [
       "                                    key  fare_amount      pickup_datetime  \\\n",
       "2999477     2012-08-17 21:00:27.0000007        14.90  2012-08-17 21:00:27   \n",
       "46094238  2014-01-08 18:07:00.000000185        14.50  2014-01-08 18:07:00   \n",
       "28073526  2013-10-31 08:17:00.000000191        28.33  2013-10-31 08:17:00   \n",
       "41858144   2015-02-21 18:39:29.00000012         4.50  2015-02-21 18:39:29   \n",
       "29066295   2013-12-30 23:57:00.00000028         5.50  2013-12-30 23:57:00   \n",
       "\n",
       "          pickup_longitude  pickup_latitude  dropoff_longitude  \\\n",
       "2999477         -73.874523        40.774043         -73.869136   \n",
       "46094238        -73.954872        40.765432         -73.989830   \n",
       "28073526        -73.912388        40.746285         -73.992225   \n",
       "41858144        -73.962593        40.763248         -73.960449   \n",
       "29066295        -73.984115        40.761647         -73.974345   \n",
       "\n",
       "          dropoff_latitude  passenger_count  euclidean_distance  cold_month  \\\n",
       "2999477          40.720666                1            0.053648           0   \n",
       "46094238         40.756545                2            0.036070           1   \n",
       "28073526         40.730687                5            0.081346           0   \n",
       "41858144         40.759655                1            0.004184           1   \n",
       "29066295         40.757470                1            0.010625           1   \n",
       "\n",
       "          weekend  rush_hour  15_min_intervals  summer_month  \n",
       "2999477         0          0                84             1  \n",
       "46094238        0          1                72             0  \n",
       "28073526        0          1                33             0  \n",
       "41858144        1          0                74             0  \n",
       "29066295        0          0                95             0  "
      ]
     },
     "execution_count": 7,
     "metadata": {},
     "output_type": "execute_result"
    }
   ],
   "source": [
    "df_sub.head()"
   ]
  },
  {
   "cell_type": "code",
   "execution_count": 9,
   "metadata": {},
   "outputs": [],
   "source": [
    "y = np.array(df_sub.fare_amount)\n",
    "X = np.array(df_sub.iloc[:,3:14])\n",
    "X_train, X_test, y_train, y_test = train_test_split(X, y)"
   ]
  },
  {
   "cell_type": "code",
   "execution_count": 10,
   "metadata": {},
   "outputs": [],
   "source": [
    "X_train, X_test, y_train, y_test = train_test_split(X, y)"
   ]
  },
  {
   "cell_type": "markdown",
   "metadata": {},
   "source": [
    "## Linear Regression                                  "
   ]
  },
  {
   "cell_type": "code",
   "execution_count": 11,
   "metadata": {},
   "outputs": [
    {
     "data": {
      "text/plain": [
       "7.603150293810446"
      ]
     },
     "execution_count": 11,
     "metadata": {},
     "output_type": "execute_result"
    }
   ],
   "source": [
    "from sklearn.linear_model import LinearRegression\n",
    "from sklearn.metrics import mean_squared_error\n",
    "lin_reg = LinearRegression()\n",
    "lin_reg.fit(X_train, y_train)\n",
    "fare_predictions = lin_reg.predict(X_train)\n",
    "lin_mse = mean_squared_error(y_train, fare_predictions)\n",
    "lin_rmse = np.sqrt(lin_mse)\n",
    "lin_rmse"
   ]
  },
  {
   "cell_type": "markdown",
   "metadata": {},
   "source": [
    "## Decision Tree"
   ]
  },
  {
   "cell_type": "code",
   "execution_count": 13,
   "metadata": {},
   "outputs": [
    {
     "data": {
      "text/plain": [
       "3.845549308344409e-16"
      ]
     },
     "execution_count": 13,
     "metadata": {},
     "output_type": "execute_result"
    }
   ],
   "source": [
    "from sklearn.tree import DecisionTreeRegressor\n",
    "tree_reg = DecisionTreeRegressor()\n",
    "tree_reg.fit(X_train, y_train)\n",
    "fare_predictions = tree_reg.predict(X_train)\n",
    "tree_mse = mean_squared_error(y_train, fare_predictions)\n",
    "tree_rmse = np.sqrt(tree_mse)\n",
    "tree_rmse"
   ]
  },
  {
   "cell_type": "code",
   "execution_count": 14,
   "metadata": {},
   "outputs": [
    {
     "name": "stdout",
     "output_type": "stream",
     "text": [
      "[-31.5691684  -31.95237707 -32.04110961 -29.86179506 -27.15530762]\n"
     ]
    }
   ],
   "source": [
    "from sklearn.model_selection import cross_val_score\n",
    "scores = cross_val_score(tree_reg, X_train, y_train, scoring='neg_mean_squared_error', cv=5)\n",
    "tree_rmse_scores=np.sqrt(-scores)\n",
    "print(scores)"
   ]
  },
  {
   "cell_type": "code",
   "execution_count": 15,
   "metadata": {},
   "outputs": [
    {
     "name": "stdout",
     "output_type": "stream",
     "text": [
      "[13.54238725 20.04310279  7.66763898  7.2101136   7.23181161]\n"
     ]
    }
   ],
   "source": [
    "lin_scores = cross_val_score(lin_reg, X_train, y_train, scoring='neg_mean_squared_error', cv=5)\n",
    "lin_rmse_scores=np.sqrt(-lin_scores)\n",
    "print(lin_rmse_scores)"
   ]
  },
  {
   "cell_type": "markdown",
   "metadata": {},
   "source": [
    "## Deep Learning Tests"
   ]
  },
  {
   "cell_type": "code",
   "execution_count": 25,
   "metadata": {},
   "outputs": [],
   "source": [
    "# keras_regression_test requires \"from sklearn.model_selection import train_test_split\"\n",
    "def keras_regression_test(X, y, numbers=[128,64], batch_size=32, activation='relu', optimizer='adam', loss='mean_squared_error'):\n",
    "        \n",
    "    X_train, X_test, y_train, y_test = train_test_split(X, y)\n",
    "    \n",
    "    # Save the number of columns in predictors: n_cols\n",
    "    n_cols = X_train.shape[1]\n",
    "\n",
    "    # Set up the model: model\n",
    "    model = Sequential()\n",
    "    \n",
    "    # Add the first layer\n",
    "    model.add(Dense(numbers[0], activation=activation, input_shape=(n_cols,)))\n",
    "    \n",
    "    # Add addition layers\n",
    "    for i in range(len(numbers)-1):\n",
    "        model.add(Dense(numbers[i+1], activation=activation))\n",
    "\n",
    "    # Add the output layer\n",
    "    model.add(Dense(1))\n",
    "\n",
    "    # Compile the model\n",
    "    model.compile(optimizer=optimizer, loss=loss)\n",
    "\n",
    "    # Define early_stopping_monitor\n",
    "    early_stopping_monitor = EarlyStopping(patience=2)\n",
    "\n",
    "    # Fit the model\n",
    "    model.fit(X_train, y_train, validation_split=0.3, epochs=30, batch_size=batch_size, callbacks=[early_stopping_monitor])\n",
    "\n",
    "    # Get score for predictions\n",
    "    score = model.evaluate(X_test, y_test)\n",
    "    \n",
    "    # Get root mean squared error\n",
    "    rmse = np.sqrt(score)\n",
    "    \n",
    "    # Return root mean squared error\n",
    "    print(rmse)\n",
    "    \n",
    "    return model"
   ]
  },
  {
   "cell_type": "code",
   "execution_count": null,
   "metadata": {},
   "outputs": [],
   "source": [
    "# keras_regression_test requires \"from sklearn.model_selection import train_test_split\"\n",
    "def keras_regression_final(X, y, numbers=[128,64], batch_size=32, activation='relu', optimizer='adam', loss='mean_squared_error'):\n",
    "    \n",
    "    # Save the number of columns in predictors: n_cols\n",
    "    n_cols = X.shape[1]\n",
    "\n",
    "    # Set up the model: model\n",
    "    model = Sequential()\n",
    "    \n",
    "    # Add the first layer\n",
    "    model.add(Dense(numbers[0], activation=activation, input_shape=(n_cols,)))\n",
    "    \n",
    "    # Add addition layers\n",
    "    for i in range(len(numbers)-1):\n",
    "        model.add(Dense(numbers[i+1], activation=activation))\n",
    "\n",
    "    # Add the output layer\n",
    "    model.add(Dense(1))\n",
    "\n",
    "    # Compile the model\n",
    "    model.compile(optimizer=optimizer, loss=loss)\n",
    "\n",
    "    # Define early_stopping_monitor\n",
    "    early_stopping_monitor = EarlyStopping(patience=2)\n",
    "\n",
    "    # Fit the model\n",
    "    model.fit(X, y, epochs=30, batch_size=batch_size, callbacks=[early_stopping_monitor])\n",
    "    \n",
    "    return model"
   ]
  },
  {
   "cell_type": "code",
   "execution_count": 17,
   "metadata": {},
   "outputs": [
    {
     "name": "stdout",
     "output_type": "stream",
     "text": [
      "Train on 262500 samples, validate on 112500 samples\n",
      "Epoch 1/30\n",
      "262500/262500 [==============================] - 8s 30us/step - loss: 64.4959 - val_loss: 21.1828\n",
      "Epoch 2/30\n",
      "262500/262500 [==============================] - 8s 31us/step - loss: 26.0319 - val_loss: 21.6086\n",
      "Epoch 3/30\n",
      "262500/262500 [==============================] - 8s 31us/step - loss: 23.8584 - val_loss: 18.2701\n",
      "Epoch 4/30\n",
      "262500/262500 [==============================] - 8s 31us/step - loss: 23.2856 - val_loss: 26.5943\n",
      "Epoch 5/30\n",
      "262500/262500 [==============================] - 8s 29us/step - loss: 23.2706 - val_loss: 20.8320\n",
      "125000/125000 [==============================] - 1s 9us/step\n",
      "4.535789480285946\n"
     ]
    },
    {
     "data": {
      "text/plain": [
       "<keras.engine.sequential.Sequential at 0x1a35fc6320>"
      ]
     },
     "execution_count": 17,
     "metadata": {},
     "output_type": "execute_result"
    }
   ],
   "source": [
    "keras_regression_test(numbers=[100,50])"
   ]
  },
  {
   "cell_type": "code",
   "execution_count": 22,
   "metadata": {},
   "outputs": [],
   "source": [
    "df_sub = df.sample(n=5000000)"
   ]
  },
  {
   "cell_type": "code",
   "execution_count": 26,
   "metadata": {},
   "outputs": [
    {
     "name": "stdout",
     "output_type": "stream",
     "text": [
      "Train on 2625000 samples, validate on 1125000 samples\n",
      "Epoch 1/30\n",
      "2625000/2625000 [==============================] - 81s 31us/step - loss: 24.7949 - val_loss: 24.0757\n",
      "Epoch 2/30\n",
      "2625000/2625000 [==============================] - 80s 30us/step - loss: 20.1964 - val_loss: 18.8200\n",
      "Epoch 3/30\n",
      "2625000/2625000 [==============================] - 78s 30us/step - loss: 19.7533 - val_loss: 20.6653\n",
      "Epoch 4/30\n",
      "2625000/2625000 [==============================] - 82s 31us/step - loss: 19.5313 - val_loss: 19.2467\n",
      "1250000/1250000 [==============================] - 14s 11us/step\n",
      "4.323052388678065\n"
     ]
    },
    {
     "data": {
      "text/plain": [
       "<keras.engine.sequential.Sequential at 0x1c09b33048>"
      ]
     },
     "execution_count": 26,
     "metadata": {},
     "output_type": "execute_result"
    }
   ],
   "source": [
    "y = np.array(df_sub.fare_amount)\n",
    "X = np.array(df_sub.iloc[:,3:14])\n",
    "keras_regression_test(X, y, numbers=[100,50])"
   ]
  },
  {
   "cell_type": "code",
   "execution_count": 27,
   "metadata": {},
   "outputs": [
    {
     "name": "stdout",
     "output_type": "stream",
     "text": [
      "Train on 28069157 samples, validate on 12029639 samples\n",
      "Epoch 1/30\n",
      "28069157/28069157 [==============================] - 884s 31us/step - loss: 20.2488 - val_loss: 18.5933\n",
      "Epoch 2/30\n",
      "28069157/28069157 [==============================] - 966s 34us/step - loss: 19.1320 - val_loss: 19.4809\n",
      "Epoch 3/30\n",
      "28069157/28069157 [==============================] - 870s 31us/step - loss: 18.8940 - val_loss: 18.4783\n",
      "Epoch 4/30\n",
      "28069157/28069157 [==============================] - 884s 31us/step - loss: 18.8527 - val_loss: 18.3431\n",
      "Epoch 5/30\n",
      "28069157/28069157 [==============================] - 868s 31us/step - loss: 18.7319 - val_loss: 22.1989\n",
      "Epoch 6/30\n",
      "28069157/28069157 [==============================] - 1060s 38us/step - loss: 18.6640 - val_loss: 18.8680\n",
      "13366266/13366266 [==============================] - 188s 14us/step\n",
      "4.345326023849211\n"
     ]
    },
    {
     "data": {
      "text/plain": [
       "<keras.engine.sequential.Sequential at 0x1a3444d1d0>"
      ]
     },
     "execution_count": 27,
     "metadata": {},
     "output_type": "execute_result"
    }
   ],
   "source": [
    "y = np.array(df.fare_amount)\n",
    "X = np.array(df.iloc[:,3:14])\n",
    "keras_regression_test(X, y, numbers=[100,50])"
   ]
  },
  {
   "cell_type": "code",
   "execution_count": null,
   "metadata": {},
   "outputs": [],
   "source": [
    "# new instances where we do not know the answer\n",
    "Xnew, a = make_regression(n_samples=3, n_features=2, noise=0.1, random_state=1)\n",
    "Xnew = scalarX.transform(Xnew)\n",
    "# make a prediction\n",
    "ynew = model.predict(Xnew)\n",
    "# show the inputs and predicted outputs\n",
    "for i in range(len(Xnew)):\n",
    "\tprint(\"X=%s, Predicted=%s\" % (Xnew[i], ynew[i]))"
   ]
  },
  {
   "cell_type": "code",
   "execution_count": 19,
   "metadata": {},
   "outputs": [
    {
     "name": "stdout",
     "output_type": "stream",
     "text": [
      "Train on 262500 samples, validate on 112500 samples\n",
      "Epoch 1/30\n",
      "262500/262500 [==============================] - 7s 28us/step - loss: 65.2405 - val_loss: 19.9077A: \n",
      "Epoch 2/30\n",
      "262500/262500 [==============================] - 7s 27us/step - loss: 24.7549 - val_loss: 18.5223\n",
      "Epoch 3/30\n",
      "262500/262500 [==============================] - 8s 30us/step - loss: 24.0240 - val_loss: 19.8624\n",
      "Epoch 4/30\n",
      "262500/262500 [==============================] - 7s 27us/step - loss: 24.2859 - val_loss: 19.2618\n",
      "125000/125000 [==============================] - 1s 10us/step\n",
      "4.3533494672510376\n"
     ]
    }
   ],
   "source": [
    "model = keras_regression_test(numbers=[100,50], batch_size=36)"
   ]
  },
  {
   "cell_type": "code",
   "execution_count": 21,
   "metadata": {},
   "outputs": [
    {
     "name": "stdout",
     "output_type": "stream",
     "text": [
      "Train on 262500 samples, validate on 112500 samples\n",
      "Epoch 1/30\n",
      "262500/262500 [==============================] - 8s 30us/step - loss: 67.5832 - val_loss: 20.0555\n",
      "Epoch 2/30\n",
      "262500/262500 [==============================] - 7s 28us/step - loss: 25.6046 - val_loss: 19.0785\n",
      "Epoch 3/30\n",
      "262500/262500 [==============================] - 7s 28us/step - loss: 24.1530 - val_loss: 18.3980\n",
      "Epoch 4/30\n",
      "262500/262500 [==============================] - 7s 28us/step - loss: 23.7958 - val_loss: 18.4447\n",
      "Epoch 5/30\n",
      "262500/262500 [==============================] - 8s 29us/step - loss: 23.4797 - val_loss: 18.2202\n",
      "Epoch 6/30\n",
      "262500/262500 [==============================] - 8s 30us/step - loss: 23.3538 - val_loss: 18.3724\n",
      "Epoch 7/30\n",
      "262500/262500 [==============================] - 8s 31us/step - loss: 23.0324 - val_loss: 32.5828\n",
      "125000/125000 [==============================] - 1s 11us/step\n",
      "5.668036938678171\n"
     ]
    }
   ],
   "source": [
    "y = np.array(df.fare_amount)\n",
    "X = np.array(df.iloc[:,3:14])\n",
    "X_train, X_test, y_train, y_test = train_test_split(X, y)\n",
    "model = keras_regression_test(numbers=[100,50])"
   ]
  },
  {
   "cell_type": "code",
   "execution_count": 170,
   "metadata": {},
   "outputs": [
    {
     "name": "stdout",
     "output_type": "stream",
     "text": [
      "batch size:  18\n",
      "Train on 262500 samples, validate on 112500 samples\n",
      "Epoch 1/30\n",
      "262500/262500 [==============================] - 35s 134us/step - loss: 52.1548 - val_loss: 42.1713\n",
      "Epoch 2/30\n",
      "262500/262500 [==============================] - 31s 117us/step - loss: 23.1644 - val_loss: 19.1554\n",
      "Epoch 3/30\n",
      "262500/262500 [==============================] - 36s 136us/step - loss: 21.5541 - val_loss: 20.0211\n",
      "Epoch 4/30\n",
      "262500/262500 [==============================] - 34s 129us/step - loss: 21.0227 - val_loss: 19.2360\n",
      "125000/125000 [==============================] - 4s 34us/step\n",
      "4.46488461424254\n",
      "batch size:  24\n",
      "Train on 262500 samples, validate on 112500 samples\n",
      "Epoch 1/30\n",
      "262500/262500 [==============================] - 26s 99us/step - loss: 52.6370 - val_loss: 28.6305\n",
      "Epoch 2/30\n",
      "262500/262500 [==============================] - 29s 112us/step - loss: 21.9789 - val_loss: 24.8884\n",
      "Epoch 3/30\n",
      "262500/262500 [==============================] - 26s 100us/step - loss: 21.4638 - val_loss: 19.0206\n",
      "Epoch 4/30\n",
      "262500/262500 [==============================] - 24s 93us/step - loss: 21.1327 - val_loss: 18.1729\n",
      "Epoch 5/30\n",
      "262500/262500 [==============================] - 24s 93us/step - loss: 20.8128 - val_loss: 18.8641\n",
      "Epoch 6/30\n",
      "262500/262500 [==============================] - 25s 95us/step - loss: 20.8309 - val_loss: 19.0829\n",
      "125000/125000 [==============================] - 4s 33us/step\n",
      "4.441380409507338\n",
      "batch size:  30\n",
      "Train on 262500 samples, validate on 112500 samples\n",
      "Epoch 1/30\n",
      "262500/262500 [==============================] - 23s 88us/step - loss: 54.6376 - val_loss: 29.2811\n",
      "Epoch 2/30\n",
      "262500/262500 [==============================] - 20s 76us/step - loss: 23.3634 - val_loss: 19.7070\n",
      "Epoch 3/30\n",
      "262500/262500 [==============================] - 21s 82us/step - loss: 21.6184 - val_loss: 27.0870\n",
      "Epoch 4/30\n",
      "262500/262500 [==============================] - 20s 77us/step - loss: 21.2265 - val_loss: 18.7932\n",
      "Epoch 5/30\n",
      "262500/262500 [==============================] - 22s 85us/step - loss: 20.8629 - val_loss: 21.2127\n",
      "Epoch 6/30\n",
      "262500/262500 [==============================] - 24s 93us/step - loss: 20.7045 - val_loss: 19.9344\n",
      "125000/125000 [==============================] - 5s 37us/step\n",
      "4.527793049015641\n",
      "batch size:  36\n",
      "Train on 262500 samples, validate on 112500 samples\n",
      "Epoch 1/30\n",
      "262500/262500 [==============================] - 24s 90us/step - loss: 60.9198 - val_loss: 31.0624\n",
      "Epoch 2/30\n",
      "262500/262500 [==============================] - 17s 66us/step - loss: 22.3050 - val_loss: 21.9082\n",
      "Epoch 3/30\n",
      "262500/262500 [==============================] - 18s 70us/step - loss: 21.2332 - val_loss: 18.5052\n",
      "Epoch 4/30\n",
      "262500/262500 [==============================] - 19s 74us/step - loss: 20.9673 - val_loss: 23.1075\n",
      "Epoch 5/30\n",
      "262500/262500 [==============================] - 18s 67us/step - loss: 20.7703 - val_loss: 18.1935\n",
      "Epoch 6/30\n",
      "262500/262500 [==============================] - 17s 64us/step - loss: 20.7327 - val_loss: 22.3521\n",
      "Epoch 7/30\n",
      "262500/262500 [==============================] - 16s 63us/step - loss: 20.5150 - val_loss: 18.3236\n",
      "125000/125000 [==============================] - 4s 34us/step\n",
      "4.363663320832129\n"
     ]
    }
   ],
   "source": [
    "batch_sizes = [18, 24, 30, 36]\n",
    "for batch_size in batch_sizes:\n",
    "    print('batch size: ', batch_size)\n",
    "    keras_regression_test(numbers=[100,50], batch_size=batch_size)"
   ]
  },
  {
   "cell_type": "code",
   "execution_count": null,
   "metadata": {},
   "outputs": [],
   "source": []
  },
  {
   "cell_type": "code",
   "execution_count": 51,
   "metadata": {},
   "outputs": [
    {
     "name": "stdout",
     "output_type": "stream",
     "text": [
      "Train on 262500 samples, validate on 112500 samples\n",
      "Epoch 1/30\n",
      "262500/262500 [==============================] - 10s 38us/step - loss: 55.9240 - val_loss: 23.7459\n",
      "Epoch 2/30\n",
      "262500/262500 [==============================] - 10s 38us/step - loss: 22.6585 - val_loss: 22.5477\n",
      "Epoch 3/30\n",
      "262500/262500 [==============================] - 11s 43us/step - loss: 22.2504 - val_loss: 21.1804\n",
      "Epoch 4/30\n",
      "262500/262500 [==============================] - 10s 38us/step - loss: 21.8715 - val_loss: 21.4971\n",
      "Epoch 5/30\n",
      "262500/262500 [==============================] - 10s 38us/step - loss: 21.6673 - val_loss: 21.2398\n",
      "125000/125000 [==============================] - 2s 12us/step\n"
     ]
    },
    {
     "data": {
      "text/plain": [
       "4.307730960928071"
      ]
     },
     "execution_count": 51,
     "metadata": {},
     "output_type": "execute_result"
    }
   ],
   "source": [
    "keras_regression_test(X, y, numbers=[100,50])"
   ]
  },
  {
   "cell_type": "code",
   "execution_count": 54,
   "metadata": {},
   "outputs": [],
   "source": [
    "df_sub2 = df.sample(n=5000000)\n",
    "y2 = np.array(df_sub2.fare_amount)\n",
    "X2 = np.array(df_sub2.iloc[:,3:12])"
   ]
  },
  {
   "cell_type": "code",
   "execution_count": 56,
   "metadata": {},
   "outputs": [],
   "source": [
    "y2 = np.array(df_sub2.fare_amount)\n",
    "X2 = np.array(df_sub2.iloc[:,3:12])"
   ]
  },
  {
   "cell_type": "code",
   "execution_count": 59,
   "metadata": {},
   "outputs": [
    {
     "name": "stdout",
     "output_type": "stream",
     "text": [
      "Train on 2625000 samples, validate on 1125000 samples\n",
      "Epoch 1/30\n",
      "2625000/2625000 [==============================] - 103s 39us/step - loss: 24.0661 - val_loss: 25.5650\n",
      "Epoch 2/30\n",
      "2625000/2625000 [==============================] - 119s 45us/step - loss: 20.2408 - val_loss: 18.2267\n",
      "Epoch 3/30\n",
      "2625000/2625000 [==============================] - 116s 44us/step - loss: 20.0077 - val_loss: 21.3367\n",
      "Epoch 4/30\n",
      "2625000/2625000 [==============================] - 719s 274us/step - loss: 19.3828 - val_loss: 18.3631\n",
      "1250000/1250000 [==============================] - 19s 15us/step\n"
     ]
    },
    {
     "data": {
      "text/plain": [
       "4.300137875702223"
      ]
     },
     "execution_count": 59,
     "metadata": {},
     "output_type": "execute_result"
    }
   ],
   "source": [
    "keras_regression_test(X2, y2, numbers=[100,50])"
   ]
  },
  {
   "cell_type": "markdown",
   "metadata": {},
   "source": [
    "Ideas to improve:\n",
    "1T) Hours into hours minutes seconds (cut month)\n",
    "2L) Airport \n",
    "3L) Boroughs\n",
    "3T) Weekday, Weekend\n",
    "4T) Rush Hour \n",
    "5T) Seasons\n",
    "6T) Holidays\n",
    "7T) Evenings\n",
    "8T) Weather"
   ]
  },
  {
   "cell_type": "markdown",
   "metadata": {},
   "source": [
    "### Full Amount (53,000,000 +)"
   ]
  },
  {
   "cell_type": "code",
   "execution_count": 164,
   "metadata": {},
   "outputs": [],
   "source": [
    "y = np.array(df.fare_amount)\n",
    "X = np.array(df.iloc[:,3:9])\n",
    "\n",
    "from sklearn.model_selection import train_test_split\n",
    "X_train, X_test, y_train, y_test = train_test_split(X, y)"
   ]
  },
  {
   "cell_type": "markdown",
   "metadata": {},
   "source": [
    "### 5,000,000 rows"
   ]
  },
  {
   "cell_type": "code",
   "execution_count": null,
   "metadata": {},
   "outputs": [],
   "source": [
    "keras_regression_test(X2, y2, layers=2, nodes=2, numbers=[128,64])"
   ]
  },
  {
   "cell_type": "markdown",
   "metadata": {},
   "source": [
    "### More columns added"
   ]
  },
  {
   "cell_type": "code",
   "execution_count": 142,
   "metadata": {},
   "outputs": [
    {
     "data": {
      "text/html": [
       "<div>\n",
       "<style scoped>\n",
       "    .dataframe tbody tr th:only-of-type {\n",
       "        vertical-align: middle;\n",
       "    }\n",
       "\n",
       "    .dataframe tbody tr th {\n",
       "        vertical-align: top;\n",
       "    }\n",
       "\n",
       "    .dataframe thead th {\n",
       "        text-align: right;\n",
       "    }\n",
       "</style>\n",
       "<table border=\"1\" class=\"dataframe\">\n",
       "  <thead>\n",
       "    <tr style=\"text-align: right;\">\n",
       "      <th></th>\n",
       "      <th>key</th>\n",
       "      <th>fare_amount</th>\n",
       "      <th>pickup_datetime</th>\n",
       "      <th>pickup_longitude</th>\n",
       "      <th>pickup_latitude</th>\n",
       "      <th>dropoff_longitude</th>\n",
       "      <th>dropoff_latitude</th>\n",
       "      <th>passenger_count</th>\n",
       "      <th>euclidean_distance</th>\n",
       "      <th>cold_month</th>\n",
       "      <th>weekend</th>\n",
       "      <th>rush_hour</th>\n",
       "      <th>15_min_intervals</th>\n",
       "      <th>summer_month</th>\n",
       "    </tr>\n",
       "  </thead>\n",
       "  <tbody>\n",
       "    <tr>\n",
       "      <th>29352613</th>\n",
       "      <td>2015-04-07 11:54:02.0000002</td>\n",
       "      <td>14.00</td>\n",
       "      <td>2015-04-07 11:54:02</td>\n",
       "      <td>-73.998657</td>\n",
       "      <td>40.763840</td>\n",
       "      <td>-73.992523</td>\n",
       "      <td>40.735592</td>\n",
       "      <td>1</td>\n",
       "      <td>0.028906</td>\n",
       "      <td>0</td>\n",
       "      <td>0</td>\n",
       "      <td>0</td>\n",
       "      <td>47</td>\n",
       "      <td>0</td>\n",
       "    </tr>\n",
       "    <tr>\n",
       "      <th>51380817</th>\n",
       "      <td>2009-04-24 16:46:00.0000001</td>\n",
       "      <td>20.10</td>\n",
       "      <td>2009-04-24 16:46:00</td>\n",
       "      <td>-73.984160</td>\n",
       "      <td>40.727910</td>\n",
       "      <td>-73.986007</td>\n",
       "      <td>40.671605</td>\n",
       "      <td>1</td>\n",
       "      <td>0.056335</td>\n",
       "      <td>0</td>\n",
       "      <td>0</td>\n",
       "      <td>1</td>\n",
       "      <td>67</td>\n",
       "      <td>0</td>\n",
       "    </tr>\n",
       "    <tr>\n",
       "      <th>13315395</th>\n",
       "      <td>2012-08-07 21:08:13.0000004</td>\n",
       "      <td>6.10</td>\n",
       "      <td>2012-08-07 21:08:13</td>\n",
       "      <td>-73.991920</td>\n",
       "      <td>40.749328</td>\n",
       "      <td>-74.005050</td>\n",
       "      <td>40.728833</td>\n",
       "      <td>1</td>\n",
       "      <td>0.024340</td>\n",
       "      <td>0</td>\n",
       "      <td>0</td>\n",
       "      <td>0</td>\n",
       "      <td>84</td>\n",
       "      <td>1</td>\n",
       "    </tr>\n",
       "    <tr>\n",
       "      <th>21353531</th>\n",
       "      <td>2009-11-28 11:51:00.00000094</td>\n",
       "      <td>49.57</td>\n",
       "      <td>2009-11-28 11:51:00</td>\n",
       "      <td>-73.783647</td>\n",
       "      <td>40.648635</td>\n",
       "      <td>-74.000827</td>\n",
       "      <td>40.747402</td>\n",
       "      <td>1</td>\n",
       "      <td>0.238583</td>\n",
       "      <td>1</td>\n",
       "      <td>1</td>\n",
       "      <td>0</td>\n",
       "      <td>47</td>\n",
       "      <td>0</td>\n",
       "    </tr>\n",
       "    <tr>\n",
       "      <th>33664742</th>\n",
       "      <td>2015-04-04 18:58:07.0000002</td>\n",
       "      <td>8.00</td>\n",
       "      <td>2015-04-04 18:58:07</td>\n",
       "      <td>-73.983826</td>\n",
       "      <td>40.738216</td>\n",
       "      <td>-74.002022</td>\n",
       "      <td>40.739578</td>\n",
       "      <td>1</td>\n",
       "      <td>0.018247</td>\n",
       "      <td>0</td>\n",
       "      <td>1</td>\n",
       "      <td>0</td>\n",
       "      <td>75</td>\n",
       "      <td>0</td>\n",
       "    </tr>\n",
       "  </tbody>\n",
       "</table>\n",
       "</div>"
      ],
      "text/plain": [
       "                                   key  fare_amount     pickup_datetime  \\\n",
       "29352613   2015-04-07 11:54:02.0000002        14.00 2015-04-07 11:54:02   \n",
       "51380817   2009-04-24 16:46:00.0000001        20.10 2009-04-24 16:46:00   \n",
       "13315395   2012-08-07 21:08:13.0000004         6.10 2012-08-07 21:08:13   \n",
       "21353531  2009-11-28 11:51:00.00000094        49.57 2009-11-28 11:51:00   \n",
       "33664742   2015-04-04 18:58:07.0000002         8.00 2015-04-04 18:58:07   \n",
       "\n",
       "          pickup_longitude  pickup_latitude  dropoff_longitude  \\\n",
       "29352613        -73.998657        40.763840         -73.992523   \n",
       "51380817        -73.984160        40.727910         -73.986007   \n",
       "13315395        -73.991920        40.749328         -74.005050   \n",
       "21353531        -73.783647        40.648635         -74.000827   \n",
       "33664742        -73.983826        40.738216         -74.002022   \n",
       "\n",
       "          dropoff_latitude  passenger_count  euclidean_distance  cold_month  \\\n",
       "29352613         40.735592                1            0.028906           0   \n",
       "51380817         40.671605                1            0.056335           0   \n",
       "13315395         40.728833                1            0.024340           0   \n",
       "21353531         40.747402                1            0.238583           1   \n",
       "33664742         40.739578                1            0.018247           0   \n",
       "\n",
       "          weekend  rush_hour  15_min_intervals  summer_month  \n",
       "29352613        0          0                47             0  \n",
       "51380817        0          1                67             0  \n",
       "13315395        0          0                84             1  \n",
       "21353531        1          0                47             0  \n",
       "33664742        1          0                75             0  "
      ]
     },
     "execution_count": 142,
     "metadata": {},
     "output_type": "execute_result"
    }
   ],
   "source": [
    "df_sub2 = df1.sample(n=5000000)\n",
    "df_sub2.head()"
   ]
  },
  {
   "cell_type": "code",
   "execution_count": 150,
   "metadata": {},
   "outputs": [
    {
     "name": "stdout",
     "output_type": "stream",
     "text": [
      "Train on 10500000 samples, validate on 4500000 samples\n",
      "Epoch 1/30\n",
      "10500000/10500000 [==============================] - 730s 70us/step - loss: 21.2324 - val_loss: 19.0953\n",
      "Epoch 2/30\n",
      "10500000/10500000 [==============================] - 587s 56us/step - loss: 19.2145 - val_loss: 18.7507\n",
      "Epoch 3/30\n",
      "10500000/10500000 [==============================] - 568s 54us/step - loss: 19.0431 - val_loss: 19.0250\n",
      "Epoch 4/30\n",
      "10500000/10500000 [==============================] - 553s 53us/step - loss: 18.8915 - val_loss: 18.6707\n",
      "Epoch 5/30\n",
      "10500000/10500000 [==============================] - 683s 65us/step - loss: 18.8904 - val_loss: 20.4059\n",
      "Epoch 6/30\n",
      "10500000/10500000 [==============================] - 659s 63us/step - loss: 18.7772 - val_loss: 18.9894\n",
      "5000000/5000000 [==============================] - 139s 28us/step\n"
     ]
    },
    {
     "data": {
      "text/plain": [
       "4.336311837035749"
      ]
     },
     "execution_count": 150,
     "metadata": {},
     "output_type": "execute_result"
    }
   ],
   "source": [
    "X2 = np.array(df_sub2.iloc[:,3:14])\n",
    "keras_regression_test(X2, y2, numbers=[100,50])"
   ]
  },
  {
   "cell_type": "code",
   "execution_count": 152,
   "metadata": {},
   "outputs": [
    {
     "name": "stdout",
     "output_type": "stream",
     "text": [
      "Train on 262500 samples, validate on 112500 samples\n",
      "Epoch 1/30\n",
      "262500/262500 [==============================] - 19s 72us/step - loss: 47.1477 - val_loss: 34.6847\n",
      "Epoch 2/30\n",
      "262500/262500 [==============================] - 18s 70us/step - loss: 23.7742 - val_loss: 44.0001\n",
      "Epoch 3/30\n",
      "262500/262500 [==============================] - 18s 68us/step - loss: 22.3829 - val_loss: 19.1638\n",
      "Epoch 4/30\n",
      "262500/262500 [==============================] - 17s 63us/step - loss: 21.6693 - val_loss: 22.8654\n",
      "Epoch 5/30\n",
      "262500/262500 [==============================] - 17s 64us/step - loss: 21.5724 - val_loss: 19.4644\n",
      "125000/125000 [==============================] - 4s 28us/step\n"
     ]
    },
    {
     "data": {
      "text/plain": [
       "4.3363916224920676"
      ]
     },
     "execution_count": 152,
     "metadata": {},
     "output_type": "execute_result"
    }
   ],
   "source": [
    "keras_regression_test(X, y, numbers=[1000])"
   ]
  },
  {
   "cell_type": "code",
   "execution_count": null,
   "metadata": {},
   "outputs": [],
   "source": []
  },
  {
   "cell_type": "code",
   "execution_count": 10,
   "metadata": {},
   "outputs": [
    {
     "name": "stdout",
     "output_type": "stream",
     "text": [
      "Train on 262500 samples, validate on 112500 samples\n",
      "Epoch 1/30\n",
      "262500/262500 [==============================] - 8s 30us/step - loss: 50.6394 - val_loss: 21.0362\n",
      "Epoch 2/30\n",
      "262500/262500 [==============================] - 8s 29us/step - loss: 22.6864 - val_loss: 19.8446\n",
      "Epoch 3/30\n",
      "262500/262500 [==============================] - 8s 31us/step - loss: 22.0067 - val_loss: 23.2992\n",
      "Epoch 4/30\n",
      "262500/262500 [==============================] - 8s 32us/step - loss: 21.7421 - val_loss: 22.5306\n",
      "125000/125000 [==============================] - 1s 9us/step\n",
      "4.829188289492332\n"
     ]
    },
    {
     "data": {
      "text/plain": [
       "<keras.engine.sequential.Sequential at 0x127464ef0>"
      ]
     },
     "execution_count": 10,
     "metadata": {},
     "output_type": "execute_result"
    }
   ],
   "source": [
    "keras_regression_test(numbers=[100,50])"
   ]
  },
  {
   "cell_type": "code",
   "execution_count": 11,
   "metadata": {},
   "outputs": [
    {
     "name": "stdout",
     "output_type": "stream",
     "text": [
      "Train on 262500 samples, validate on 112500 samples\n",
      "Epoch 1/30\n",
      "262500/262500 [==============================] - 8s 31us/step - loss: 48.6827 - val_loss: 21.6052\n",
      "Epoch 2/30\n",
      "262500/262500 [==============================] - 8s 30us/step - loss: 24.0042 - val_loss: 28.1400\n",
      "Epoch 3/30\n",
      "262500/262500 [==============================] - 8s 30us/step - loss: 22.2844 - val_loss: 19.2998\n",
      "Epoch 4/30\n",
      "262500/262500 [==============================] - 8s 32us/step - loss: 21.9870 - val_loss: 24.9892\n",
      "Epoch 5/30\n",
      "262500/262500 [==============================] - 8s 30us/step - loss: 21.6714 - val_loss: 25.4189\n",
      "125000/125000 [==============================] - 1s 10us/step\n",
      "5.119094347493275\n"
     ]
    },
    {
     "data": {
      "text/plain": [
       "<keras.engine.sequential.Sequential at 0x127464550>"
      ]
     },
     "execution_count": 11,
     "metadata": {},
     "output_type": "execute_result"
    }
   ],
   "source": [
    "keras_regression_test()"
   ]
  },
  {
   "cell_type": "code",
   "execution_count": null,
   "metadata": {},
   "outputs": [],
   "source": []
  }
 ],
 "metadata": {
  "kernelspec": {
   "display_name": "Python 3",
   "language": "python",
   "name": "python3"
  },
  "language_info": {
   "codemirror_mode": {
    "name": "ipython",
    "version": 3
   },
   "file_extension": ".py",
   "mimetype": "text/x-python",
   "name": "python",
   "nbconvert_exporter": "python",
   "pygments_lexer": "ipython3",
   "version": "3.6.6"
  }
 },
 "nbformat": 4,
 "nbformat_minor": 2
}
