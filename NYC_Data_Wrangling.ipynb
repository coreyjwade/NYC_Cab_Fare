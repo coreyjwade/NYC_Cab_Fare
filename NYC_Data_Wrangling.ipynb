{
 "cells": [
  {
   "cell_type": "markdown",
   "metadata": {},
   "source": [
    "# New York City Cab Fare Data Wrangling"
   ]
  },
  {
   "cell_type": "markdown",
   "metadata": {},
   "source": [
    "This files in this notebook were downloaded from the Kaggle Competition \"New York City Taxi Fare Prediction\" at https://www.kaggle.com/c/new-york-city-taxi-fare-prediction.\n",
    "\n",
    "The purpose of this notebook is to explore the data in advance of a machine learning pipeline.\n",
    "\n",
    "The overall goal of the project is to predict cab fare from the time of pickup, latitude & longitude of pickup, and latitude & longitude of drop-off."
   ]
  },
  {
   "cell_type": "markdown",
   "metadata": {},
   "source": [
    "## Imports"
   ]
  },
  {
   "cell_type": "code",
   "execution_count": 1,
   "metadata": {},
   "outputs": [],
   "source": [
    "# Import Standard Data\n",
    "import pandas as pd\n",
    "import numpy as np\n",
    "import matplotlib.pyplot as plt\n",
    "%matplotlib inline"
   ]
  },
  {
   "cell_type": "markdown",
   "metadata": {},
   "source": [
    "## First Look"
   ]
  },
  {
   "cell_type": "code",
   "execution_count": 2,
   "metadata": {},
   "outputs": [
    {
     "name": "stdout",
     "output_type": "stream",
     "text": [
      "CPU times: user 5.45 s, sys: 524 ms, total: 5.97 s\n",
      "Wall time: 5.98 s\n"
     ]
    }
   ],
   "source": [
    "%%time\n",
    "# Since the dataset contains 55 million rows, it's worth looking at a subset first\n",
    "df = pd.read_csv('train.csv', nrows=2500000)"
   ]
  },
  {
   "cell_type": "code",
   "execution_count": 3,
   "metadata": {},
   "outputs": [],
   "source": [
    "# Feather can speed up the process\n",
    "import feather"
   ]
  },
  {
   "cell_type": "code",
   "execution_count": 4,
   "metadata": {},
   "outputs": [
    {
     "name": "stdout",
     "output_type": "stream",
     "text": [
      "CPU times: user 342 ms, sys: 187 ms, total: 530 ms\n",
      "Wall time: 502 ms\n"
     ]
    }
   ],
   "source": [
    "%%time\n",
    "# Save into feather format. Useful for entire dataset\n",
    "df.to_feather('nyc_cab_fare_raw.feather')"
   ]
  },
  {
   "cell_type": "code",
   "execution_count": 5,
   "metadata": {},
   "outputs": [
    {
     "name": "stderr",
     "output_type": "stream",
     "text": [
      "/anaconda3/lib/python3.6/site-packages/pandas/io/feather_format.py:112: FutureWarning: `nthreads` argument is deprecated, pass `use_threads` instead\n",
      "  return feather.read_dataframe(path, nthreads=nthreads)\n"
     ]
    },
    {
     "name": "stdout",
     "output_type": "stream",
     "text": [
      "CPU times: user 507 ms, sys: 267 ms, total: 774 ms\n",
      "Wall time: 781 ms\n"
     ]
    }
   ],
   "source": [
    "%%time\n",
    "# load the same dataframe next time directly, without reading the csv file again!\n",
    "df = pd.read_feather('nyc_cab_fare_raw.feather')"
   ]
  },
  {
   "cell_type": "markdown",
   "metadata": {},
   "source": [
    "Note that the feather is definitely faster."
   ]
  },
  {
   "cell_type": "code",
   "execution_count": 6,
   "metadata": {},
   "outputs": [
    {
     "data": {
      "text/html": [
       "<div>\n",
       "<style scoped>\n",
       "    .dataframe tbody tr th:only-of-type {\n",
       "        vertical-align: middle;\n",
       "    }\n",
       "\n",
       "    .dataframe tbody tr th {\n",
       "        vertical-align: top;\n",
       "    }\n",
       "\n",
       "    .dataframe thead th {\n",
       "        text-align: right;\n",
       "    }\n",
       "</style>\n",
       "<table border=\"1\" class=\"dataframe\">\n",
       "  <thead>\n",
       "    <tr style=\"text-align: right;\">\n",
       "      <th></th>\n",
       "      <th>key</th>\n",
       "      <th>fare_amount</th>\n",
       "      <th>pickup_datetime</th>\n",
       "      <th>pickup_longitude</th>\n",
       "      <th>pickup_latitude</th>\n",
       "      <th>dropoff_longitude</th>\n",
       "      <th>dropoff_latitude</th>\n",
       "      <th>passenger_count</th>\n",
       "    </tr>\n",
       "  </thead>\n",
       "  <tbody>\n",
       "    <tr>\n",
       "      <th>0</th>\n",
       "      <td>2009-06-15 17:26:21.0000001</td>\n",
       "      <td>4.5</td>\n",
       "      <td>2009-06-15 17:26:21 UTC</td>\n",
       "      <td>-73.844311</td>\n",
       "      <td>40.721319</td>\n",
       "      <td>-73.841610</td>\n",
       "      <td>40.712278</td>\n",
       "      <td>1</td>\n",
       "    </tr>\n",
       "    <tr>\n",
       "      <th>1</th>\n",
       "      <td>2010-01-05 16:52:16.0000002</td>\n",
       "      <td>16.9</td>\n",
       "      <td>2010-01-05 16:52:16 UTC</td>\n",
       "      <td>-74.016048</td>\n",
       "      <td>40.711303</td>\n",
       "      <td>-73.979268</td>\n",
       "      <td>40.782004</td>\n",
       "      <td>1</td>\n",
       "    </tr>\n",
       "    <tr>\n",
       "      <th>2</th>\n",
       "      <td>2011-08-18 00:35:00.00000049</td>\n",
       "      <td>5.7</td>\n",
       "      <td>2011-08-18 00:35:00 UTC</td>\n",
       "      <td>-73.982738</td>\n",
       "      <td>40.761270</td>\n",
       "      <td>-73.991242</td>\n",
       "      <td>40.750562</td>\n",
       "      <td>2</td>\n",
       "    </tr>\n",
       "    <tr>\n",
       "      <th>3</th>\n",
       "      <td>2012-04-21 04:30:42.0000001</td>\n",
       "      <td>7.7</td>\n",
       "      <td>2012-04-21 04:30:42 UTC</td>\n",
       "      <td>-73.987130</td>\n",
       "      <td>40.733143</td>\n",
       "      <td>-73.991567</td>\n",
       "      <td>40.758092</td>\n",
       "      <td>1</td>\n",
       "    </tr>\n",
       "    <tr>\n",
       "      <th>4</th>\n",
       "      <td>2010-03-09 07:51:00.000000135</td>\n",
       "      <td>5.3</td>\n",
       "      <td>2010-03-09 07:51:00 UTC</td>\n",
       "      <td>-73.968095</td>\n",
       "      <td>40.768008</td>\n",
       "      <td>-73.956655</td>\n",
       "      <td>40.783762</td>\n",
       "      <td>1</td>\n",
       "    </tr>\n",
       "  </tbody>\n",
       "</table>\n",
       "</div>"
      ],
      "text/plain": [
       "                             key  fare_amount          pickup_datetime  \\\n",
       "0    2009-06-15 17:26:21.0000001          4.5  2009-06-15 17:26:21 UTC   \n",
       "1    2010-01-05 16:52:16.0000002         16.9  2010-01-05 16:52:16 UTC   \n",
       "2   2011-08-18 00:35:00.00000049          5.7  2011-08-18 00:35:00 UTC   \n",
       "3    2012-04-21 04:30:42.0000001          7.7  2012-04-21 04:30:42 UTC   \n",
       "4  2010-03-09 07:51:00.000000135          5.3  2010-03-09 07:51:00 UTC   \n",
       "\n",
       "   pickup_longitude  pickup_latitude  dropoff_longitude  dropoff_latitude  \\\n",
       "0        -73.844311        40.721319         -73.841610         40.712278   \n",
       "1        -74.016048        40.711303         -73.979268         40.782004   \n",
       "2        -73.982738        40.761270         -73.991242         40.750562   \n",
       "3        -73.987130        40.733143         -73.991567         40.758092   \n",
       "4        -73.968095        40.768008         -73.956655         40.783762   \n",
       "\n",
       "   passenger_count  \n",
       "0                1  \n",
       "1                1  \n",
       "2                2  \n",
       "3                1  \n",
       "4                1  "
      ]
     },
     "execution_count": 6,
     "metadata": {},
     "output_type": "execute_result"
    }
   ],
   "source": [
    "df.head()"
   ]
  },
  {
   "cell_type": "markdown",
   "metadata": {},
   "source": [
    "Note that there are very few columns"
   ]
  },
  {
   "cell_type": "code",
   "execution_count": 7,
   "metadata": {},
   "outputs": [
    {
     "data": {
      "text/html": [
       "<div>\n",
       "<style scoped>\n",
       "    .dataframe tbody tr th:only-of-type {\n",
       "        vertical-align: middle;\n",
       "    }\n",
       "\n",
       "    .dataframe tbody tr th {\n",
       "        vertical-align: top;\n",
       "    }\n",
       "\n",
       "    .dataframe thead th {\n",
       "        text-align: right;\n",
       "    }\n",
       "</style>\n",
       "<table border=\"1\" class=\"dataframe\">\n",
       "  <thead>\n",
       "    <tr style=\"text-align: right;\">\n",
       "      <th></th>\n",
       "      <th>fare_amount</th>\n",
       "      <th>pickup_longitude</th>\n",
       "      <th>pickup_latitude</th>\n",
       "      <th>dropoff_longitude</th>\n",
       "      <th>dropoff_latitude</th>\n",
       "      <th>passenger_count</th>\n",
       "    </tr>\n",
       "  </thead>\n",
       "  <tbody>\n",
       "    <tr>\n",
       "      <th>count</th>\n",
       "      <td>2.500000e+06</td>\n",
       "      <td>2.500000e+06</td>\n",
       "      <td>2.500000e+06</td>\n",
       "      <td>2.499981e+06</td>\n",
       "      <td>2.499981e+06</td>\n",
       "      <td>2.500000e+06</td>\n",
       "    </tr>\n",
       "    <tr>\n",
       "      <th>mean</th>\n",
       "      <td>1.134467e+01</td>\n",
       "      <td>-7.251697e+01</td>\n",
       "      <td>3.992710e+01</td>\n",
       "      <td>-7.251614e+01</td>\n",
       "      <td>3.992419e+01</td>\n",
       "      <td>1.684222e+00</td>\n",
       "    </tr>\n",
       "    <tr>\n",
       "      <th>std</th>\n",
       "      <td>9.838472e+00</td>\n",
       "      <td>1.286145e+01</td>\n",
       "      <td>8.343414e+00</td>\n",
       "      <td>1.267979e+01</td>\n",
       "      <td>1.007531e+01</td>\n",
       "      <td>1.326494e+00</td>\n",
       "    </tr>\n",
       "    <tr>\n",
       "      <th>min</th>\n",
       "      <td>-6.200000e+01</td>\n",
       "      <td>-3.377681e+03</td>\n",
       "      <td>-3.458665e+03</td>\n",
       "      <td>-3.383297e+03</td>\n",
       "      <td>-3.461541e+03</td>\n",
       "      <td>0.000000e+00</td>\n",
       "    </tr>\n",
       "    <tr>\n",
       "      <th>25%</th>\n",
       "      <td>6.000000e+00</td>\n",
       "      <td>-7.399207e+01</td>\n",
       "      <td>4.073492e+01</td>\n",
       "      <td>-7.399139e+01</td>\n",
       "      <td>4.073402e+01</td>\n",
       "      <td>1.000000e+00</td>\n",
       "    </tr>\n",
       "    <tr>\n",
       "      <th>50%</th>\n",
       "      <td>8.500000e+00</td>\n",
       "      <td>-7.398181e+01</td>\n",
       "      <td>4.075263e+01</td>\n",
       "      <td>-7.398016e+01</td>\n",
       "      <td>4.075315e+01</td>\n",
       "      <td>1.000000e+00</td>\n",
       "    </tr>\n",
       "    <tr>\n",
       "      <th>75%</th>\n",
       "      <td>1.250000e+01</td>\n",
       "      <td>-7.396712e+01</td>\n",
       "      <td>4.076711e+01</td>\n",
       "      <td>-7.396368e+01</td>\n",
       "      <td>4.076811e+01</td>\n",
       "      <td>2.000000e+00</td>\n",
       "    </tr>\n",
       "    <tr>\n",
       "      <th>max</th>\n",
       "      <td>1.273310e+03</td>\n",
       "      <td>2.856442e+03</td>\n",
       "      <td>2.912465e+03</td>\n",
       "      <td>3.414307e+03</td>\n",
       "      <td>3.345917e+03</td>\n",
       "      <td>2.080000e+02</td>\n",
       "    </tr>\n",
       "  </tbody>\n",
       "</table>\n",
       "</div>"
      ],
      "text/plain": [
       "        fare_amount  pickup_longitude  pickup_latitude  dropoff_longitude  \\\n",
       "count  2.500000e+06      2.500000e+06     2.500000e+06       2.499981e+06   \n",
       "mean   1.134467e+01     -7.251697e+01     3.992710e+01      -7.251614e+01   \n",
       "std    9.838472e+00      1.286145e+01     8.343414e+00       1.267979e+01   \n",
       "min   -6.200000e+01     -3.377681e+03    -3.458665e+03      -3.383297e+03   \n",
       "25%    6.000000e+00     -7.399207e+01     4.073492e+01      -7.399139e+01   \n",
       "50%    8.500000e+00     -7.398181e+01     4.075263e+01      -7.398016e+01   \n",
       "75%    1.250000e+01     -7.396712e+01     4.076711e+01      -7.396368e+01   \n",
       "max    1.273310e+03      2.856442e+03     2.912465e+03       3.414307e+03   \n",
       "\n",
       "       dropoff_latitude  passenger_count  \n",
       "count      2.499981e+06     2.500000e+06  \n",
       "mean       3.992419e+01     1.684222e+00  \n",
       "std        1.007531e+01     1.326494e+00  \n",
       "min       -3.461541e+03     0.000000e+00  \n",
       "25%        4.073402e+01     1.000000e+00  \n",
       "50%        4.075315e+01     1.000000e+00  \n",
       "75%        4.076811e+01     2.000000e+00  \n",
       "max        3.345917e+03     2.080000e+02  "
      ]
     },
     "execution_count": 7,
     "metadata": {},
     "output_type": "execute_result"
    }
   ],
   "source": [
    "df.describe()"
   ]
  },
  {
   "cell_type": "markdown",
   "metadata": {},
   "source": [
    "The min and max fare look totally unrealistic. Also note that there are more pickups than dropoffs."
   ]
  },
  {
   "cell_type": "code",
   "execution_count": 8,
   "metadata": {},
   "outputs": [
    {
     "name": "stdout",
     "output_type": "stream",
     "text": [
      "<class 'pandas.core.frame.DataFrame'>\n",
      "RangeIndex: 2500000 entries, 0 to 2499999\n",
      "Data columns (total 8 columns):\n",
      "key                  object\n",
      "fare_amount          float64\n",
      "pickup_datetime      object\n",
      "pickup_longitude     float64\n",
      "pickup_latitude      float64\n",
      "dropoff_longitude    float64\n",
      "dropoff_latitude     float64\n",
      "passenger_count      int64\n",
      "dtypes: float64(5), int64(1), object(2)\n",
      "memory usage: 152.6+ MB\n"
     ]
    }
   ],
   "source": [
    "df.info()"
   ]
  },
  {
   "cell_type": "markdown",
   "metadata": {},
   "source": [
    "Datetime values need to be converted. When opening again, it's worth parsing the dates."
   ]
  },
  {
   "cell_type": "markdown",
   "metadata": {},
   "source": [
    "### NaN Values"
   ]
  },
  {
   "cell_type": "code",
   "execution_count": 9,
   "metadata": {},
   "outputs": [
    {
     "data": {
      "text/plain": [
       "19"
      ]
     },
     "execution_count": 9,
     "metadata": {},
     "output_type": "execute_result"
    }
   ],
   "source": [
    "# Count number of reviews with no dropoff latitude\n",
    "df.dropoff_latitude.isnull().sum()"
   ]
  },
  {
   "cell_type": "code",
   "execution_count": 10,
   "metadata": {},
   "outputs": [],
   "source": [
    "# Check for null values\n",
    "dfn = df[df.isnull().any(axis=1)]"
   ]
  },
  {
   "cell_type": "code",
   "execution_count": 11,
   "metadata": {},
   "outputs": [
    {
     "data": {
      "text/html": [
       "<div>\n",
       "<style scoped>\n",
       "    .dataframe tbody tr th:only-of-type {\n",
       "        vertical-align: middle;\n",
       "    }\n",
       "\n",
       "    .dataframe tbody tr th {\n",
       "        vertical-align: top;\n",
       "    }\n",
       "\n",
       "    .dataframe thead th {\n",
       "        text-align: right;\n",
       "    }\n",
       "</style>\n",
       "<table border=\"1\" class=\"dataframe\">\n",
       "  <thead>\n",
       "    <tr style=\"text-align: right;\">\n",
       "      <th></th>\n",
       "      <th>key</th>\n",
       "      <th>fare_amount</th>\n",
       "      <th>pickup_datetime</th>\n",
       "      <th>pickup_longitude</th>\n",
       "      <th>pickup_latitude</th>\n",
       "      <th>dropoff_longitude</th>\n",
       "      <th>dropoff_latitude</th>\n",
       "      <th>passenger_count</th>\n",
       "    </tr>\n",
       "  </thead>\n",
       "  <tbody>\n",
       "    <tr>\n",
       "      <th>120227</th>\n",
       "      <td>2012-12-11 12:57:00.00000013</td>\n",
       "      <td>12.5</td>\n",
       "      <td>2012-12-11 12:57:00 UTC</td>\n",
       "      <td>-73.992760</td>\n",
       "      <td>40.743098</td>\n",
       "      <td>NaN</td>\n",
       "      <td>NaN</td>\n",
       "      <td>0</td>\n",
       "    </tr>\n",
       "    <tr>\n",
       "      <th>245696</th>\n",
       "      <td>2013-03-21 18:07:07.0000001</td>\n",
       "      <td>86.5</td>\n",
       "      <td>2013-03-21 18:07:07 UTC</td>\n",
       "      <td>-73.991572</td>\n",
       "      <td>40.740591</td>\n",
       "      <td>NaN</td>\n",
       "      <td>NaN</td>\n",
       "      <td>0</td>\n",
       "    </tr>\n",
       "    <tr>\n",
       "      <th>340533</th>\n",
       "      <td>2012-12-11 12:50:52.00000010</td>\n",
       "      <td>27.5</td>\n",
       "      <td>2012-12-11 12:50:52 UTC</td>\n",
       "      <td>-73.979639</td>\n",
       "      <td>40.784742</td>\n",
       "      <td>NaN</td>\n",
       "      <td>NaN</td>\n",
       "      <td>0</td>\n",
       "    </tr>\n",
       "    <tr>\n",
       "      <th>428108</th>\n",
       "      <td>2011-09-08 09:12:52.0000001</td>\n",
       "      <td>11.8</td>\n",
       "      <td>2011-09-08 09:12:52 UTC</td>\n",
       "      <td>-73.987041</td>\n",
       "      <td>40.751542</td>\n",
       "      <td>NaN</td>\n",
       "      <td>NaN</td>\n",
       "      <td>0</td>\n",
       "    </tr>\n",
       "    <tr>\n",
       "      <th>471472</th>\n",
       "      <td>2012-12-11 12:34:20.0000006</td>\n",
       "      <td>7.8</td>\n",
       "      <td>2012-12-11 12:34:20 UTC</td>\n",
       "      <td>0.000000</td>\n",
       "      <td>0.000000</td>\n",
       "      <td>NaN</td>\n",
       "      <td>NaN</td>\n",
       "      <td>0</td>\n",
       "    </tr>\n",
       "  </tbody>\n",
       "</table>\n",
       "</div>"
      ],
      "text/plain": [
       "                                 key  fare_amount          pickup_datetime  \\\n",
       "120227  2012-12-11 12:57:00.00000013         12.5  2012-12-11 12:57:00 UTC   \n",
       "245696   2013-03-21 18:07:07.0000001         86.5  2013-03-21 18:07:07 UTC   \n",
       "340533  2012-12-11 12:50:52.00000010         27.5  2012-12-11 12:50:52 UTC   \n",
       "428108   2011-09-08 09:12:52.0000001         11.8  2011-09-08 09:12:52 UTC   \n",
       "471472   2012-12-11 12:34:20.0000006          7.8  2012-12-11 12:34:20 UTC   \n",
       "\n",
       "        pickup_longitude  pickup_latitude  dropoff_longitude  \\\n",
       "120227        -73.992760        40.743098                NaN   \n",
       "245696        -73.991572        40.740591                NaN   \n",
       "340533        -73.979639        40.784742                NaN   \n",
       "428108        -73.987041        40.751542                NaN   \n",
       "471472          0.000000         0.000000                NaN   \n",
       "\n",
       "        dropoff_latitude  passenger_count  \n",
       "120227               NaN                0  \n",
       "245696               NaN                0  \n",
       "340533               NaN                0  \n",
       "428108               NaN                0  \n",
       "471472               NaN                0  "
      ]
     },
     "execution_count": 11,
     "metadata": {},
     "output_type": "execute_result"
    }
   ],
   "source": [
    "# Display null values\n",
    "dfn.head()"
   ]
  },
  {
   "cell_type": "markdown",
   "metadata": {},
   "source": [
    "Since these rows all include fare amounts, they should be eliminated from the data. Had the cab just been running idle, the dropoff and pickup would have the same coordinates. Also note the pickup coordinates of 0. This must also be an error."
   ]
  },
  {
   "cell_type": "code",
   "execution_count": 12,
   "metadata": {},
   "outputs": [],
   "source": [
    "# Eliminate null values\n",
    "df = df.dropna(axis=0, subset=['dropoff_latitude'])"
   ]
  },
  {
   "cell_type": "code",
   "execution_count": 13,
   "metadata": {},
   "outputs": [
    {
     "data": {
      "text/html": [
       "<div>\n",
       "<style scoped>\n",
       "    .dataframe tbody tr th:only-of-type {\n",
       "        vertical-align: middle;\n",
       "    }\n",
       "\n",
       "    .dataframe tbody tr th {\n",
       "        vertical-align: top;\n",
       "    }\n",
       "\n",
       "    .dataframe thead th {\n",
       "        text-align: right;\n",
       "    }\n",
       "</style>\n",
       "<table border=\"1\" class=\"dataframe\">\n",
       "  <thead>\n",
       "    <tr style=\"text-align: right;\">\n",
       "      <th></th>\n",
       "      <th>fare_amount</th>\n",
       "      <th>pickup_longitude</th>\n",
       "      <th>pickup_latitude</th>\n",
       "      <th>dropoff_longitude</th>\n",
       "      <th>dropoff_latitude</th>\n",
       "      <th>passenger_count</th>\n",
       "    </tr>\n",
       "  </thead>\n",
       "  <tbody>\n",
       "    <tr>\n",
       "      <th>count</th>\n",
       "      <td>2.499981e+06</td>\n",
       "      <td>2.499981e+06</td>\n",
       "      <td>2.499981e+06</td>\n",
       "      <td>2.499981e+06</td>\n",
       "      <td>2.499981e+06</td>\n",
       "      <td>2.499981e+06</td>\n",
       "    </tr>\n",
       "    <tr>\n",
       "      <th>mean</th>\n",
       "      <td>1.134458e+01</td>\n",
       "      <td>-7.251699e+01</td>\n",
       "      <td>3.992711e+01</td>\n",
       "      <td>-7.251614e+01</td>\n",
       "      <td>3.992419e+01</td>\n",
       "      <td>1.684234e+00</td>\n",
       "    </tr>\n",
       "    <tr>\n",
       "      <th>std</th>\n",
       "      <td>9.838256e+00</td>\n",
       "      <td>1.286141e+01</td>\n",
       "      <td>8.343408e+00</td>\n",
       "      <td>1.267979e+01</td>\n",
       "      <td>1.007531e+01</td>\n",
       "      <td>1.326491e+00</td>\n",
       "    </tr>\n",
       "    <tr>\n",
       "      <th>min</th>\n",
       "      <td>-6.200000e+01</td>\n",
       "      <td>-3.377681e+03</td>\n",
       "      <td>-3.458665e+03</td>\n",
       "      <td>-3.383297e+03</td>\n",
       "      <td>-3.461541e+03</td>\n",
       "      <td>0.000000e+00</td>\n",
       "    </tr>\n",
       "    <tr>\n",
       "      <th>25%</th>\n",
       "      <td>6.000000e+00</td>\n",
       "      <td>-7.399207e+01</td>\n",
       "      <td>4.073492e+01</td>\n",
       "      <td>-7.399139e+01</td>\n",
       "      <td>4.073402e+01</td>\n",
       "      <td>1.000000e+00</td>\n",
       "    </tr>\n",
       "    <tr>\n",
       "      <th>50%</th>\n",
       "      <td>8.500000e+00</td>\n",
       "      <td>-7.398181e+01</td>\n",
       "      <td>4.075263e+01</td>\n",
       "      <td>-7.398016e+01</td>\n",
       "      <td>4.075315e+01</td>\n",
       "      <td>1.000000e+00</td>\n",
       "    </tr>\n",
       "    <tr>\n",
       "      <th>75%</th>\n",
       "      <td>1.250000e+01</td>\n",
       "      <td>-7.396712e+01</td>\n",
       "      <td>4.076711e+01</td>\n",
       "      <td>-7.396368e+01</td>\n",
       "      <td>4.076811e+01</td>\n",
       "      <td>2.000000e+00</td>\n",
       "    </tr>\n",
       "    <tr>\n",
       "      <th>max</th>\n",
       "      <td>1.273310e+03</td>\n",
       "      <td>2.856442e+03</td>\n",
       "      <td>2.912465e+03</td>\n",
       "      <td>3.414307e+03</td>\n",
       "      <td>3.345917e+03</td>\n",
       "      <td>2.080000e+02</td>\n",
       "    </tr>\n",
       "  </tbody>\n",
       "</table>\n",
       "</div>"
      ],
      "text/plain": [
       "        fare_amount  pickup_longitude  pickup_latitude  dropoff_longitude  \\\n",
       "count  2.499981e+06      2.499981e+06     2.499981e+06       2.499981e+06   \n",
       "mean   1.134458e+01     -7.251699e+01     3.992711e+01      -7.251614e+01   \n",
       "std    9.838256e+00      1.286141e+01     8.343408e+00       1.267979e+01   \n",
       "min   -6.200000e+01     -3.377681e+03    -3.458665e+03      -3.383297e+03   \n",
       "25%    6.000000e+00     -7.399207e+01     4.073492e+01      -7.399139e+01   \n",
       "50%    8.500000e+00     -7.398181e+01     4.075263e+01      -7.398016e+01   \n",
       "75%    1.250000e+01     -7.396712e+01     4.076711e+01      -7.396368e+01   \n",
       "max    1.273310e+03      2.856442e+03     2.912465e+03       3.414307e+03   \n",
       "\n",
       "       dropoff_latitude  passenger_count  \n",
       "count      2.499981e+06     2.499981e+06  \n",
       "mean       3.992419e+01     1.684234e+00  \n",
       "std        1.007531e+01     1.326491e+00  \n",
       "min       -3.461541e+03     0.000000e+00  \n",
       "25%        4.073402e+01     1.000000e+00  \n",
       "50%        4.075315e+01     1.000000e+00  \n",
       "75%        4.076811e+01     2.000000e+00  \n",
       "max        3.345917e+03     2.080000e+02  "
      ]
     },
     "execution_count": 13,
     "metadata": {},
     "output_type": "execute_result"
    }
   ],
   "source": [
    "# Verify that counts are the same\n",
    "df.describe()"
   ]
  },
  {
   "cell_type": "markdown",
   "metadata": {},
   "source": [
    "### Latitude Longitude Corrections"
   ]
  },
  {
   "cell_type": "markdown",
   "metadata": {},
   "source": [
    "According to https://www.mapdevelopers.com/geocode_bounding_box.php, New York City has the following bounds: \n",
    "\n",
    "North Latitude: 40.917577 \n",
    "\n",
    "South Latitude: 40.477399 \n",
    "\n",
    "East Longitude: -73.700272 \n",
    "\n",
    "West Longitude: -74.259090\n",
    "\n",
    "All NYC Cab_Rides should at least start in the city."
   ]
  },
  {
   "cell_type": "code",
   "execution_count": 14,
   "metadata": {},
   "outputs": [],
   "source": [
    "# Find cab rides whose pickup or dropoff are within NYC boundaries\n",
    "# Declare constants\n",
    "latmin = 40.477399\n",
    "latmax = 40.917577\n",
    "longmin = -74.259090\n",
    "longmax = -73.700272\n",
    "\n",
    "# Create dataframe with correct coordinates\n",
    "df = df[((((df['pickup_longitude']<=longmax) & (df['pickup_longitude']>=longmin)) & ((df['pickup_latitude']<=latmax) & (df['pickup_latitude']>=latmin)))) | ((((df['dropoff_longitude']<=longmax) % (df['dropoff_longitude']>=longmin)) & ((df['dropoff_latitude']<=latmax) & (df['dropoff_latitude']>=latmin))))]"
   ]
  },
  {
   "cell_type": "code",
   "execution_count": 15,
   "metadata": {},
   "outputs": [
    {
     "data": {
      "text/html": [
       "<div>\n",
       "<style scoped>\n",
       "    .dataframe tbody tr th:only-of-type {\n",
       "        vertical-align: middle;\n",
       "    }\n",
       "\n",
       "    .dataframe tbody tr th {\n",
       "        vertical-align: top;\n",
       "    }\n",
       "\n",
       "    .dataframe thead th {\n",
       "        text-align: right;\n",
       "    }\n",
       "</style>\n",
       "<table border=\"1\" class=\"dataframe\">\n",
       "  <thead>\n",
       "    <tr style=\"text-align: right;\">\n",
       "      <th></th>\n",
       "      <th>fare_amount</th>\n",
       "      <th>pickup_longitude</th>\n",
       "      <th>pickup_latitude</th>\n",
       "      <th>dropoff_longitude</th>\n",
       "      <th>dropoff_latitude</th>\n",
       "      <th>passenger_count</th>\n",
       "    </tr>\n",
       "  </thead>\n",
       "  <tbody>\n",
       "    <tr>\n",
       "      <th>count</th>\n",
       "      <td>2.448181e+06</td>\n",
       "      <td>2.448181e+06</td>\n",
       "      <td>2.448181e+06</td>\n",
       "      <td>2.448181e+06</td>\n",
       "      <td>2.448181e+06</td>\n",
       "      <td>2.448181e+06</td>\n",
       "    </tr>\n",
       "    <tr>\n",
       "      <th>mean</th>\n",
       "      <td>1.131885e+01</td>\n",
       "      <td>-7.397549e+01</td>\n",
       "      <td>4.075082e+01</td>\n",
       "      <td>-7.391202e+01</td>\n",
       "      <td>4.071625e+01</td>\n",
       "      <td>1.684248e+00</td>\n",
       "    </tr>\n",
       "    <tr>\n",
       "      <th>std</th>\n",
       "      <td>9.659214e+00</td>\n",
       "      <td>3.454573e-02</td>\n",
       "      <td>2.694462e-02</td>\n",
       "      <td>3.547697e+00</td>\n",
       "      <td>4.328501e+00</td>\n",
       "      <td>1.307127e+00</td>\n",
       "    </tr>\n",
       "    <tr>\n",
       "      <th>min</th>\n",
       "      <td>-6.200000e+01</td>\n",
       "      <td>-7.425882e+01</td>\n",
       "      <td>4.048254e+01</td>\n",
       "      <td>-2.125745e+03</td>\n",
       "      <td>-3.114339e+03</td>\n",
       "      <td>0.000000e+00</td>\n",
       "    </tr>\n",
       "    <tr>\n",
       "      <th>25%</th>\n",
       "      <td>6.000000e+00</td>\n",
       "      <td>-7.399228e+01</td>\n",
       "      <td>4.073654e+01</td>\n",
       "      <td>-7.399158e+01</td>\n",
       "      <td>4.073548e+01</td>\n",
       "      <td>1.000000e+00</td>\n",
       "    </tr>\n",
       "    <tr>\n",
       "      <th>50%</th>\n",
       "      <td>8.500000e+00</td>\n",
       "      <td>-7.398210e+01</td>\n",
       "      <td>4.075333e+01</td>\n",
       "      <td>-7.398060e+01</td>\n",
       "      <td>4.075382e+01</td>\n",
       "      <td>1.000000e+00</td>\n",
       "    </tr>\n",
       "    <tr>\n",
       "      <th>75%</th>\n",
       "      <td>1.250000e+01</td>\n",
       "      <td>-7.396836e+01</td>\n",
       "      <td>4.076750e+01</td>\n",
       "      <td>-7.396531e+01</td>\n",
       "      <td>4.076838e+01</td>\n",
       "      <td>2.000000e+00</td>\n",
       "    </tr>\n",
       "    <tr>\n",
       "      <th>max</th>\n",
       "      <td>5.000000e+02</td>\n",
       "      <td>-7.370044e+01</td>\n",
       "      <td>4.091748e+01</td>\n",
       "      <td>1.328726e+03</td>\n",
       "      <td>3.210337e+03</td>\n",
       "      <td>9.000000e+00</td>\n",
       "    </tr>\n",
       "  </tbody>\n",
       "</table>\n",
       "</div>"
      ],
      "text/plain": [
       "        fare_amount  pickup_longitude  pickup_latitude  dropoff_longitude  \\\n",
       "count  2.448181e+06      2.448181e+06     2.448181e+06       2.448181e+06   \n",
       "mean   1.131885e+01     -7.397549e+01     4.075082e+01      -7.391202e+01   \n",
       "std    9.659214e+00      3.454573e-02     2.694462e-02       3.547697e+00   \n",
       "min   -6.200000e+01     -7.425882e+01     4.048254e+01      -2.125745e+03   \n",
       "25%    6.000000e+00     -7.399228e+01     4.073654e+01      -7.399158e+01   \n",
       "50%    8.500000e+00     -7.398210e+01     4.075333e+01      -7.398060e+01   \n",
       "75%    1.250000e+01     -7.396836e+01     4.076750e+01      -7.396531e+01   \n",
       "max    5.000000e+02     -7.370044e+01     4.091748e+01       1.328726e+03   \n",
       "\n",
       "       dropoff_latitude  passenger_count  \n",
       "count      2.448181e+06     2.448181e+06  \n",
       "mean       4.071625e+01     1.684248e+00  \n",
       "std        4.328501e+00     1.307127e+00  \n",
       "min       -3.114339e+03     0.000000e+00  \n",
       "25%        4.073548e+01     1.000000e+00  \n",
       "50%        4.075382e+01     1.000000e+00  \n",
       "75%        4.076838e+01     2.000000e+00  \n",
       "max        3.210337e+03     9.000000e+00  "
      ]
     },
     "execution_count": 15,
     "metadata": {},
     "output_type": "execute_result"
    }
   ],
   "source": [
    "df.describe()"
   ]
  },
  {
   "cell_type": "markdown",
   "metadata": {},
   "source": [
    "Some of the entries still don't make sense. Whereas the pickup might be correct, the min/max dropoffs are quite extreme."
   ]
  },
  {
   "cell_type": "markdown",
   "metadata": {},
   "source": [
    "According to https://www.mapdevelopers.com/geocode_bounding_box.php, the boundary of the United States is as follows.\n",
    "\n",
    "North Latitude: 71.538800 \n",
    "\n",
    "South Latitude: 18.776300 \n",
    "\n",
    "East Longitude: -66.885417 \n",
    "\n",
    "West Longitude: 170.595700\n",
    "\n",
    "Sticking to the Mainland, California gives the following:\n",
    "West Longitude: -124.482003"
   ]
  },
  {
   "cell_type": "code",
   "execution_count": 16,
   "metadata": {},
   "outputs": [],
   "source": [
    "# Choose cab rides whose pickup and dropoff are the US Mainland\n",
    "# Declare constants\n",
    "latmin = 5.496100\n",
    "latmax = 71.538800\n",
    "longmin = -124.482003\n",
    "longmax = -66.885417\n",
    "\n",
    "# Create dataframe with correct coordinates\n",
    "df = df[((((df['pickup_longitude']<=longmax) & (df['pickup_longitude']>=longmin)) & ((df['pickup_latitude']<=latmax) & (df['pickup_latitude']>=latmin)))) & ((((df['dropoff_longitude']<=longmax) & (df['dropoff_longitude']>=longmin)) & ((df['dropoff_latitude']<=latmax) & (df['dropoff_latitude']>=latmin))))]"
   ]
  },
  {
   "cell_type": "code",
   "execution_count": 17,
   "metadata": {},
   "outputs": [
    {
     "data": {
      "text/html": [
       "<div>\n",
       "<style scoped>\n",
       "    .dataframe tbody tr th:only-of-type {\n",
       "        vertical-align: middle;\n",
       "    }\n",
       "\n",
       "    .dataframe tbody tr th {\n",
       "        vertical-align: top;\n",
       "    }\n",
       "\n",
       "    .dataframe thead th {\n",
       "        text-align: right;\n",
       "    }\n",
       "</style>\n",
       "<table border=\"1\" class=\"dataframe\">\n",
       "  <thead>\n",
       "    <tr style=\"text-align: right;\">\n",
       "      <th></th>\n",
       "      <th>fare_amount</th>\n",
       "      <th>pickup_longitude</th>\n",
       "      <th>pickup_latitude</th>\n",
       "      <th>dropoff_longitude</th>\n",
       "      <th>dropoff_latitude</th>\n",
       "      <th>passenger_count</th>\n",
       "    </tr>\n",
       "  </thead>\n",
       "  <tbody>\n",
       "    <tr>\n",
       "      <th>count</th>\n",
       "      <td>2.445787e+06</td>\n",
       "      <td>2.445787e+06</td>\n",
       "      <td>2.445787e+06</td>\n",
       "      <td>2.445787e+06</td>\n",
       "      <td>2.445787e+06</td>\n",
       "      <td>2.445787e+06</td>\n",
       "    </tr>\n",
       "    <tr>\n",
       "      <th>mean</th>\n",
       "      <td>1.131492e+01</td>\n",
       "      <td>-7.397550e+01</td>\n",
       "      <td>4.075082e+01</td>\n",
       "      <td>-7.397456e+01</td>\n",
       "      <td>4.075114e+01</td>\n",
       "      <td>1.684259e+00</td>\n",
       "    </tr>\n",
       "    <tr>\n",
       "      <th>std</th>\n",
       "      <td>9.644843e+00</td>\n",
       "      <td>3.451188e-02</td>\n",
       "      <td>2.693137e-02</td>\n",
       "      <td>3.888050e-02</td>\n",
       "      <td>5.367417e-02</td>\n",
       "      <td>1.307023e+00</td>\n",
       "    </tr>\n",
       "    <tr>\n",
       "      <th>min</th>\n",
       "      <td>-6.200000e+01</td>\n",
       "      <td>-7.425882e+01</td>\n",
       "      <td>4.048254e+01</td>\n",
       "      <td>-8.680412e+01</td>\n",
       "      <td>5.500000e+00</td>\n",
       "      <td>0.000000e+00</td>\n",
       "    </tr>\n",
       "    <tr>\n",
       "      <th>25%</th>\n",
       "      <td>6.000000e+00</td>\n",
       "      <td>-7.399228e+01</td>\n",
       "      <td>4.073655e+01</td>\n",
       "      <td>-7.399159e+01</td>\n",
       "      <td>4.073555e+01</td>\n",
       "      <td>1.000000e+00</td>\n",
       "    </tr>\n",
       "    <tr>\n",
       "      <th>50%</th>\n",
       "      <td>8.500000e+00</td>\n",
       "      <td>-7.398211e+01</td>\n",
       "      <td>4.075334e+01</td>\n",
       "      <td>-7.398062e+01</td>\n",
       "      <td>4.075384e+01</td>\n",
       "      <td>1.000000e+00</td>\n",
       "    </tr>\n",
       "    <tr>\n",
       "      <th>75%</th>\n",
       "      <td>1.250000e+01</td>\n",
       "      <td>-7.396837e+01</td>\n",
       "      <td>4.076750e+01</td>\n",
       "      <td>-7.396539e+01</td>\n",
       "      <td>4.076839e+01</td>\n",
       "      <td>2.000000e+00</td>\n",
       "    </tr>\n",
       "    <tr>\n",
       "      <th>max</th>\n",
       "      <td>5.000000e+02</td>\n",
       "      <td>-7.370044e+01</td>\n",
       "      <td>4.091748e+01</td>\n",
       "      <td>-6.813470e+01</td>\n",
       "      <td>5.578333e+01</td>\n",
       "      <td>9.000000e+00</td>\n",
       "    </tr>\n",
       "  </tbody>\n",
       "</table>\n",
       "</div>"
      ],
      "text/plain": [
       "        fare_amount  pickup_longitude  pickup_latitude  dropoff_longitude  \\\n",
       "count  2.445787e+06      2.445787e+06     2.445787e+06       2.445787e+06   \n",
       "mean   1.131492e+01     -7.397550e+01     4.075082e+01      -7.397456e+01   \n",
       "std    9.644843e+00      3.451188e-02     2.693137e-02       3.888050e-02   \n",
       "min   -6.200000e+01     -7.425882e+01     4.048254e+01      -8.680412e+01   \n",
       "25%    6.000000e+00     -7.399228e+01     4.073655e+01      -7.399159e+01   \n",
       "50%    8.500000e+00     -7.398211e+01     4.075334e+01      -7.398062e+01   \n",
       "75%    1.250000e+01     -7.396837e+01     4.076750e+01      -7.396539e+01   \n",
       "max    5.000000e+02     -7.370044e+01     4.091748e+01      -6.813470e+01   \n",
       "\n",
       "       dropoff_latitude  passenger_count  \n",
       "count      2.445787e+06     2.445787e+06  \n",
       "mean       4.075114e+01     1.684259e+00  \n",
       "std        5.367417e-02     1.307023e+00  \n",
       "min        5.500000e+00     0.000000e+00  \n",
       "25%        4.073555e+01     1.000000e+00  \n",
       "50%        4.075384e+01     1.000000e+00  \n",
       "75%        4.076839e+01     2.000000e+00  \n",
       "max        5.578333e+01     9.000000e+00  "
      ]
     },
     "execution_count": 17,
     "metadata": {},
     "output_type": "execute_result"
    }
   ],
   "source": [
    "df.describe()"
   ]
  },
  {
   "cell_type": "markdown",
   "metadata": {},
   "source": [
    "### Fare / Passenger Count Corrections"
   ]
  },
  {
   "cell_type": "markdown",
   "metadata": {},
   "source": [
    "There still appear to be anomalies. There should not be 0 passengers in a taxi. According to https://www1.nyc.gov/nyc-resources/faq/484/how-many-passengers-are-allowed-in-a-taxiIf, 4 or 5 people are allowed in a taxi, plus one child under 9."
   ]
  },
  {
   "cell_type": "code",
   "execution_count": 18,
   "metadata": {},
   "outputs": [],
   "source": [
    "# Only choose cabs between 1 and 6 riders\n",
    "df = df[(df['passenger_count'] < 7) & (df['passenger_count'] > 0)]"
   ]
  },
  {
   "cell_type": "code",
   "execution_count": 19,
   "metadata": {},
   "outputs": [
    {
     "data": {
      "text/html": [
       "<div>\n",
       "<style scoped>\n",
       "    .dataframe tbody tr th:only-of-type {\n",
       "        vertical-align: middle;\n",
       "    }\n",
       "\n",
       "    .dataframe tbody tr th {\n",
       "        vertical-align: top;\n",
       "    }\n",
       "\n",
       "    .dataframe thead th {\n",
       "        text-align: right;\n",
       "    }\n",
       "</style>\n",
       "<table border=\"1\" class=\"dataframe\">\n",
       "  <thead>\n",
       "    <tr style=\"text-align: right;\">\n",
       "      <th></th>\n",
       "      <th>fare_amount</th>\n",
       "      <th>pickup_longitude</th>\n",
       "      <th>pickup_latitude</th>\n",
       "      <th>dropoff_longitude</th>\n",
       "      <th>dropoff_latitude</th>\n",
       "      <th>passenger_count</th>\n",
       "    </tr>\n",
       "  </thead>\n",
       "  <tbody>\n",
       "    <tr>\n",
       "      <th>count</th>\n",
       "      <td>2.437167e+06</td>\n",
       "      <td>2.437167e+06</td>\n",
       "      <td>2.437167e+06</td>\n",
       "      <td>2.437167e+06</td>\n",
       "      <td>2.437167e+06</td>\n",
       "      <td>2.437167e+06</td>\n",
       "    </tr>\n",
       "    <tr>\n",
       "      <th>mean</th>\n",
       "      <td>1.132348e+01</td>\n",
       "      <td>-7.397549e+01</td>\n",
       "      <td>4.075081e+01</td>\n",
       "      <td>-7.397456e+01</td>\n",
       "      <td>4.075113e+01</td>\n",
       "      <td>1.690212e+00</td>\n",
       "    </tr>\n",
       "    <tr>\n",
       "      <th>std</th>\n",
       "      <td>9.653593e+00</td>\n",
       "      <td>3.452859e-02</td>\n",
       "      <td>2.693567e-02</td>\n",
       "      <td>3.890825e-02</td>\n",
       "      <td>5.374115e-02</td>\n",
       "      <td>1.305474e+00</td>\n",
       "    </tr>\n",
       "    <tr>\n",
       "      <th>min</th>\n",
       "      <td>-6.200000e+01</td>\n",
       "      <td>-7.425882e+01</td>\n",
       "      <td>4.048254e+01</td>\n",
       "      <td>-8.680412e+01</td>\n",
       "      <td>5.500000e+00</td>\n",
       "      <td>1.000000e+00</td>\n",
       "    </tr>\n",
       "    <tr>\n",
       "      <th>25%</th>\n",
       "      <td>6.000000e+00</td>\n",
       "      <td>-7.399228e+01</td>\n",
       "      <td>4.073654e+01</td>\n",
       "      <td>-7.399158e+01</td>\n",
       "      <td>4.073555e+01</td>\n",
       "      <td>1.000000e+00</td>\n",
       "    </tr>\n",
       "    <tr>\n",
       "      <th>50%</th>\n",
       "      <td>8.500000e+00</td>\n",
       "      <td>-7.398211e+01</td>\n",
       "      <td>4.075333e+01</td>\n",
       "      <td>-7.398062e+01</td>\n",
       "      <td>4.075384e+01</td>\n",
       "      <td>1.000000e+00</td>\n",
       "    </tr>\n",
       "    <tr>\n",
       "      <th>75%</th>\n",
       "      <td>1.250000e+01</td>\n",
       "      <td>-7.396837e+01</td>\n",
       "      <td>4.076750e+01</td>\n",
       "      <td>-7.396539e+01</td>\n",
       "      <td>4.076838e+01</td>\n",
       "      <td>2.000000e+00</td>\n",
       "    </tr>\n",
       "    <tr>\n",
       "      <th>max</th>\n",
       "      <td>5.000000e+02</td>\n",
       "      <td>-7.370044e+01</td>\n",
       "      <td>4.091748e+01</td>\n",
       "      <td>-6.813470e+01</td>\n",
       "      <td>5.578333e+01</td>\n",
       "      <td>6.000000e+00</td>\n",
       "    </tr>\n",
       "  </tbody>\n",
       "</table>\n",
       "</div>"
      ],
      "text/plain": [
       "        fare_amount  pickup_longitude  pickup_latitude  dropoff_longitude  \\\n",
       "count  2.437167e+06      2.437167e+06     2.437167e+06       2.437167e+06   \n",
       "mean   1.132348e+01     -7.397549e+01     4.075081e+01      -7.397456e+01   \n",
       "std    9.653593e+00      3.452859e-02     2.693567e-02       3.890825e-02   \n",
       "min   -6.200000e+01     -7.425882e+01     4.048254e+01      -8.680412e+01   \n",
       "25%    6.000000e+00     -7.399228e+01     4.073654e+01      -7.399158e+01   \n",
       "50%    8.500000e+00     -7.398211e+01     4.075333e+01      -7.398062e+01   \n",
       "75%    1.250000e+01     -7.396837e+01     4.076750e+01      -7.396539e+01   \n",
       "max    5.000000e+02     -7.370044e+01     4.091748e+01      -6.813470e+01   \n",
       "\n",
       "       dropoff_latitude  passenger_count  \n",
       "count      2.437167e+06     2.437167e+06  \n",
       "mean       4.075113e+01     1.690212e+00  \n",
       "std        5.374115e-02     1.305474e+00  \n",
       "min        5.500000e+00     1.000000e+00  \n",
       "25%        4.073555e+01     1.000000e+00  \n",
       "50%        4.075384e+01     1.000000e+00  \n",
       "75%        4.076838e+01     2.000000e+00  \n",
       "max        5.578333e+01     6.000000e+00  "
      ]
     },
     "execution_count": 19,
     "metadata": {},
     "output_type": "execute_result"
    }
   ],
   "source": [
    "df.describe()"
   ]
  },
  {
   "cell_type": "markdown",
   "metadata": {},
   "source": [
    "This looks better, but there are still problems with the min max fares. Also, the max fare keeps coming up with a different passenger_count."
   ]
  },
  {
   "cell_type": "code",
   "execution_count": 20,
   "metadata": {},
   "outputs": [
    {
     "data": {
      "text/html": [
       "<div>\n",
       "<style scoped>\n",
       "    .dataframe tbody tr th:only-of-type {\n",
       "        vertical-align: middle;\n",
       "    }\n",
       "\n",
       "    .dataframe tbody tr th {\n",
       "        vertical-align: top;\n",
       "    }\n",
       "\n",
       "    .dataframe thead th {\n",
       "        text-align: right;\n",
       "    }\n",
       "</style>\n",
       "<table border=\"1\" class=\"dataframe\">\n",
       "  <thead>\n",
       "    <tr style=\"text-align: right;\">\n",
       "      <th></th>\n",
       "      <th>key</th>\n",
       "      <th>fare_amount</th>\n",
       "      <th>pickup_datetime</th>\n",
       "      <th>pickup_longitude</th>\n",
       "      <th>pickup_latitude</th>\n",
       "      <th>dropoff_longitude</th>\n",
       "      <th>dropoff_latitude</th>\n",
       "      <th>passenger_count</th>\n",
       "    </tr>\n",
       "  </thead>\n",
       "  <tbody>\n",
       "    <tr>\n",
       "      <th>101885</th>\n",
       "      <td>2011-09-12 09:33:56.0000004</td>\n",
       "      <td>500.0</td>\n",
       "      <td>2011-09-12 09:33:56 UTC</td>\n",
       "      <td>-73.965961</td>\n",
       "      <td>40.640595</td>\n",
       "      <td>-73.965961</td>\n",
       "      <td>40.640595</td>\n",
       "      <td>1</td>\n",
       "    </tr>\n",
       "  </tbody>\n",
       "</table>\n",
       "</div>"
      ],
      "text/plain": [
       "                                key  fare_amount          pickup_datetime  \\\n",
       "101885  2011-09-12 09:33:56.0000004        500.0  2011-09-12 09:33:56 UTC   \n",
       "\n",
       "        pickup_longitude  pickup_latitude  dropoff_longitude  \\\n",
       "101885        -73.965961        40.640595         -73.965961   \n",
       "\n",
       "        dropoff_latitude  passenger_count  \n",
       "101885         40.640595                1  "
      ]
     },
     "execution_count": 20,
     "metadata": {},
     "output_type": "execute_result"
    }
   ],
   "source": [
    "df[df['fare_amount']>=500]"
   ]
  },
  {
   "cell_type": "markdown",
   "metadata": {},
   "source": [
    "It is possible that people are going to California and back, but even so, this messes with the data. We are presuming that the dropoff is the goal destination, but this won't always be the case."
   ]
  },
  {
   "cell_type": "markdown",
   "metadata": {},
   "source": [
    "As for minimums, no one should have a negative cab ride. According to Dr. Google, the NYC Taxi base fare recently increased from 2 to 2.50. A histogram should verify things."
   ]
  },
  {
   "cell_type": "markdown",
   "metadata": {},
   "source": [
    "## Histograms"
   ]
  },
  {
   "cell_type": "code",
   "execution_count": 21,
   "metadata": {},
   "outputs": [
    {
     "data": {
      "image/png": "[encoded data removed]",
      "text/plain": [
       "<Figure size 432x288 with 1 Axes>"
      ]
     },
     "metadata": {},
     "output_type": "display_data"
    }
   ],
   "source": [
    "# Setup Seaborn\n",
    "import seaborn as sns\n",
    "sns.set_style(\"darkgrid\")\n",
    "\n",
    "# Create histogram of 20 bins showing fares from 0 to $20\n",
    "plt.hist(df.fare_amount, bins=21, range=(0,20), ec='white')\n",
    "\n",
    "# Create labels\n",
    "plt.xlabel('$ Cab Fare')\n",
    "plt.ylabel('Passenger Count')\n",
    "plt.title('Cab Fares Under $20 ', fontsize=15)\n",
    "\n",
    "# Save figure\n",
    "plt.savefig(\"Cab_Fares_Under_20_Hist_s\", dpi=300)\n",
    "\n",
    "# Show graph\n",
    "plt.show()"
   ]
  },
  {
   "cell_type": "markdown",
   "metadata": {},
   "source": [
    "The histogram reveals that the mininum cab fare was 2.50 during the time period that the data was collected."
   ]
  },
  {
   "cell_type": "code",
   "execution_count": 22,
   "metadata": {},
   "outputs": [],
   "source": [
    "# Eliminate cab rides less than $2.50\n",
    "df = df[df['fare_amount'] >= 2.50]"
   ]
  },
  {
   "cell_type": "code",
   "execution_count": 23,
   "metadata": {},
   "outputs": [
    {
     "data": {
      "text/html": [
       "<div>\n",
       "<style scoped>\n",
       "    .dataframe tbody tr th:only-of-type {\n",
       "        vertical-align: middle;\n",
       "    }\n",
       "\n",
       "    .dataframe tbody tr th {\n",
       "        vertical-align: top;\n",
       "    }\n",
       "\n",
       "    .dataframe thead th {\n",
       "        text-align: right;\n",
       "    }\n",
       "</style>\n",
       "<table border=\"1\" class=\"dataframe\">\n",
       "  <thead>\n",
       "    <tr style=\"text-align: right;\">\n",
       "      <th></th>\n",
       "      <th>fare_amount</th>\n",
       "      <th>pickup_longitude</th>\n",
       "      <th>pickup_latitude</th>\n",
       "      <th>dropoff_longitude</th>\n",
       "      <th>dropoff_latitude</th>\n",
       "      <th>passenger_count</th>\n",
       "    </tr>\n",
       "  </thead>\n",
       "  <tbody>\n",
       "    <tr>\n",
       "      <th>count</th>\n",
       "      <td>2.437005e+06</td>\n",
       "      <td>2.437005e+06</td>\n",
       "      <td>2.437005e+06</td>\n",
       "      <td>2.437005e+06</td>\n",
       "      <td>2.437005e+06</td>\n",
       "      <td>2.437005e+06</td>\n",
       "    </tr>\n",
       "    <tr>\n",
       "      <th>mean</th>\n",
       "      <td>1.132449e+01</td>\n",
       "      <td>-7.397549e+01</td>\n",
       "      <td>4.075082e+01</td>\n",
       "      <td>-7.397456e+01</td>\n",
       "      <td>4.075113e+01</td>\n",
       "      <td>1.690221e+00</td>\n",
       "    </tr>\n",
       "    <tr>\n",
       "      <th>std</th>\n",
       "      <td>9.652831e+00</td>\n",
       "      <td>3.452646e-02</td>\n",
       "      <td>2.693439e-02</td>\n",
       "      <td>3.890620e-02</td>\n",
       "      <td>5.374167e-02</td>\n",
       "      <td>1.305483e+00</td>\n",
       "    </tr>\n",
       "    <tr>\n",
       "      <th>min</th>\n",
       "      <td>2.500000e+00</td>\n",
       "      <td>-7.425882e+01</td>\n",
       "      <td>4.048254e+01</td>\n",
       "      <td>-8.680412e+01</td>\n",
       "      <td>5.500000e+00</td>\n",
       "      <td>1.000000e+00</td>\n",
       "    </tr>\n",
       "    <tr>\n",
       "      <th>25%</th>\n",
       "      <td>6.000000e+00</td>\n",
       "      <td>-7.399228e+01</td>\n",
       "      <td>4.073654e+01</td>\n",
       "      <td>-7.399158e+01</td>\n",
       "      <td>4.073555e+01</td>\n",
       "      <td>1.000000e+00</td>\n",
       "    </tr>\n",
       "    <tr>\n",
       "      <th>50%</th>\n",
       "      <td>8.500000e+00</td>\n",
       "      <td>-7.398211e+01</td>\n",
       "      <td>4.075333e+01</td>\n",
       "      <td>-7.398062e+01</td>\n",
       "      <td>4.075384e+01</td>\n",
       "      <td>1.000000e+00</td>\n",
       "    </tr>\n",
       "    <tr>\n",
       "      <th>75%</th>\n",
       "      <td>1.250000e+01</td>\n",
       "      <td>-7.396837e+01</td>\n",
       "      <td>4.076750e+01</td>\n",
       "      <td>-7.396539e+01</td>\n",
       "      <td>4.076838e+01</td>\n",
       "      <td>2.000000e+00</td>\n",
       "    </tr>\n",
       "    <tr>\n",
       "      <th>max</th>\n",
       "      <td>5.000000e+02</td>\n",
       "      <td>-7.370044e+01</td>\n",
       "      <td>4.091748e+01</td>\n",
       "      <td>-6.813470e+01</td>\n",
       "      <td>5.578333e+01</td>\n",
       "      <td>6.000000e+00</td>\n",
       "    </tr>\n",
       "  </tbody>\n",
       "</table>\n",
       "</div>"
      ],
      "text/plain": [
       "        fare_amount  pickup_longitude  pickup_latitude  dropoff_longitude  \\\n",
       "count  2.437005e+06      2.437005e+06     2.437005e+06       2.437005e+06   \n",
       "mean   1.132449e+01     -7.397549e+01     4.075082e+01      -7.397456e+01   \n",
       "std    9.652831e+00      3.452646e-02     2.693439e-02       3.890620e-02   \n",
       "min    2.500000e+00     -7.425882e+01     4.048254e+01      -8.680412e+01   \n",
       "25%    6.000000e+00     -7.399228e+01     4.073654e+01      -7.399158e+01   \n",
       "50%    8.500000e+00     -7.398211e+01     4.075333e+01      -7.398062e+01   \n",
       "75%    1.250000e+01     -7.396837e+01     4.076750e+01      -7.396539e+01   \n",
       "max    5.000000e+02     -7.370044e+01     4.091748e+01      -6.813470e+01   \n",
       "\n",
       "       dropoff_latitude  passenger_count  \n",
       "count      2.437005e+06     2.437005e+06  \n",
       "mean       4.075113e+01     1.690221e+00  \n",
       "std        5.374167e-02     1.305483e+00  \n",
       "min        5.500000e+00     1.000000e+00  \n",
       "25%        4.073555e+01     1.000000e+00  \n",
       "50%        4.075384e+01     1.000000e+00  \n",
       "75%        4.076838e+01     2.000000e+00  \n",
       "max        5.578333e+01     6.000000e+00  "
      ]
     },
     "execution_count": 23,
     "metadata": {},
     "output_type": "execute_result"
    }
   ],
   "source": [
    "df.describe()"
   ]
  },
  {
   "cell_type": "markdown",
   "metadata": {},
   "source": [
    "The min fare looks good, but the max seems quite high. Also, the dropoff latitude and longitude of the min are way out of range."
   ]
  },
  {
   "cell_type": "markdown",
   "metadata": {},
   "source": [
    "In the meantime, here is a histogram of all the cab fares."
   ]
  },
  {
   "cell_type": "code",
   "execution_count": 24,
   "metadata": {},
   "outputs": [
    {
     "data": {
      "image/png": "[encoded data removed]",
      "text/plain": [
       "<Figure size 432x288 with 1 Axes>"
      ]
     },
     "metadata": {},
     "output_type": "display_data"
    }
   ],
   "source": [
    "# Create log histogram of all current fares\n",
    "plt.hist(df.fare_amount, bins=20, ec='white', log=True)\n",
    "plt.xlabel('$ Cab Fare')\n",
    "plt.ylabel('Passenger Count')\n",
    "plt.title('Log Cab Fare Histogram_s', fontsize=15)\n",
    "plt.savefig(\"Cab_Fare_Hist\", dpi=300)\n",
    "plt.show()"
   ]
  },
  {
   "cell_type": "code",
   "execution_count": 25,
   "metadata": {},
   "outputs": [],
   "source": [
    "# Save file before adding new columns\n",
    "# df.to_csv('NYC_Cab_Fare_Wrangled.csv')\n",
    "# This was done on whole dataset. Uncomment above line so save."
   ]
  },
  {
   "cell_type": "markdown",
   "metadata": {},
   "source": [
    "## Euclidean Distance"
   ]
  },
  {
   "cell_type": "markdown",
   "metadata": {},
   "source": [
    "I am going to define both a Euclidean Distance, an unrealistic min since the shortest distance between 2 points is not a straight line through buildings and blocks, and a Taxicab Distance, a more realistic expectation of miles traveled. The Euclidean distance will serve as a min to eliminate outliers and errors. "
   ]
  },
  {
   "cell_type": "code",
   "execution_count": 26,
   "metadata": {},
   "outputs": [
    {
     "data": {
      "text/html": [
       "<div>\n",
       "<style scoped>\n",
       "    .dataframe tbody tr th:only-of-type {\n",
       "        vertical-align: middle;\n",
       "    }\n",
       "\n",
       "    .dataframe tbody tr th {\n",
       "        vertical-align: top;\n",
       "    }\n",
       "\n",
       "    .dataframe thead th {\n",
       "        text-align: right;\n",
       "    }\n",
       "</style>\n",
       "<table border=\"1\" class=\"dataframe\">\n",
       "  <thead>\n",
       "    <tr style=\"text-align: right;\">\n",
       "      <th></th>\n",
       "      <th>key</th>\n",
       "      <th>fare_amount</th>\n",
       "      <th>pickup_datetime</th>\n",
       "      <th>pickup_longitude</th>\n",
       "      <th>pickup_latitude</th>\n",
       "      <th>dropoff_longitude</th>\n",
       "      <th>dropoff_latitude</th>\n",
       "      <th>passenger_count</th>\n",
       "      <th>euclidean_distance</th>\n",
       "      <th>taxicab_distance</th>\n",
       "    </tr>\n",
       "  </thead>\n",
       "  <tbody>\n",
       "    <tr>\n",
       "      <th>0</th>\n",
       "      <td>2009-06-15 17:26:21.0000001</td>\n",
       "      <td>4.5</td>\n",
       "      <td>2009-06-15 17:26:21 UTC</td>\n",
       "      <td>-73.844311</td>\n",
       "      <td>40.721319</td>\n",
       "      <td>-73.841610</td>\n",
       "      <td>40.712278</td>\n",
       "      <td>1</td>\n",
       "      <td>0.651073</td>\n",
       "      <td>0.810198</td>\n",
       "    </tr>\n",
       "    <tr>\n",
       "      <th>1</th>\n",
       "      <td>2010-01-05 16:52:16.0000002</td>\n",
       "      <td>16.9</td>\n",
       "      <td>2010-01-05 16:52:16 UTC</td>\n",
       "      <td>-74.016048</td>\n",
       "      <td>40.711303</td>\n",
       "      <td>-73.979268</td>\n",
       "      <td>40.782004</td>\n",
       "      <td>1</td>\n",
       "      <td>5.499001</td>\n",
       "      <td>7.416189</td>\n",
       "    </tr>\n",
       "    <tr>\n",
       "      <th>2</th>\n",
       "      <td>2011-08-18 00:35:00.00000049</td>\n",
       "      <td>5.7</td>\n",
       "      <td>2011-08-18 00:35:00 UTC</td>\n",
       "      <td>-73.982738</td>\n",
       "      <td>40.761270</td>\n",
       "      <td>-73.991242</td>\n",
       "      <td>40.750562</td>\n",
       "      <td>2</td>\n",
       "      <td>0.943509</td>\n",
       "      <td>1.325628</td>\n",
       "    </tr>\n",
       "    <tr>\n",
       "      <th>3</th>\n",
       "      <td>2012-04-21 04:30:42.0000001</td>\n",
       "      <td>7.7</td>\n",
       "      <td>2012-04-21 04:30:42 UTC</td>\n",
       "      <td>-73.987130</td>\n",
       "      <td>40.733143</td>\n",
       "      <td>-73.991567</td>\n",
       "      <td>40.758092</td>\n",
       "      <td>1</td>\n",
       "      <td>1.748493</td>\n",
       "      <td>2.027634</td>\n",
       "    </tr>\n",
       "    <tr>\n",
       "      <th>4</th>\n",
       "      <td>2010-03-09 07:51:00.000000135</td>\n",
       "      <td>5.3</td>\n",
       "      <td>2010-03-09 07:51:00 UTC</td>\n",
       "      <td>-73.968095</td>\n",
       "      <td>40.768008</td>\n",
       "      <td>-73.956655</td>\n",
       "      <td>40.783762</td>\n",
       "      <td>1</td>\n",
       "      <td>1.343397</td>\n",
       "      <td>1.876386</td>\n",
       "    </tr>\n",
       "  </tbody>\n",
       "</table>\n",
       "</div>"
      ],
      "text/plain": [
       "                             key  fare_amount          pickup_datetime  \\\n",
       "0    2009-06-15 17:26:21.0000001          4.5  2009-06-15 17:26:21 UTC   \n",
       "1    2010-01-05 16:52:16.0000002         16.9  2010-01-05 16:52:16 UTC   \n",
       "2   2011-08-18 00:35:00.00000049          5.7  2011-08-18 00:35:00 UTC   \n",
       "3    2012-04-21 04:30:42.0000001          7.7  2012-04-21 04:30:42 UTC   \n",
       "4  2010-03-09 07:51:00.000000135          5.3  2010-03-09 07:51:00 UTC   \n",
       "\n",
       "   pickup_longitude  pickup_latitude  dropoff_longitude  dropoff_latitude  \\\n",
       "0        -73.844311        40.721319         -73.841610         40.712278   \n",
       "1        -74.016048        40.711303         -73.979268         40.782004   \n",
       "2        -73.982738        40.761270         -73.991242         40.750562   \n",
       "3        -73.987130        40.733143         -73.991567         40.758092   \n",
       "4        -73.968095        40.768008         -73.956655         40.783762   \n",
       "\n",
       "   passenger_count  euclidean_distance  taxicab_distance  \n",
       "0                1            0.651073          0.810198  \n",
       "1                1            5.499001          7.416189  \n",
       "2                2            0.943509          1.325628  \n",
       "3                1            1.748493          2.027634  \n",
       "4                1            1.343397          1.876386  "
      ]
     },
     "execution_count": 26,
     "metadata": {},
     "output_type": "execute_result"
    }
   ],
   "source": [
    "# Define coordinates (x,y)\n",
    "x1 = df['pickup_latitude']\n",
    "y1 = df['pickup_longitude']\n",
    "x2 = df['dropoff_latitude']\n",
    "y2 = df['dropoff_longitude']\n",
    "\n",
    "# Create Euclidean Distrance column\n",
    "df['euclidean_distance'] = np.sqrt((y2-y1)**2 + (x2-x1)**2)\n",
    "\n",
    "# Create Taxicab Distance column\n",
    "df['taxicab_distance'] = np.abs(y2-y1) + np.abs(x2-x1)\n",
    "\n",
    "# Convert to miles\n",
    "df['euclidean_distance'] = df['euclidean_distance'] * 69\n",
    "df['taxicab_distance'] = df['taxicab_distance'] * 69\n",
    "\n",
    "# Show first five entries\n",
    "df.head()"
   ]
  },
  {
   "cell_type": "markdown",
   "metadata": {},
   "source": [
    "#### Distance / Fare Plots"
   ]
  },
  {
   "cell_type": "markdown",
   "metadata": {},
   "source": [
    "According to http://nymag.com/nymetro/urban/features/taxi/n_20286/, the going rate was $2.00 per mile. Therefore, since 2.50 is the minimum charge, there should be no fares less than the y = 2.5 + 2*x. (This is especially true with Euclidean Distance.)"
   ]
  },
  {
   "cell_type": "code",
   "execution_count": 27,
   "metadata": {},
   "outputs": [
    {
     "data": {
      "image/png": "[encoded data removed]",
      "text/plain": [
       "<Figure size 432x288 with 1 Axes>"
      ]
     },
     "metadata": {},
     "output_type": "display_data"
    }
   ],
   "source": [
    "# Define x and y\n",
    "x = df.euclidean_distance\n",
    "y = df.fare_amount\n",
    "\n",
    "# Create scatter plot\n",
    "plt.scatter(x, y, alpha=0.2)\n",
    "\n",
    "# Create labels\n",
    "plt.ylabel('Fare')\n",
    "plt.xlabel('Miles')\n",
    "\n",
    "# Create title\n",
    "plt.title('NYC Cab Cost per Mile', fontsize=15)\n",
    "\n",
    "minLine, = plt.plot(x, 2.5 + 2*x, 'plum', label='Min_cost')\n",
    "\n",
    "plt.legend(handles=[minLine])\n",
    "plt.savefig('Cab Cost per Mile_s', dpi=300)\n",
    "plt.show()"
   ]
  },
  {
   "cell_type": "markdown",
   "metadata": {},
   "source": [
    "All rides underneath the plum line can be eliminated. Since the going rate was 2.50 per cab at 2.00 per mile in NYC, they are impossible."
   ]
  },
  {
   "cell_type": "code",
   "execution_count": 28,
   "metadata": {},
   "outputs": [
    {
     "data": {
      "image/png": "[encoded data removed]",
      "text/plain": [
       "<Figure size 432x288 with 1 Axes>"
      ]
     },
     "metadata": {},
     "output_type": "display_data"
    }
   ],
   "source": [
    "# Define x and y\n",
    "x = df.euclidean_distance\n",
    "y = df.fare_amount\n",
    "\n",
    "# Prevent cell overflow\n",
    "plt.rcParams['agg.path.chunksize'] = 10000\n",
    "\n",
    "# Create scatter plot\n",
    "plt.scatter(x, y, alpha=0.2)\n",
    "\n",
    "# Create labels\n",
    "plt.ylabel('Fare')\n",
    "plt.xlabel('Miles')\n",
    "\n",
    "# Create zoom limits\n",
    "plt.xlim(0, 500)\n",
    "plt.ylim(0, 500)\n",
    "\n",
    "# Create title\n",
    "plt.title('NYC Cab Cost per Mile', fontsize=15)\n",
    "\n",
    "#Since helpful votes cannot exceed total votes, the cyan line represents a maximum. \n",
    "#All dots must be underneath the line\n",
    "minLine, = plt.plot(x, 2.5 + 2*x, 'plum', label='Min_cost')\n",
    "\n",
    "plt.legend(handles=[minLine])\n",
    "plt.savefig('Cab Cost per Mile Zoom_s', dpi=300)\n",
    "plt.show()"
   ]
  },
  {
   "cell_type": "markdown",
   "metadata": {},
   "source": [
    "Note that the line looks pretty good, as in it's a nice separation of the data."
   ]
  },
  {
   "cell_type": "code",
   "execution_count": 29,
   "metadata": {},
   "outputs": [
    {
     "data": {
      "image/png": "[encoded data removed]",
      "text/plain": [
       "<Figure size 432x288 with 1 Axes>"
      ]
     },
     "metadata": {},
     "output_type": "display_data"
    }
   ],
   "source": [
    "# Define x and y\n",
    "x = df.euclidean_distance\n",
    "y = df.fare_amount\n",
    "\n",
    "# Prevent cell overflow\n",
    "plt.rcParams['agg.path.chunksize'] = 10000\n",
    "\n",
    "# Create scatter plot\n",
    "plt.scatter(x, y, alpha=0.2)\n",
    "\n",
    "# Create labels\n",
    "plt.ylabel('Fare')\n",
    "plt.xlabel('Miles')\n",
    "\n",
    "# Create zoom limits\n",
    "plt.xlim(0, 25)\n",
    "plt.ylim(0, 25)\n",
    "\n",
    "# Create title\n",
    "plt.title('NYC Cab Cost per Mile', fontsize=15)\n",
    "\n",
    "#Since helpful votes cannot exceed total votes, the cyan line represents a maximum. \n",
    "#All dots must be underneath the line\n",
    "minLine, = plt.plot(x, 2.5 + 2*x, 'plum', label='Min_cost')\n",
    "\n",
    "plt.legend(handles=[minLine])\n",
    "plt.savefig('Cab Cost per Mile Zoom_s_2', dpi=300)\n",
    "plt.show()"
   ]
  },
  {
   "cell_type": "code",
   "execution_count": 30,
   "metadata": {},
   "outputs": [],
   "source": [
    "#### Eliminate unrealistic fares\n",
    "df = df[df['fare_amount'] >= (df['euclidean_distance'] * 2 + 2.50)]"
   ]
  },
  {
   "cell_type": "code",
   "execution_count": 31,
   "metadata": {},
   "outputs": [],
   "source": [
    "# Elminate fares that traveled no distance\n",
    "df = df[df['euclidean_distance']>0]"
   ]
  },
  {
   "cell_type": "markdown",
   "metadata": {},
   "source": [
    "## Updated Histograms"
   ]
  },
  {
   "cell_type": "code",
   "execution_count": 32,
   "metadata": {},
   "outputs": [
    {
     "data": {
      "image/png": "[encoded data removed]",
      "text/plain": [
       "<Figure size 432x288 with 1 Axes>"
      ]
     },
     "metadata": {},
     "output_type": "display_data"
    }
   ],
   "source": [
    "# Show updated log cab fare histogram\n",
    "plt.hist(df.fare_amount, bins=20, ec='white', log=True)\n",
    "plt.xlabel('$ Cab Fare')\n",
    "plt.ylabel('Passenger Count')\n",
    "plt.title('Log Cab Fare Histogram', fontsize=15)\n",
    "plt.savefig(\"Cab_Fare_Hist_Updated_s\", dpi=300)\n",
    "plt.show()"
   ]
  },
  {
   "cell_type": "code",
   "execution_count": 33,
   "metadata": {},
   "outputs": [
    {
     "data": {
      "image/png": "[encoded data removed]",
      "text/plain": [
       "<Figure size 432x288 with 1 Axes>"
      ]
     },
     "metadata": {},
     "output_type": "display_data"
    }
   ],
   "source": [
    "# Show zoomed in log cab fare histogram\n",
    "plt.hist(df.fare_amount, bins=20, range=(0,200), ec='white', log=True)\n",
    "plt.xlabel('$ Cab Fare')\n",
    "plt.ylabel('Passenger Count')\n",
    "plt.title('Log Cab Fare Histogram 0-200', fontsize=15)\n",
    "plt.savefig(\"Cab_Fare_Hist_zoom_s\", dpi=300)\n",
    "plt.show()"
   ]
  },
  {
   "cell_type": "code",
   "execution_count": 34,
   "metadata": {},
   "outputs": [
    {
     "data": {
      "image/png": "[encoded data removed]",
      "text/plain": [
       "<Figure size 432x288 with 1 Axes>"
      ]
     },
     "metadata": {},
     "output_type": "display_data"
    }
   ],
   "source": [
    "# Show zoomed in cab fare histogram\n",
    "plt.hist(df.fare_amount, bins=20, range=(0,200), ec='white')\n",
    "plt.xlabel('$ Cab Fare')\n",
    "plt.ylabel('Passenger Count')\n",
    "plt.title('Cab Fare Histogram 0-200', fontsize=15)\n",
    "plt.savefig(\"Cab_Fare_Hist_0-200_s\", dpi=300)\n",
    "plt.show()"
   ]
  },
  {
   "cell_type": "markdown",
   "metadata": {},
   "source": [
    "### Save File"
   ]
  },
  {
   "cell_type": "code",
   "execution_count": 35,
   "metadata": {},
   "outputs": [],
   "source": [
    "# Save wrangled frame as csv file\n",
    "#df.to_csv('NYC_Cab_Fare_Wrangled.csv')"
   ]
  },
  {
   "cell_type": "code",
   "execution_count": 36,
   "metadata": {},
   "outputs": [
    {
     "data": {
      "text/plain": [
       "14586"
      ]
     },
     "execution_count": 36,
     "metadata": {},
     "output_type": "execute_result"
    }
   ],
   "source": [
    "# Get rid of accumulated garbage\n",
    "import gc\n",
    "gc.collect()"
   ]
  },
  {
   "cell_type": "markdown",
   "metadata": {},
   "source": [
    "## Time Series"
   ]
  },
  {
   "cell_type": "code",
   "execution_count": 37,
   "metadata": {},
   "outputs": [],
   "source": [
    "#%%time\n",
    "\n",
    "## If the kernel keeps dying, run statement underneath\n",
    "## If running for the first time above, use parse_dates=['pickup_datetime']\n",
    "\n",
    "#df = pd.read_csv('NYC_Cab_Fare_Wrangled.csv', parse_dates=['pickup_datetime'])"
   ]
  },
  {
   "cell_type": "code",
   "execution_count": 38,
   "metadata": {},
   "outputs": [
    {
     "name": "stdout",
     "output_type": "stream",
     "text": [
      "<class 'pandas.core.frame.DataFrame'>\n",
      "Int64Index: 2341765 entries, 0 to 2499999\n",
      "Data columns (total 10 columns):\n",
      "key                   object\n",
      "fare_amount           float64\n",
      "pickup_datetime       object\n",
      "pickup_longitude      float64\n",
      "pickup_latitude       float64\n",
      "dropoff_longitude     float64\n",
      "dropoff_latitude      float64\n",
      "passenger_count       int64\n",
      "euclidean_distance    float64\n",
      "taxicab_distance      float64\n",
      "dtypes: float64(7), int64(1), object(2)\n",
      "memory usage: 196.5+ MB\n"
     ]
    }
   ],
   "source": [
    "df.info()"
   ]
  },
  {
   "cell_type": "code",
   "execution_count": 39,
   "metadata": {},
   "outputs": [
    {
     "data": {
      "text/plain": [
       "str"
      ]
     },
     "execution_count": 39,
     "metadata": {},
     "output_type": "execute_result"
    }
   ],
   "source": [
    "# Check object\n",
    "type(df.pickup_datetime[0])"
   ]
  },
  {
   "cell_type": "code",
   "execution_count": 40,
   "metadata": {},
   "outputs": [],
   "source": [
    "def cut_UTC(row):\n",
    "    row = row.split(' UTC')\n",
    "    return row[0]"
   ]
  },
  {
   "cell_type": "code",
   "execution_count": 41,
   "metadata": {},
   "outputs": [],
   "source": [
    "# Eliminate 'UTC'\n",
    "df['pickup_datetime'] = df['pickup_datetime'].apply(cut_UTC)"
   ]
  },
  {
   "cell_type": "code",
   "execution_count": 42,
   "metadata": {},
   "outputs": [],
   "source": [
    "# Convert to datetime\n",
    "df['pickup_datetime']=pd.to_datetime(df['pickup_datetime'], errors='ignore')"
   ]
  },
  {
   "cell_type": "code",
   "execution_count": 43,
   "metadata": {},
   "outputs": [
    {
     "data": {
      "text/plain": [
       "pandas._libs.tslibs.timestamps.Timestamp"
      ]
     },
     "execution_count": 43,
     "metadata": {},
     "output_type": "execute_result"
    }
   ],
   "source": [
    "# Check type\n",
    "type(df.pickup_datetime[0])"
   ]
  },
  {
   "cell_type": "markdown",
   "metadata": {},
   "source": [
    "#### Add new Time Columns"
   ]
  },
  {
   "cell_type": "code",
   "execution_count": 44,
   "metadata": {},
   "outputs": [],
   "source": [
    "df['month'] = df['pickup_datetime'].dt.month\n",
    "df['year'] = df['pickup_datetime'].dt.year\n",
    "df['hour'] = df['pickup_datetime'].dt.hour\n",
    "df['minute'] = df['pickup_datetime'].dt.minute\n",
    "df['second'] = df['pickup_datetime'].dt.second\n",
    "df['dayofweek'] = df['pickup_datetime'].dt.dayofweek"
   ]
  },
  {
   "cell_type": "code",
   "execution_count": 45,
   "metadata": {},
   "outputs": [],
   "source": [
    "df['15_min_intervals'] = 4 * df['hour'] + (df['minute']/15).astype(int)\n",
    "df['total_seconds'] = 3600 * df['hour'] + 60 * df['minute'] + df['second']"
   ]
  },
  {
   "cell_type": "code",
   "execution_count": 46,
   "metadata": {},
   "outputs": [],
   "source": [
    "def summer_month(row):\n",
    "    if row['month'] in [6,7,8]:\n",
    "        return 1\n",
    "    else:\n",
    "        return 0\n",
    "\n",
    "df['summer_month'] = df.apply(summer_month, axis=1)"
   ]
  },
  {
   "cell_type": "code",
   "execution_count": 47,
   "metadata": {},
   "outputs": [],
   "source": [
    "def cold_month(row):\n",
    "    if row['month'] in [1,2,3,11,12]:\n",
    "        return 1\n",
    "    else:\n",
    "        return 0\n",
    "    \n",
    "df['cold_month'] = df.apply(cold_month, axis=1)"
   ]
  },
  {
   "cell_type": "code",
   "execution_count": 48,
   "metadata": {},
   "outputs": [],
   "source": [
    "def weekend(row):\n",
    "    if row['dayofweek'] in [5,6]:\n",
    "        return 1\n",
    "    else:\n",
    "        return 0\n",
    "\n",
    "df['weekend'] = df.apply(weekend, axis=1)"
   ]
  },
  {
   "cell_type": "code",
   "execution_count": 49,
   "metadata": {},
   "outputs": [],
   "source": [
    "def rush_hour(row):\n",
    "    if (row['hour'] in [7,8,9,15,16,17,18,19]) & (row['weekend'] == 0):\n",
    "        return 1\n",
    "    else:\n",
    "        return 0\n",
    "\n",
    "df['rush_hour'] = df.apply(rush_hour, axis=1)"
   ]
  },
  {
   "cell_type": "code",
   "execution_count": 50,
   "metadata": {},
   "outputs": [],
   "source": [
    "def night_rush(row):\n",
    "    if (row['hour'] in [19,20,21,22,23,24,1]) & (row['dayofweek'] in [3,4,5]):\n",
    "        return 1\n",
    "    else:\n",
    "        return 0\n",
    "    \n",
    "df['night_rush'] = df.apply(night_rush, axis=1)"
   ]
  },
  {
   "cell_type": "code",
   "execution_count": 51,
   "metadata": {},
   "outputs": [],
   "source": [
    "def night_charge(row):\n",
    "    if row['hour'] in [20,21,22,23,24,1,2,3,4,5,6]:\n",
    "        return 1\n",
    "    else:\n",
    "        return 0\n",
    "    \n",
    "df['night_charge'] = df.apply(night_charge, axis=1)"
   ]
  },
  {
   "cell_type": "code",
   "execution_count": 52,
   "metadata": {},
   "outputs": [],
   "source": [
    "def weekday_surcharge(row):\n",
    "    if (row['hour'] in [16,17,18,19,20]) & (row['dayofweek'] in [1,2,3,4,5]):\n",
    "        return 1\n",
    "    else:\n",
    "        return 0\n",
    "    \n",
    "df['weekday_surcharge'] = df.apply(weekday_surcharge, axis=1)"
   ]
  },
  {
   "cell_type": "code",
   "execution_count": 53,
   "metadata": {},
   "outputs": [
    {
     "data": {
      "text/html": [
       "<div>\n",
       "<style scoped>\n",
       "    .dataframe tbody tr th:only-of-type {\n",
       "        vertical-align: middle;\n",
       "    }\n",
       "\n",
       "    .dataframe tbody tr th {\n",
       "        vertical-align: top;\n",
       "    }\n",
       "\n",
       "    .dataframe thead th {\n",
       "        text-align: right;\n",
       "    }\n",
       "</style>\n",
       "<table border=\"1\" class=\"dataframe\">\n",
       "  <thead>\n",
       "    <tr style=\"text-align: right;\">\n",
       "      <th></th>\n",
       "      <th>key</th>\n",
       "      <th>fare_amount</th>\n",
       "      <th>pickup_datetime</th>\n",
       "      <th>pickup_longitude</th>\n",
       "      <th>pickup_latitude</th>\n",
       "      <th>dropoff_longitude</th>\n",
       "      <th>dropoff_latitude</th>\n",
       "      <th>passenger_count</th>\n",
       "      <th>euclidean_distance</th>\n",
       "      <th>taxicab_distance</th>\n",
       "      <th>...</th>\n",
       "      <th>dayofweek</th>\n",
       "      <th>15_min_intervals</th>\n",
       "      <th>total_seconds</th>\n",
       "      <th>summer_month</th>\n",
       "      <th>cold_month</th>\n",
       "      <th>weekend</th>\n",
       "      <th>rush_hour</th>\n",
       "      <th>night_rush</th>\n",
       "      <th>night_charge</th>\n",
       "      <th>weekday_surcharge</th>\n",
       "    </tr>\n",
       "  </thead>\n",
       "  <tbody>\n",
       "    <tr>\n",
       "      <th>0</th>\n",
       "      <td>2009-06-15 17:26:21.0000001</td>\n",
       "      <td>4.5</td>\n",
       "      <td>2009-06-15 17:26:21</td>\n",
       "      <td>-73.844311</td>\n",
       "      <td>40.721319</td>\n",
       "      <td>-73.841610</td>\n",
       "      <td>40.712278</td>\n",
       "      <td>1</td>\n",
       "      <td>0.651073</td>\n",
       "      <td>0.810198</td>\n",
       "      <td>...</td>\n",
       "      <td>0</td>\n",
       "      <td>69</td>\n",
       "      <td>62781</td>\n",
       "      <td>1</td>\n",
       "      <td>0</td>\n",
       "      <td>0</td>\n",
       "      <td>1</td>\n",
       "      <td>0</td>\n",
       "      <td>0</td>\n",
       "      <td>0</td>\n",
       "    </tr>\n",
       "    <tr>\n",
       "      <th>1</th>\n",
       "      <td>2010-01-05 16:52:16.0000002</td>\n",
       "      <td>16.9</td>\n",
       "      <td>2010-01-05 16:52:16</td>\n",
       "      <td>-74.016048</td>\n",
       "      <td>40.711303</td>\n",
       "      <td>-73.979268</td>\n",
       "      <td>40.782004</td>\n",
       "      <td>1</td>\n",
       "      <td>5.499001</td>\n",
       "      <td>7.416189</td>\n",
       "      <td>...</td>\n",
       "      <td>1</td>\n",
       "      <td>67</td>\n",
       "      <td>60736</td>\n",
       "      <td>0</td>\n",
       "      <td>1</td>\n",
       "      <td>0</td>\n",
       "      <td>1</td>\n",
       "      <td>0</td>\n",
       "      <td>0</td>\n",
       "      <td>1</td>\n",
       "    </tr>\n",
       "    <tr>\n",
       "      <th>2</th>\n",
       "      <td>2011-08-18 00:35:00.00000049</td>\n",
       "      <td>5.7</td>\n",
       "      <td>2011-08-18 00:35:00</td>\n",
       "      <td>-73.982738</td>\n",
       "      <td>40.761270</td>\n",
       "      <td>-73.991242</td>\n",
       "      <td>40.750562</td>\n",
       "      <td>2</td>\n",
       "      <td>0.943509</td>\n",
       "      <td>1.325628</td>\n",
       "      <td>...</td>\n",
       "      <td>3</td>\n",
       "      <td>2</td>\n",
       "      <td>2100</td>\n",
       "      <td>1</td>\n",
       "      <td>0</td>\n",
       "      <td>0</td>\n",
       "      <td>0</td>\n",
       "      <td>0</td>\n",
       "      <td>0</td>\n",
       "      <td>0</td>\n",
       "    </tr>\n",
       "    <tr>\n",
       "      <th>3</th>\n",
       "      <td>2012-04-21 04:30:42.0000001</td>\n",
       "      <td>7.7</td>\n",
       "      <td>2012-04-21 04:30:42</td>\n",
       "      <td>-73.987130</td>\n",
       "      <td>40.733143</td>\n",
       "      <td>-73.991567</td>\n",
       "      <td>40.758092</td>\n",
       "      <td>1</td>\n",
       "      <td>1.748493</td>\n",
       "      <td>2.027634</td>\n",
       "      <td>...</td>\n",
       "      <td>5</td>\n",
       "      <td>18</td>\n",
       "      <td>16242</td>\n",
       "      <td>0</td>\n",
       "      <td>0</td>\n",
       "      <td>1</td>\n",
       "      <td>0</td>\n",
       "      <td>0</td>\n",
       "      <td>1</td>\n",
       "      <td>0</td>\n",
       "    </tr>\n",
       "    <tr>\n",
       "      <th>4</th>\n",
       "      <td>2010-03-09 07:51:00.000000135</td>\n",
       "      <td>5.3</td>\n",
       "      <td>2010-03-09 07:51:00</td>\n",
       "      <td>-73.968095</td>\n",
       "      <td>40.768008</td>\n",
       "      <td>-73.956655</td>\n",
       "      <td>40.783762</td>\n",
       "      <td>1</td>\n",
       "      <td>1.343397</td>\n",
       "      <td>1.876386</td>\n",
       "      <td>...</td>\n",
       "      <td>1</td>\n",
       "      <td>31</td>\n",
       "      <td>28260</td>\n",
       "      <td>0</td>\n",
       "      <td>1</td>\n",
       "      <td>0</td>\n",
       "      <td>1</td>\n",
       "      <td>0</td>\n",
       "      <td>0</td>\n",
       "      <td>0</td>\n",
       "    </tr>\n",
       "  </tbody>\n",
       "</table>\n",
       "<p>5 rows × 25 columns</p>\n",
       "</div>"
      ],
      "text/plain": [
       "                             key  fare_amount     pickup_datetime  \\\n",
       "0    2009-06-15 17:26:21.0000001          4.5 2009-06-15 17:26:21   \n",
       "1    2010-01-05 16:52:16.0000002         16.9 2010-01-05 16:52:16   \n",
       "2   2011-08-18 00:35:00.00000049          5.7 2011-08-18 00:35:00   \n",
       "3    2012-04-21 04:30:42.0000001          7.7 2012-04-21 04:30:42   \n",
       "4  2010-03-09 07:51:00.000000135          5.3 2010-03-09 07:51:00   \n",
       "\n",
       "   pickup_longitude  pickup_latitude  dropoff_longitude  dropoff_latitude  \\\n",
       "0        -73.844311        40.721319         -73.841610         40.712278   \n",
       "1        -74.016048        40.711303         -73.979268         40.782004   \n",
       "2        -73.982738        40.761270         -73.991242         40.750562   \n",
       "3        -73.987130        40.733143         -73.991567         40.758092   \n",
       "4        -73.968095        40.768008         -73.956655         40.783762   \n",
       "\n",
       "   passenger_count  euclidean_distance  taxicab_distance        ...          \\\n",
       "0                1            0.651073          0.810198        ...           \n",
       "1                1            5.499001          7.416189        ...           \n",
       "2                2            0.943509          1.325628        ...           \n",
       "3                1            1.748493          2.027634        ...           \n",
       "4                1            1.343397          1.876386        ...           \n",
       "\n",
       "   dayofweek  15_min_intervals  total_seconds  summer_month  cold_month  \\\n",
       "0          0                69          62781             1           0   \n",
       "1          1                67          60736             0           1   \n",
       "2          3                 2           2100             1           0   \n",
       "3          5                18          16242             0           0   \n",
       "4          1                31          28260             0           1   \n",
       "\n",
       "   weekend  rush_hour  night_rush  night_charge  weekday_surcharge  \n",
       "0        0          1           0             0                  0  \n",
       "1        0          1           0             0                  1  \n",
       "2        0          0           0             0                  0  \n",
       "3        1          0           0             1                  0  \n",
       "4        0          1           0             0                  0  \n",
       "\n",
       "[5 rows x 25 columns]"
      ]
     },
     "execution_count": 53,
     "metadata": {},
     "output_type": "execute_result"
    }
   ],
   "source": [
    "df.head()"
   ]
  },
  {
   "cell_type": "code",
   "execution_count": 54,
   "metadata": {},
   "outputs": [
    {
     "data": {
      "text/html": [
       "<div>\n",
       "<style scoped>\n",
       "    .dataframe tbody tr th:only-of-type {\n",
       "        vertical-align: middle;\n",
       "    }\n",
       "\n",
       "    .dataframe tbody tr th {\n",
       "        vertical-align: top;\n",
       "    }\n",
       "\n",
       "    .dataframe thead th {\n",
       "        text-align: right;\n",
       "    }\n",
       "</style>\n",
       "<table border=\"1\" class=\"dataframe\">\n",
       "  <thead>\n",
       "    <tr style=\"text-align: right;\">\n",
       "      <th></th>\n",
       "      <th>fare_amount</th>\n",
       "      <th>pickup_longitude</th>\n",
       "      <th>pickup_latitude</th>\n",
       "      <th>dropoff_longitude</th>\n",
       "      <th>dropoff_latitude</th>\n",
       "      <th>passenger_count</th>\n",
       "      <th>euclidean_distance</th>\n",
       "      <th>taxicab_distance</th>\n",
       "      <th>month</th>\n",
       "      <th>year</th>\n",
       "      <th>...</th>\n",
       "      <th>dayofweek</th>\n",
       "      <th>15_min_intervals</th>\n",
       "      <th>total_seconds</th>\n",
       "      <th>summer_month</th>\n",
       "      <th>cold_month</th>\n",
       "      <th>weekend</th>\n",
       "      <th>rush_hour</th>\n",
       "      <th>night_rush</th>\n",
       "      <th>night_charge</th>\n",
       "      <th>weekday_surcharge</th>\n",
       "    </tr>\n",
       "  </thead>\n",
       "  <tbody>\n",
       "    <tr>\n",
       "      <th>count</th>\n",
       "      <td>2.341765e+06</td>\n",
       "      <td>2.341765e+06</td>\n",
       "      <td>2.341765e+06</td>\n",
       "      <td>2.341765e+06</td>\n",
       "      <td>2.341765e+06</td>\n",
       "      <td>2.341765e+06</td>\n",
       "      <td>2.341765e+06</td>\n",
       "      <td>2.341765e+06</td>\n",
       "      <td>2.341765e+06</td>\n",
       "      <td>2.341765e+06</td>\n",
       "      <td>...</td>\n",
       "      <td>2.341765e+06</td>\n",
       "      <td>2.341765e+06</td>\n",
       "      <td>2.341765e+06</td>\n",
       "      <td>2.341765e+06</td>\n",
       "      <td>2.341765e+06</td>\n",
       "      <td>2.341765e+06</td>\n",
       "      <td>2.341765e+06</td>\n",
       "      <td>2.341765e+06</td>\n",
       "      <td>2.341765e+06</td>\n",
       "      <td>2.341765e+06</td>\n",
       "    </tr>\n",
       "    <tr>\n",
       "      <th>mean</th>\n",
       "      <td>1.152113e+01</td>\n",
       "      <td>-7.397572e+01</td>\n",
       "      <td>4.075079e+01</td>\n",
       "      <td>-7.397479e+01</td>\n",
       "      <td>4.075111e+01</td>\n",
       "      <td>1.693067e+00</td>\n",
       "      <td>2.384500e+00</td>\n",
       "      <td>3.082348e+00</td>\n",
       "      <td>6.268291e+00</td>\n",
       "      <td>2.011772e+03</td>\n",
       "      <td>...</td>\n",
       "      <td>3.039056e+00</td>\n",
       "      <td>5.563739e+01</td>\n",
       "      <td>5.050945e+04</td>\n",
       "      <td>2.369926e-01</td>\n",
       "      <td>4.209995e-01</td>\n",
       "      <td>2.818793e-01</td>\n",
       "      <td>3.002957e-01</td>\n",
       "      <td>1.513820e-01</td>\n",
       "      <td>3.288088e-01</td>\n",
       "      <td>2.021907e-01</td>\n",
       "    </tr>\n",
       "    <tr>\n",
       "      <th>std</th>\n",
       "      <td>9.675391e+00</td>\n",
       "      <td>3.419497e-02</td>\n",
       "      <td>2.672575e-02</td>\n",
       "      <td>3.420852e-02</td>\n",
       "      <td>3.089298e-02</td>\n",
       "      <td>1.307217e+00</td>\n",
       "      <td>2.667982e+00</td>\n",
       "      <td>3.472608e+00</td>\n",
       "      <td>3.440202e+00</td>\n",
       "      <td>1.869036e+00</td>\n",
       "      <td>...</td>\n",
       "      <td>1.947631e+00</td>\n",
       "      <td>2.602931e+01</td>\n",
       "      <td>2.342786e+04</td>\n",
       "      <td>4.252378e-01</td>\n",
       "      <td>4.937196e-01</td>\n",
       "      <td>4.499149e-01</td>\n",
       "      <td>4.583866e-01</td>\n",
       "      <td>3.584209e-01</td>\n",
       "      <td>4.697805e-01</td>\n",
       "      <td>4.016337e-01</td>\n",
       "    </tr>\n",
       "    <tr>\n",
       "      <th>min</th>\n",
       "      <td>2.600000e+00</td>\n",
       "      <td>-7.425819e+01</td>\n",
       "      <td>4.048254e+01</td>\n",
       "      <td>-7.470368e+01</td>\n",
       "      <td>3.938390e+01</td>\n",
       "      <td>1.000000e+00</td>\n",
       "      <td>6.900000e-05</td>\n",
       "      <td>6.900000e-05</td>\n",
       "      <td>1.000000e+00</td>\n",
       "      <td>2.009000e+03</td>\n",
       "      <td>...</td>\n",
       "      <td>0.000000e+00</td>\n",
       "      <td>0.000000e+00</td>\n",
       "      <td>0.000000e+00</td>\n",
       "      <td>0.000000e+00</td>\n",
       "      <td>0.000000e+00</td>\n",
       "      <td>0.000000e+00</td>\n",
       "      <td>0.000000e+00</td>\n",
       "      <td>0.000000e+00</td>\n",
       "      <td>0.000000e+00</td>\n",
       "      <td>0.000000e+00</td>\n",
       "    </tr>\n",
       "    <tr>\n",
       "      <th>25%</th>\n",
       "      <td>6.100000e+00</td>\n",
       "      <td>-7.399234e+01</td>\n",
       "      <td>4.073648e+01</td>\n",
       "      <td>-7.399165e+01</td>\n",
       "      <td>4.073535e+01</td>\n",
       "      <td>1.000000e+00</td>\n",
       "      <td>9.141484e-01</td>\n",
       "      <td>1.166376e+00</td>\n",
       "      <td>3.000000e+00</td>\n",
       "      <td>2.010000e+03</td>\n",
       "      <td>...</td>\n",
       "      <td>1.000000e+00</td>\n",
       "      <td>3.700000e+01</td>\n",
       "      <td>3.408000e+04</td>\n",
       "      <td>0.000000e+00</td>\n",
       "      <td>0.000000e+00</td>\n",
       "      <td>0.000000e+00</td>\n",
       "      <td>0.000000e+00</td>\n",
       "      <td>0.000000e+00</td>\n",
       "      <td>0.000000e+00</td>\n",
       "      <td>0.000000e+00</td>\n",
       "    </tr>\n",
       "    <tr>\n",
       "      <th>50%</th>\n",
       "      <td>8.500000e+00</td>\n",
       "      <td>-7.398218e+01</td>\n",
       "      <td>4.075328e+01</td>\n",
       "      <td>-7.398075e+01</td>\n",
       "      <td>4.075374e+01</td>\n",
       "      <td>1.000000e+00</td>\n",
       "      <td>1.532509e+00</td>\n",
       "      <td>1.975332e+00</td>\n",
       "      <td>6.000000e+00</td>\n",
       "      <td>2.012000e+03</td>\n",
       "      <td>...</td>\n",
       "      <td>3.000000e+00</td>\n",
       "      <td>5.800000e+01</td>\n",
       "      <td>5.284200e+04</td>\n",
       "      <td>0.000000e+00</td>\n",
       "      <td>0.000000e+00</td>\n",
       "      <td>0.000000e+00</td>\n",
       "      <td>0.000000e+00</td>\n",
       "      <td>0.000000e+00</td>\n",
       "      <td>0.000000e+00</td>\n",
       "      <td>0.000000e+00</td>\n",
       "    </tr>\n",
       "    <tr>\n",
       "      <th>75%</th>\n",
       "      <td>1.290000e+01</td>\n",
       "      <td>-7.396868e+01</td>\n",
       "      <td>4.076741e+01</td>\n",
       "      <td>-7.396585e+01</td>\n",
       "      <td>4.076825e+01</td>\n",
       "      <td>2.000000e+00</td>\n",
       "      <td>2.703742e+00</td>\n",
       "      <td>3.550232e+00</td>\n",
       "      <td>9.000000e+00</td>\n",
       "      <td>2.013000e+03</td>\n",
       "      <td>...</td>\n",
       "      <td>5.000000e+00</td>\n",
       "      <td>7.800000e+01</td>\n",
       "      <td>7.033300e+04</td>\n",
       "      <td>0.000000e+00</td>\n",
       "      <td>1.000000e+00</td>\n",
       "      <td>1.000000e+00</td>\n",
       "      <td>1.000000e+00</td>\n",
       "      <td>0.000000e+00</td>\n",
       "      <td>1.000000e+00</td>\n",
       "      <td>0.000000e+00</td>\n",
       "    </tr>\n",
       "    <tr>\n",
       "      <th>max</th>\n",
       "      <td>4.950000e+02</td>\n",
       "      <td>-7.370058e+01</td>\n",
       "      <td>4.091746e+01</td>\n",
       "      <td>-7.219609e+01</td>\n",
       "      <td>4.152588e+01</td>\n",
       "      <td>6.000000e+00</td>\n",
       "      <td>1.137633e+02</td>\n",
       "      <td>1.332743e+02</td>\n",
       "      <td>1.200000e+01</td>\n",
       "      <td>2.015000e+03</td>\n",
       "      <td>...</td>\n",
       "      <td>6.000000e+00</td>\n",
       "      <td>9.500000e+01</td>\n",
       "      <td>8.639900e+04</td>\n",
       "      <td>1.000000e+00</td>\n",
       "      <td>1.000000e+00</td>\n",
       "      <td>1.000000e+00</td>\n",
       "      <td>1.000000e+00</td>\n",
       "      <td>1.000000e+00</td>\n",
       "      <td>1.000000e+00</td>\n",
       "      <td>1.000000e+00</td>\n",
       "    </tr>\n",
       "  </tbody>\n",
       "</table>\n",
       "<p>8 rows × 23 columns</p>\n",
       "</div>"
      ],
      "text/plain": [
       "        fare_amount  pickup_longitude  pickup_latitude  dropoff_longitude  \\\n",
       "count  2.341765e+06      2.341765e+06     2.341765e+06       2.341765e+06   \n",
       "mean   1.152113e+01     -7.397572e+01     4.075079e+01      -7.397479e+01   \n",
       "std    9.675391e+00      3.419497e-02     2.672575e-02       3.420852e-02   \n",
       "min    2.600000e+00     -7.425819e+01     4.048254e+01      -7.470368e+01   \n",
       "25%    6.100000e+00     -7.399234e+01     4.073648e+01      -7.399165e+01   \n",
       "50%    8.500000e+00     -7.398218e+01     4.075328e+01      -7.398075e+01   \n",
       "75%    1.290000e+01     -7.396868e+01     4.076741e+01      -7.396585e+01   \n",
       "max    4.950000e+02     -7.370058e+01     4.091746e+01      -7.219609e+01   \n",
       "\n",
       "       dropoff_latitude  passenger_count  euclidean_distance  \\\n",
       "count      2.341765e+06     2.341765e+06        2.341765e+06   \n",
       "mean       4.075111e+01     1.693067e+00        2.384500e+00   \n",
       "std        3.089298e-02     1.307217e+00        2.667982e+00   \n",
       "min        3.938390e+01     1.000000e+00        6.900000e-05   \n",
       "25%        4.073535e+01     1.000000e+00        9.141484e-01   \n",
       "50%        4.075374e+01     1.000000e+00        1.532509e+00   \n",
       "75%        4.076825e+01     2.000000e+00        2.703742e+00   \n",
       "max        4.152588e+01     6.000000e+00        1.137633e+02   \n",
       "\n",
       "       taxicab_distance         month          year        ...          \\\n",
       "count      2.341765e+06  2.341765e+06  2.341765e+06        ...           \n",
       "mean       3.082348e+00  6.268291e+00  2.011772e+03        ...           \n",
       "std        3.472608e+00  3.440202e+00  1.869036e+00        ...           \n",
       "min        6.900000e-05  1.000000e+00  2.009000e+03        ...           \n",
       "25%        1.166376e+00  3.000000e+00  2.010000e+03        ...           \n",
       "50%        1.975332e+00  6.000000e+00  2.012000e+03        ...           \n",
       "75%        3.550232e+00  9.000000e+00  2.013000e+03        ...           \n",
       "max        1.332743e+02  1.200000e+01  2.015000e+03        ...           \n",
       "\n",
       "          dayofweek  15_min_intervals  total_seconds  summer_month  \\\n",
       "count  2.341765e+06      2.341765e+06   2.341765e+06  2.341765e+06   \n",
       "mean   3.039056e+00      5.563739e+01   5.050945e+04  2.369926e-01   \n",
       "std    1.947631e+00      2.602931e+01   2.342786e+04  4.252378e-01   \n",
       "min    0.000000e+00      0.000000e+00   0.000000e+00  0.000000e+00   \n",
       "25%    1.000000e+00      3.700000e+01   3.408000e+04  0.000000e+00   \n",
       "50%    3.000000e+00      5.800000e+01   5.284200e+04  0.000000e+00   \n",
       "75%    5.000000e+00      7.800000e+01   7.033300e+04  0.000000e+00   \n",
       "max    6.000000e+00      9.500000e+01   8.639900e+04  1.000000e+00   \n",
       "\n",
       "         cold_month       weekend     rush_hour    night_rush  night_charge  \\\n",
       "count  2.341765e+06  2.341765e+06  2.341765e+06  2.341765e+06  2.341765e+06   \n",
       "mean   4.209995e-01  2.818793e-01  3.002957e-01  1.513820e-01  3.288088e-01   \n",
       "std    4.937196e-01  4.499149e-01  4.583866e-01  3.584209e-01  4.697805e-01   \n",
       "min    0.000000e+00  0.000000e+00  0.000000e+00  0.000000e+00  0.000000e+00   \n",
       "25%    0.000000e+00  0.000000e+00  0.000000e+00  0.000000e+00  0.000000e+00   \n",
       "50%    0.000000e+00  0.000000e+00  0.000000e+00  0.000000e+00  0.000000e+00   \n",
       "75%    1.000000e+00  1.000000e+00  1.000000e+00  0.000000e+00  1.000000e+00   \n",
       "max    1.000000e+00  1.000000e+00  1.000000e+00  1.000000e+00  1.000000e+00   \n",
       "\n",
       "       weekday_surcharge  \n",
       "count       2.341765e+06  \n",
       "mean        2.021907e-01  \n",
       "std         4.016337e-01  \n",
       "min         0.000000e+00  \n",
       "25%         0.000000e+00  \n",
       "50%         0.000000e+00  \n",
       "75%         0.000000e+00  \n",
       "max         1.000000e+00  \n",
       "\n",
       "[8 rows x 23 columns]"
      ]
     },
     "execution_count": 54,
     "metadata": {},
     "output_type": "execute_result"
    }
   ],
   "source": [
    "df.describe()"
   ]
  },
  {
   "cell_type": "code",
   "execution_count": 55,
   "metadata": {},
   "outputs": [],
   "source": [
    "#df.to_csv('/Users/coreyjwade/Desktop/Data/NY_Cab_Fare/NYC_Cab_Fare_Wrangled_Time_Distance.csv')"
   ]
  },
  {
   "cell_type": "markdown",
   "metadata": {},
   "source": [
    "## Latitude Longitude Additions"
   ]
  },
  {
   "cell_type": "code",
   "execution_count": 56,
   "metadata": {},
   "outputs": [],
   "source": [
    "#df = pd.read_csv('NYC_Cab_Fare_Wrangled_Time_Distance.csv')"
   ]
  },
  {
   "cell_type": "markdown",
   "metadata": {},
   "source": [
    "I used https://getlatlong.net/ to estimate a geographical area for Manhattan."
   ]
  },
  {
   "cell_type": "markdown",
   "metadata": {},
   "source": [
    "There are 4 points, that when connected as a quadrilateral, enclose most of Manhattan. (I chose some points in the water since they are unaffected traffic\n",
    "\n",
    "Then for any given point (x,y) both of the following conditions must hold:\n",
    "\n",
    "-  bottom line <= (x,y) <= top line\n",
    "-  right line <= (x,y) <= left line\n",
    "\n",
    "Or, equilavlently,\n",
    "-  bottom line <= mx + b <= top line\n",
    "-  right line <= mx + b <= left line\n",
    "\n",
    "For instance, to determine if (3,4) <= 2x+1,\n",
    "the condition must be checked that\n",
    "\n",
    " -  4 <= 2(3) + 1\n",
    "\n",
    "which in this case is true."
   ]
  },
  {
   "cell_type": "code",
   "execution_count": 57,
   "metadata": {},
   "outputs": [],
   "source": [
    "# Define line from two points and a provided column\n",
    "def two_points_line(a, b, column):\n",
    "        \n",
    "    # Case when y-values are the same\n",
    "    if b[1]==a[1]:\n",
    "        \n",
    "        # Slope defaults to 0\n",
    "        slope = 0\n",
    "        \n",
    "    # Case when x-values are the same\n",
    "    elif b[0]==a[0]:\n",
    "        \n",
    "        # Case when max value is less than 999999999\n",
    "        if column.max() < 999999999:\n",
    "            \n",
    "            # Add 999999999 to max value\n",
    "            slope = column.max() + 999999999\n",
    "        \n",
    "        # All other cases\n",
    "        else:\n",
    "            \n",
    "            # Multiply max value by itself (greater than 999999999)\n",
    "            slope = column.max() * column.max()\n",
    "    \n",
    "    # When x-values and y-values are not 0\n",
    "    else:\n",
    "        \n",
    "        # Use standard slope formula\n",
    "        slope = (b[1] - a[1])/(b[0]-a[0])\n",
    "    \n",
    "    \n",
    "    # Equation for y-intercept (solving y=mx+b for b)\n",
    "    y_int = a[1] - slope * a[0]\n",
    "    \n",
    "    # Return slope and y-intercept\n",
    "    return slope, y_int"
   ]
  },
  {
   "cell_type": "markdown",
   "metadata": {},
   "source": [
    "#### Manhattan Coordinates"
   ]
  },
  {
   "cell_type": "code",
   "execution_count": 69,
   "metadata": {},
   "outputs": [],
   "source": [
    "def manhattan_pickup(row):\n",
    "    if (((row['pickup_latitude'] <= (row['pickup_longitude'] * m_top + b_top)) &\n",
    "    (row['pickup_latitude'] >= (row['pickup_longitude'] * m_bottom + b_bottom))) &\n",
    "    ((row['pickup_latitude'] >= (row['pickup_longitude'] * m_right + b_right)) &\n",
    "    (row['pickup_latitude'] <= (row['pickup_longitude'] * m_left + b_left)))):\n",
    "        return 1\n",
    "    else:\n",
    "        return 0\n",
    "\n",
    "df['manhattan_pickup'] = df.apply(manhattan_pickup, axis=1)"
   ]
  },
  {
   "cell_type": "code",
   "execution_count": 70,
   "metadata": {},
   "outputs": [],
   "source": [
    "def manhattan_dropoff(row):\n",
    "    if (((row['dropoff_latitude'] <= (row['dropoff_longitude'] * m_top + b_top)) &\n",
    "    (row['dropoff_latitude'] >= (row['dropoff_longitude'] * m_bottom + b_bottom))) &\n",
    "    ((row['dropoff_latitude'] >= (row['dropoff_longitude'] * m_right + b_right)) &\n",
    "    (row['dropoff_latitude'] <= (row['dropoff_longitude'] * m_left + b_left)))):\n",
    "        return 1\n",
    "    else:\n",
    "        return 0\n",
    "\n",
    "df['manhattan_dropoff'] = df.apply(manhattan_dropoff, axis=1)"
   ]
  },
  {
   "cell_type": "markdown",
   "metadata": {},
   "source": [
    "## Save file"
   ]
  },
  {
   "cell_type": "code",
   "execution_count": null,
   "metadata": {},
   "outputs": [],
   "source": [
    "#df.to_csv('NYC_Cab_Fare_Wrangled_Time_Distance.csv')"
   ]
  }
 ],
 "metadata": {
  "kernelspec": {
   "display_name": "Python 3",
   "language": "python",
   "name": "python3"
  },
  "language_info": {
   "codemirror_mode": {
    "name": "ipython",
    "version": 3
   },
   "file_extension": ".py",
   "mimetype": "text/x-python",
   "name": "python",
   "nbconvert_exporter": "python",
   "pygments_lexer": "ipython3",
   "version": "3.6.6"
  }
 },
 "nbformat": 4,
 "nbformat_minor": 2
}
