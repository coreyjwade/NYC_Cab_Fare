{
 "cells": [
  {
   "cell_type": "markdown",
   "metadata": {},
   "source": [
    "# Predicting New York City Cab Fare"
   ]
  },
  {
   "cell_type": "markdown",
   "metadata": {},
   "source": [
    "This files in this notebook were downloaded from the Kaggle Competition \"New York City Taxi Fare Prediction\" at https://www.kaggle.com/c/new-york-city-taxi-fare-prediction."
   ]
  },
  {
   "cell_type": "code",
   "execution_count": 14,
   "metadata": {},
   "outputs": [],
   "source": [
    "import pandas as pd\n",
    "import numpy as np\n",
    "import matplotlib.pyplot as plt\n",
    "%matplotlib inline"
   ]
  },
  {
   "cell_type": "markdown",
   "metadata": {},
   "source": [
    "## Data Wrangling"
   ]
  },
  {
   "cell_type": "code",
   "execution_count": 15,
   "metadata": {},
   "outputs": [
    {
     "name": "stdout",
     "output_type": "stream",
     "text": [
      "CPU times: user 2min 1s, sys: 1min 11s, total: 3min 12s\n",
      "Wall time: 3min 40s\n"
     ]
    }
   ],
   "source": [
    "%%time\n",
    "df = pd.read_csv('train.csv')"
   ]
  },
  {
   "cell_type": "code",
   "execution_count": null,
   "metadata": {},
   "outputs": [],
   "source": [
    "import feather"
   ]
  },
  {
   "cell_type": "code",
   "execution_count": 16,
   "metadata": {},
   "outputs": [
    {
     "ename": "SyntaxError",
     "evalue": "invalid syntax (<ipython-input-16-9a1ff9689883>, line 2)",
     "output_type": "error",
     "traceback": [
      "\u001b[0;36m  File \u001b[0;32m\"<ipython-input-16-9a1ff9689883>\"\u001b[0;36m, line \u001b[0;32m2\u001b[0m\n\u001b[0;31m    %%time\u001b[0m\n\u001b[0m    ^\u001b[0m\n\u001b[0;31mSyntaxError\u001b[0m\u001b[0;31m:\u001b[0m invalid syntax\n"
     ]
    }
   ],
   "source": [
    "%%time\n",
    "# Save into feather format, about 1.5Gb. \n",
    "df.to_feather('nyc_cab_fare_raw.feather')"
   ]
  },
  {
   "cell_type": "code",
   "execution_count": null,
   "metadata": {},
   "outputs": [],
   "source": [
    "%%time\n",
    "# load the same dataframe next time directly, without reading the csv file again!\n",
    "df = pd.read_feather('nyc_cab_fare_raw.feather')"
   ]
  },
  {
   "cell_type": "code",
   "execution_count": null,
   "metadata": {},
   "outputs": [],
   "source": [
    "df.head()"
   ]
  },
  {
   "cell_type": "code",
   "execution_count": null,
   "metadata": {},
   "outputs": [],
   "source": [
    "df.describe()"
   ]
  },
  {
   "cell_type": "code",
   "execution_count": null,
   "metadata": {},
   "outputs": [],
   "source": [
    "df.info()"
   ]
  },
  {
   "cell_type": "markdown",
   "metadata": {},
   "source": [
    "The max and min values seems like errors. More on that later. The dropoffs have a count less than the pickups. We can check for NaNs. "
   ]
  },
  {
   "cell_type": "markdown",
   "metadata": {},
   "source": [
    "### NaN Values"
   ]
  },
  {
   "cell_type": "code",
   "execution_count": null,
   "metadata": {},
   "outputs": [],
   "source": [
    "# Count number of reviews with no dropoff latitude\n",
    "df.dropoff_latitude.isnull().sum()"
   ]
  },
  {
   "cell_type": "code",
   "execution_count": null,
   "metadata": {},
   "outputs": [],
   "source": [
    "# Check for null values\n",
    "dfn = df[df.isnull().any(axis=1)]"
   ]
  },
  {
   "cell_type": "code",
   "execution_count": null,
   "metadata": {},
   "outputs": [],
   "source": [
    "# Display null values\n",
    "dfn.head(10)"
   ]
  },
  {
   "cell_type": "markdown",
   "metadata": {},
   "source": [
    "Since these rows all include fare amounts, they should be eliminated from the data. Had the cab just been running idle, the dropoff and pickup would have the same coordinates. Also note the pickup coordinates of 0. This must also be an error."
   ]
  },
  {
   "cell_type": "code",
   "execution_count": null,
   "metadata": {},
   "outputs": [],
   "source": [
    "# Eliminate null values\n",
    "df = df.dropna(axis=0, subset=['dropoff_latitude'])"
   ]
  },
  {
   "cell_type": "code",
   "execution_count": null,
   "metadata": {},
   "outputs": [],
   "source": [
    "# Verify that counts are the same\n",
    "df.describe()"
   ]
  },
  {
   "cell_type": "markdown",
   "metadata": {},
   "source": [
    "### Latitude Longitude Corrections"
   ]
  },
  {
   "cell_type": "markdown",
   "metadata": {},
   "source": [
    "According to https://www.mapdevelopers.com/geocode_bounding_box.php, New York City has the following bounds: \n",
    "North Latitude: 40.917577 \n",
    "South Latitude: 40.477399 \n",
    "East Longitude: -73.700272 \n",
    "West Longitude: -74.259090"
   ]
  },
  {
   "cell_type": "code",
   "execution_count": null,
   "metadata": {},
   "outputs": [],
   "source": [
    "# Find cab rides whose pickup or dropoff are within NYC boundaries\n",
    "# Declare constants\n",
    "latmin = 40.477399\n",
    "latmax = 40.917577\n",
    "longmin = -74.259090\n",
    "longmax = -73.700272\n",
    "\n",
    "# Create dataframe with correct coordinates\n",
    "df = df[((((df['pickup_longitude']<=longmax) & (df['pickup_longitude']>=longmin)) & ((df['pickup_latitude']<=latmax) & (df['pickup_latitude']>=latmin)))) | ((((df['dropoff_longitude']<=longmax) % (df['dropoff_longitude']>=longmin)) & ((df['dropoff_latitude']<=latmax) & (df['dropoff_latitude']>=latmin))))]"
   ]
  },
  {
   "cell_type": "code",
   "execution_count": null,
   "metadata": {},
   "outputs": [],
   "source": [
    "df.describe()"
   ]
  },
  {
   "cell_type": "markdown",
   "metadata": {},
   "source": [
    "Some of the entries still don't make sense. Whereas the pickup might be correct, the min/max reveal dropoff"
   ]
  },
  {
   "cell_type": "markdown",
   "metadata": {},
   "source": [
    "According to https://www.mapdevelopers.com/geocode_bounding_box.php, the boundary of the United States is as follows.\n",
    "North Latitude: 71.538800 \n",
    "South Latitude: 18.776300 \n",
    "East Longitude: -66.885417 \n",
    "West Longitude: 170.595700\n",
    "\n",
    "Sticking to the Mainland, California gives the following:\n",
    "West Longitude: -124.482003"
   ]
  },
  {
   "cell_type": "code",
   "execution_count": null,
   "metadata": {},
   "outputs": [],
   "source": [
    "# Choose cab rides whose pickup and dropoff are the US Mainland\n",
    "# Declare constants\n",
    "latmin = 5.496100\n",
    "latmax = 71.538800\n",
    "longmin = -124.482003\n",
    "longmax = -66.885417\n",
    "\n",
    "# Create dataframe with correct coordinates\n",
    "df = df[((((df['pickup_longitude']<=longmax) & (df['pickup_longitude']>=longmin)) & ((df['pickup_latitude']<=latmax) & (df['pickup_latitude']>=latmin)))) & ((((df['dropoff_longitude']<=longmax) & (df['dropoff_longitude']>=longmin)) & ((df['dropoff_latitude']<=latmax) & (df['dropoff_latitude']>=latmin))))]"
   ]
  },
  {
   "cell_type": "code",
   "execution_count": null,
   "metadata": {},
   "outputs": [],
   "source": [
    "df.describe()"
   ]
  },
  {
   "cell_type": "markdown",
   "metadata": {},
   "source": [
    "### Fare / Passenger Count Corrections"
   ]
  },
  {
   "cell_type": "markdown",
   "metadata": {},
   "source": [
    "There still appear to be anomalies. There should not be 208 passengers in a taxi, or 0. It is conceivable that there could be 0 passengers, and money could be lost, but since the data includes pickups and dropoffs, and the goal is to predict cab fare, the entries with 0 passengers can be eliminated. Furthermore, this 208 passenger anomaly could be a cross state bus ride. It can also be eliminated. According to https://www1.nyc.gov/nyc-resources/faq/484/how-many-passengers-are-allowed-in-a-taxiIf, 4 or 5 people are allowed in a taxi, plus one child under 9. I'll assume a couple more can crowd in and the driver will allow it."
   ]
  },
  {
   "cell_type": "code",
   "execution_count": null,
   "metadata": {},
   "outputs": [],
   "source": [
    "# Only choose cabs between 1 and 9 riders\n",
    "df = df[(df['passenger_count'] < 10) & (df['passenger_count'] > 0)]"
   ]
  },
  {
   "cell_type": "code",
   "execution_count": null,
   "metadata": {},
   "outputs": [],
   "source": [
    "df.describe()"
   ]
  },
  {
   "cell_type": "markdown",
   "metadata": {},
   "source": [
    "This looks better, but there are still problems with the min and the max. Also, that max fare keeps coming up with a different passenger_count."
   ]
  },
  {
   "cell_type": "code",
   "execution_count": null,
   "metadata": {},
   "outputs": [],
   "source": [
    "df[df['fare_amount']>=10000]"
   ]
  },
  {
   "cell_type": "markdown",
   "metadata": {},
   "source": [
    "It is possible that people are going to California and back, but even so, this messes with the data. We are presuming that the dropoff is the goal destination, but this won't always be the case."
   ]
  },
  {
   "cell_type": "code",
   "execution_count": null,
   "metadata": {},
   "outputs": [],
   "source": [
    "# Choose only cab rides that are less than 10,000.\n",
    "df = df[df['fare_amount']<10000]"
   ]
  },
  {
   "cell_type": "markdown",
   "metadata": {},
   "source": [
    "No one should have a negative cab ride. According to Dr. Google, the NYC Taxi base fare recently increased from 2 to 2.50. It's unclear what the minimum cab fare should be for this dataset. A histogram should verify things."
   ]
  },
  {
   "cell_type": "code",
   "execution_count": null,
   "metadata": {},
   "outputs": [],
   "source": [
    "# Setup Seaborn\n",
    "import seaborn as sns\n",
    "sns.set_style(\"darkgrid\")\n",
    "\n",
    "# Create histogram of 20 bins showing fares from 0 to $20\n",
    "plt.hist(df.fare_amount, bins=21, range=(0,20), ec='white')\n",
    "\n",
    "# Create labels\n",
    "plt.xlabel('$ Cab Fare')\n",
    "plt.ylabel('Passenger Count')\n",
    "plt.title('Cab Fares Under $20 ', fontsize=15)\n",
    "\n",
    "# Save figure\n",
    "plt.savefig(\"Cab_Fares_Under_20_Hist\", dpi=300)\n",
    "\n",
    "# Show graph\n",
    "plt.show()"
   ]
  },
  {
   "cell_type": "markdown",
   "metadata": {},
   "source": [
    "The histogram reveals that the mininum cab fare was $2 during the time period that the data was colleged"
   ]
  },
  {
   "cell_type": "code",
   "execution_count": null,
   "metadata": {},
   "outputs": [],
   "source": [
    "# Eliminate cab rides less than $2\n",
    "df = df[df['fare_amount'] >= 2]"
   ]
  },
  {
   "cell_type": "code",
   "execution_count": null,
   "metadata": {},
   "outputs": [],
   "source": [
    "df.describe()"
   ]
  },
  {
   "cell_type": "markdown",
   "metadata": {},
   "source": [
    "Still a couple of issues. The min fare looks good, but the max seems quite high. Also, the dropoff latitude and longitude of the min are way out of range."
   ]
  },
  {
   "cell_type": "markdown",
   "metadata": {},
   "source": [
    "One idea is to create a new column, distance, and then plot it against fare to determine outliers. While it's true that someone can rent a cab for hours zigzagging across NYC, and return to where they started, this kind of fare is going to distort the data."
   ]
  },
  {
   "cell_type": "code",
   "execution_count": null,
   "metadata": {},
   "outputs": [],
   "source": [
    "\n",
    "plt.hist(df.fare_amount, bins=20, ec='white', log=True)\n",
    "plt.xlabel('$ Cab Fare')\n",
    "plt.ylabel('Passenger Count')\n",
    "plt.title('Log Cab Fare Histogram', fontsize=15)\n",
    "plt.savefig(\"Cab_Fare_Hist\", dpi=300)\n",
    "plt.show()"
   ]
  },
  {
   "cell_type": "code",
   "execution_count": null,
   "metadata": {},
   "outputs": [],
   "source": [
    "# Save file before adding new column\n",
    "df.to_csv('NYC_Cab_Fare_Wrangled.csv')"
   ]
  },
  {
   "cell_type": "markdown",
   "metadata": {},
   "source": [
    "### Euclidean and Taxicab Distance"
   ]
  },
  {
   "cell_type": "markdown",
   "metadata": {},
   "source": [
    "I am going to define both a Euclidean Distance, an unrealistic min since the shortest distance between 2 points is not a straight line through buildings and blocks, and a Taxicab Distance, a more realistic expectation of miles traveled. The Euclidean distance will serve as a min to eliminate outliers and errors. According to http://nymag.com/nymetro/urban/features/taxi/n_20286/, one could not do bretter than $1.50 per mile. "
   ]
  },
  {
   "cell_type": "code",
   "execution_count": null,
   "metadata": {},
   "outputs": [],
   "source": [
    "# Define coordinates (x,y)\n",
    "x1 = df['pickup_latitude']\n",
    "y1 = df['pickup_longitude']\n",
    "x2 = df['dropoff_latitude']\n",
    "y2 = df['dropoff_longitude']\n",
    "\n",
    "# Create Euclidean Distrance column\n",
    "df['euclidean_distance'] = np.sqrt((y2-y1)**2 + (x2-x1)**2)\n",
    "\n",
    "# Create Taxicab Distance column\n",
    "df['taxicab_distance'] = np.abs(y2-y1) + np.abs(x2-x1)\n",
    "\n",
    "# Convert to miles\n",
    "df['euclidean_distance'] = df['euclidean_distance'] * 69\n",
    "df['taxicab_distance'] = df['taxicab_distance'] * 69\n",
    "\n",
    "# Show first five entries\n",
    "df.head()"
   ]
  },
  {
   "cell_type": "markdown",
   "metadata": {},
   "source": [
    "#### Distance / Fare Plots"
   ]
  },
  {
   "cell_type": "code",
   "execution_count": null,
   "metadata": {},
   "outputs": [],
   "source": [
    "# Define x and y\n",
    "x = df.euclidean_distance\n",
    "y = df.fare_amount\n",
    "\n",
    "# Create scatter plot\n",
    "plt.scatter(x, y, alpha=0.2)\n",
    "\n",
    "# Create labels\n",
    "plt.ylabel('Fare')\n",
    "plt.xlabel('Miles')\n",
    "\n",
    "# Create title\n",
    "plt.title('NYC Cab Cost per Mile', fontsize=15)\n",
    "\n",
    "#Since helpful votes cannot exceed total votes, the cyan line represents a maximum. \n",
    "#All dots must be underneath the line\n",
    "minLine, = plt.plot(x, 1.5*x, 'plum', label='Min_cost')\n",
    "\n",
    "plt.legend(handles=[minLine])\n",
    "plt.savefig('Cab Cost per Mile', dpi=300)\n",
    "plt.show()"
   ]
  },
  {
   "cell_type": "markdown",
   "metadata": {},
   "source": [
    "All rides underneath the plum line can be eliminated. Since the going rate was 2.00 per cab at 1.50 per mile in NYC, they are impossible."
   ]
  },
  {
   "cell_type": "code",
   "execution_count": null,
   "metadata": {},
   "outputs": [],
   "source": [
    "# Define x and y\n",
    "x = df.euclidean_distance\n",
    "y = df.fare_amount\n",
    "\n",
    "# Create scatter plot\n",
    "plt.scatter(x, y, alpha=0.2)\n",
    "\n",
    "# Create labels\n",
    "plt.ylabel('Fare')\n",
    "plt.xlabel('Miles')\n",
    "\n",
    "# Create zoom limits\n",
    "plt.xlim(0, 25)\n",
    "plt.ylim(0, 25)\n",
    "\n",
    "# Create title\n",
    "plt.title('NYC Cab Cost per Mile', fontsize=15)\n",
    "\n",
    "#Since helpful votes cannot exceed total votes, the cyan line represents a maximum. \n",
    "#All dots must be underneath the line\n",
    "minLine, = plt.plot(x, 1.5*x, 'plum', label='Min_cost')\n",
    "\n",
    "plt.legend(handles=[minLine])\n",
    "plt.savefig('Cab Cost per Mile', dpi=300)\n",
    "plt.show()"
   ]
  },
  {
   "cell_type": "code",
   "execution_count": null,
   "metadata": {},
   "outputs": [],
   "source": [
    "#### Eliminate unrealistic plots\n",
    "df = df[df['fare_amount'] >= (df['euclidean_distance'] * 1.5 + 2)]"
   ]
  },
  {
   "cell_type": "code",
   "execution_count": null,
   "metadata": {},
   "outputs": [],
   "source": [
    "# Elminate fares that traveled no distance\n",
    "df = df[df['euclidean_distance']>0]"
   ]
  },
  {
   "cell_type": "code",
   "execution_count": null,
   "metadata": {},
   "outputs": [],
   "source": [
    "plt.hist(df.fare_amount, bins=20, ec='white', log=True)\n",
    "plt.xlabel('$ Cab Fare')\n",
    "plt.ylabel('Passenger Count')\n",
    "plt.title('Log Cab Fare Histogram', fontsize=15)\n",
    "plt.savefig(\"Cab_Fare_Hist\", dpi=300)\n",
    "plt.show()"
   ]
  },
  {
   "cell_type": "markdown",
   "metadata": {},
   "source": [
    "### Save File"
   ]
  },
  {
   "cell_type": "code",
   "execution_count": null,
   "metadata": {},
   "outputs": [],
   "source": [
    "df.to_csv('NYC_Cab_Fare_Wrangled.csv')"
   ]
  },
  {
   "cell_type": "markdown",
   "metadata": {},
   "source": [
    "## Time Series"
   ]
  },
  {
   "cell_type": "code",
   "execution_count": null,
   "metadata": {},
   "outputs": [],
   "source": [
    "# df = pd.read_csv('NYC_Cab_Fare_Wrangled.csv')"
   ]
  },
  {
   "cell_type": "code",
   "execution_count": null,
   "metadata": {},
   "outputs": [],
   "source": [
    "df.describe()"
   ]
  },
  {
   "cell_type": "code",
   "execution_count": null,
   "metadata": {},
   "outputs": [],
   "source": [
    "df.head()"
   ]
  },
  {
   "cell_type": "code",
   "execution_count": null,
   "metadata": {},
   "outputs": [],
   "source": [
    "type(df.pickup_datetime[0])"
   ]
  },
  {
   "cell_type": "code",
   "execution_count": null,
   "metadata": {},
   "outputs": [],
   "source": [
    "def cut_UTC(row):\n",
    "    row = row.split(' UTC')\n",
    "    return row[0]"
   ]
  },
  {
   "cell_type": "code",
   "execution_count": null,
   "metadata": {},
   "outputs": [],
   "source": [
    "df['pickup_datetime'] = df['pickup_datetime'].apply(cut_UTC)"
   ]
  },
  {
   "cell_type": "code",
   "execution_count": null,
   "metadata": {},
   "outputs": [],
   "source": [
    "df['pickup_datetime']=pd.to_datetime(df['pickup_datetime'], errors='ignore')"
   ]
  },
  {
   "cell_type": "code",
   "execution_count": null,
   "metadata": {},
   "outputs": [],
   "source": [
    "df.info()"
   ]
  },
  {
   "cell_type": "code",
   "execution_count": null,
   "metadata": {},
   "outputs": [],
   "source": [
    "df['month'] = df['pickup_datetime'].dt.month\n",
    "df['year'] = df['pickup_datetime'].dt.year\n",
    "df['hour'] = df['pickup_datetime'].dt.hour\n",
    "df['minute'] = df['pickup_datetime'].dt.minute\n",
    "df['second'] = df['pickup_datetime'].dt.second\n",
    "df['dayofweek'] = df['pickup_datetime'].dt.dayofweek"
   ]
  },
  {
   "cell_type": "code",
   "execution_count": null,
   "metadata": {},
   "outputs": [],
   "source": [
    "df['15_min_intervals'] = 4 * df['hour'] + (df['minute']/15).astype(int)\n",
    "df['total_seconds'] = 3600 * df['hour'] + 60 * df['minute'] + df['second']"
   ]
  },
  {
   "cell_type": "code",
   "execution_count": null,
   "metadata": {},
   "outputs": [],
   "source": [
    "def summer_month(row):\n",
    "    if row['month'] in [6,7,8]:\n",
    "        return 1\n",
    "    else:\n",
    "        return 0\n",
    "\n",
    "df['summer_month'] = df.apply(summer_month, axis=1)"
   ]
  },
  {
   "cell_type": "code",
   "execution_count": null,
   "metadata": {},
   "outputs": [],
   "source": [
    "def cold_month(row):\n",
    "    if row['month'] in [1,2,3,11,12]:\n",
    "        return 1\n",
    "    else:\n",
    "        return 0\n",
    "    \n",
    "df['cold_month'] = df.apply(cold_month, axis=1)"
   ]
  },
  {
   "cell_type": "code",
   "execution_count": null,
   "metadata": {},
   "outputs": [],
   "source": [
    "def weekend(row):\n",
    "    if row['dayofweek'] in [5,6]:\n",
    "        return 1\n",
    "    else:\n",
    "        return 0\n",
    "\n",
    "df['weekend'] = df.apply(weekend, axis=1)"
   ]
  },
  {
   "cell_type": "code",
   "execution_count": null,
   "metadata": {},
   "outputs": [],
   "source": [
    "def rush_hour(row):\n",
    "    if (row['hour'] in [7,8,9,15,16,17,18,19]) & (row['weekend'] == 0):\n",
    "        return 1\n",
    "    else:\n",
    "        return 0\n",
    "\n",
    "df['rush_hour'] = df.apply(rush_hour, axis=1)"
   ]
  },
  {
   "cell_type": "code",
   "execution_count": null,
   "metadata": {},
   "outputs": [],
   "source": [
    "def night_rush(row):\n",
    "    if (row['hour'] in [19,20,21,22,23,24,1]) & (row['dayofweek'] in [3,4,5]):\n",
    "        return 1\n",
    "    else:\n",
    "        return 0\n",
    "    \n",
    "df['night_rush'] = df.apply(night_rush, axis=1)"
   ]
  },
  {
   "cell_type": "code",
   "execution_count": null,
   "metadata": {},
   "outputs": [],
   "source": [
    "def night_charge(row):\n",
    "    if row['hour'] in [20,21,22,23,24,1,2,3,4,5,6]:\n",
    "        return 1\n",
    "    else:\n",
    "        return 0\n",
    "    \n",
    "df['night_charge'] = df.apply(night_charge, axis=1)"
   ]
  },
  {
   "cell_type": "code",
   "execution_count": null,
   "metadata": {},
   "outputs": [],
   "source": [
    "def weekday_surcharge(row):\n",
    "    if (row['hour'] in [16,17,18,19,20]) & (row['dayofweek'] in [1,2,3,4,5]):\n",
    "        return 1\n",
    "    else:\n",
    "        return 0\n",
    "    \n",
    "df['weekday_surcharge'] = df.apply(weekday_surcharge, axis=1)"
   ]
  },
  {
   "cell_type": "code",
   "execution_count": null,
   "metadata": {},
   "outputs": [],
   "source": [
    "df.head()"
   ]
  },
  {
   "cell_type": "code",
   "execution_count": null,
   "metadata": {},
   "outputs": [],
   "source": [
    "df.describe()"
   ]
  },
  {
   "cell_type": "code",
   "execution_count": null,
   "metadata": {},
   "outputs": [],
   "source": [
    "df.to_csv('NYC_Cab_Fare_Wrangled_Time_Distance.csv')"
   ]
  },
  {
   "cell_type": "markdown",
   "metadata": {},
   "source": [
    "## Holiday Additions"
   ]
  },
  {
   "cell_type": "code",
   "execution_count": null,
   "metadata": {},
   "outputs": [],
   "source": [
    "#from pandas.tseries.holiday import USFederalHolidayCalendar as calendar\n",
    "\n",
    "#dr = pd.date_range(start='2015-07-01', end='2015-07-31')\n",
    "#df = pd.DataFrame()\n",
    "#df['Date'] = dr\n",
    "\n",
    "#cal = calendar()\n",
    "#holidays = cal.holidays(start=dr.min(), end=dr.max())\n",
    "\n",
    "#df['Holiday'] = df['Date'].isin(holidays)\n",
    "#print df"
   ]
  },
  {
   "cell_type": "markdown",
   "metadata": {},
   "source": [
    "## Latitude Longitude Additions"
   ]
  },
  {
   "cell_type": "code",
   "execution_count": null,
   "metadata": {},
   "outputs": [],
   "source": [
    "df = pd.read_csv('NYC_Cab_Fare_Wrangled_Time_Distance.csv')\n",
    "df.head()"
   ]
  },
  {
   "cell_type": "markdown",
   "metadata": {},
   "source": [
    "I used https://getlatlong.net/ to estimate a geographical area for Manhattan."
   ]
  },
  {
   "cell_type": "markdown",
   "metadata": {},
   "source": [
    "These are the 4 points, that when connected as a quadrilateral, enclose most of Manhattan. (I chose some points in the water since they are unaffected traffic\n",
    "\n",
    "Then for any given point (x,y) both of the following conditions must hold:\n",
    "bottom line <= (x,y) <= top line\n",
    "right line <= (x,y) <= left line\n",
    "\n",
    "Or, equilavlently,\n",
    "bottom line <= mx + b <= top line\n",
    "right line <= mx + b <= left line\n",
    "\n",
    "For instance, to determine if (3,4) <= 2x+1,\n",
    "the condition must be checked that\n",
    "4 <= 2(3) + 1\n",
    "which in this case is true."
   ]
  },
  {
   "cell_type": "code",
   "execution_count": null,
   "metadata": {},
   "outputs": [],
   "source": [
    "# Define line from two points and a provided column\n",
    "def two_points_line(a, b, column):\n",
    "        \n",
    "    # Case when y-values are the same\n",
    "    if b[1]==a[1]:\n",
    "        \n",
    "        # Slope defaults to 0\n",
    "        slope = 0\n",
    "        \n",
    "    # Case when x-values are the same\n",
    "    elif b[0]==a[0]:\n",
    "        \n",
    "        # Case when max value is less than 999999999\n",
    "        if column.max() < 999999999:\n",
    "            \n",
    "            # Add 999999999 to max value\n",
    "            slope = column.max() + 999999999\n",
    "        \n",
    "        # All other cases\n",
    "        else:\n",
    "            \n",
    "            # Multiply max value by itself (greater than 999999999)\n",
    "            slope = column.max() * column.max()\n",
    "    \n",
    "    # When x-values and y-values are not 0\n",
    "    else:\n",
    "        \n",
    "        # Use standard slope formula\n",
    "        slope = (b[1] - a[1])/(b[0]-a[0])\n",
    "    \n",
    "    \n",
    "    # Equation for y-intercept (solving y=mx+b for b)\n",
    "    y_int = a[1] - slope * a[0]\n",
    "    \n",
    "    # Return slope and y-intercept\n",
    "    return slope, y_int"
   ]
  },
  {
   "cell_type": "code",
   "execution_count": null,
   "metadata": {},
   "outputs": [],
   "source": [
    "upper_right = (-73.929224, 40.804328)\n",
    "bottom_right = (-73.980036, 40.710706)\n",
    "bottom_left = (-74.054880, 40.681292)\n",
    "upper_left = (-73.966303, 40.830050)"
   ]
  },
  {
   "cell_type": "code",
   "execution_count": null,
   "metadata": {},
   "outputs": [],
   "source": [
    "m_top, b_top = two_points_line(upper_right, upper_left, df.pickup_latitude)\n",
    "m_left, b_left = two_points_line(bottom_left, upper_left, df.pickup_latitude)\n",
    "m_right, b_right = two_points_line(bottom_right, upper_right, df.pickup_latitude)\n",
    "m_bottom, b_bottom = two_points_line(bottom_right, bottom_left, df.pickup_latitude)"
   ]
  },
  {
   "cell_type": "code",
   "execution_count": null,
   "metadata": {},
   "outputs": [],
   "source": [
    "def manhattan_test((a,b)(x,y)):\n",
    "    if (((b >= (a * m_top + b_top)) &\n",
    "    (b <= (a * m_bottom + b_bottom))) &\n",
    "    ((b <= (a * m_right + b_right)) &\n",
    "    (b >= (a * m_left + b_left)))) & (((y >= (x * m_top + b_top)) &\n",
    "    (y <= (x * m_bottom + b_bottom))) &\n",
    "    ((y <= (x * m_right + b_right)) &\n",
    "    (y >= (x * m_left + b_left)))):\n",
    "        return 1\n",
    "    else:\n",
    "        return 0"
   ]
  },
  {
   "cell_type": "code",
   "execution_count": null,
   "metadata": {},
   "outputs": [],
   "source": [
    "print(manhattan_test((-73.947763, 40.805107), (-73.977289, 40.764035))) #expect 1\n",
    "print(manhattan_test((-73.947763, 40.805107), (-73.918924, 40.754673))) #expect 0\n",
    "print(manhattan_test((-73.919611, 40.710966), (-73.918924, 40.754673))) #expect 0"
   ]
  },
  {
   "cell_type": "code",
   "execution_count": null,
   "metadata": {},
   "outputs": [],
   "source": [
    "def manhattan(row):\n",
    "    if (((row['pickup_latitude'] <= (row['pickup_longitude'] * m_top + b_top)) &\n",
    "    (row['pickup_latitude'] >= (row['pickup_longitude'] * m_bottom + b_bottom))) &\n",
    "    ((row['pickup_latitude'] >= (row['pickup_longitude'] * m_right + b_right)) &\n",
    "    (row['pickup_latitude'] <= (row['pickup_longitude'] * m_left + b_left)))) & (((row['dropoff_latitude'] <= (row['dropoff_longitude'] * m_top + b_top)) &\n",
    "    (row['dropoff_latitude'] >= (row['dropoff_longitude'] * m_bottom + b_bottom))) &\n",
    "    ((row['dropoff_latitude'] >= (row['dropoff_longitude'] * m_right + b_right)) &\n",
    "    (row['dropoff_latitude'] <= (row['dropoff_longitude'] * m_left + b_left)))):\n",
    "        return 1\n",
    "    else:\n",
    "        return 0"
   ]
  },
  {
   "cell_type": "code",
   "execution_count": null,
   "metadata": {},
   "outputs": [],
   "source": [
    "df['manhattan'] = df.apply(manhattan, axis=1)"
   ]
  },
  {
   "cell_type": "code",
   "execution_count": null,
   "metadata": {},
   "outputs": [],
   "source": [
    "def manhattan_to_fro(row):\n",
    "    if ((((row['pickup_latitude'] <= (row['pickup_longitude'] * m_top + b_top)) &\n",
    "    (row['pickup_latitude'] >= (row['pickup_longitude'] * m_bottom + b_bottom))) &\n",
    "    ((row['pickup_latitude'] >= (row['pickup_longitude'] * m_right + b_right)) &\n",
    "    (row['pickup_latitude'] <= (row['pickup_longitude'] * m_left + b_left)))) | (((row['dropoff_latitude'] <= (row['dropoff_longitude'] * m_top + b_top)) &\n",
    "    (row['dropoff_latitude'] >= (row['dropoff_longitude'] * m_bottom + b_bottom))) &\n",
    "    ((row['dropoff_latitude'] >= (row['dropoff_longitude'] * m_right + b_right)) &\n",
    "    (row['dropoff_latitude'] <= (row['dropoff_longitude'] * m_left + b_left))))) &\n",
    "        \n",
    "    (((((row['pickup_latitude'] <= (row['pickup_longitude'] * m_top + b_top)) &\n",
    "    (row['pickup_latitude'] >= (row['pickup_longitude'] * m_bottom + b_bottom))) &\n",
    "    ((row['pickup_latitude'] >= (row['pickup_longitude'] * m_right + b_right)) &\n",
    "    (row['pickup_latitude'] <= (row['pickup_longitude'] * m_left + b_left))))==False) | (((row['dropoff_latitude'] <= (row['dropoff_longitude'] * m_top + b_top)) &\n",
    "    (row['dropoff_latitude'] >= (row['dropoff_longitude'] * m_bottom + b_bottom))) &\n",
    "    ((row['dropoff_latitude'] >= (row['dropoff_longitude'] * m_right + b_right)) &\n",
    "    (row['dropoff_latitude'] <= (row['dropoff_longitude'] * m_left + b_left)))==False)):\n",
    "        return 1\n",
    "    else:\n",
    "        return 0"
   ]
  },
  {
   "cell_type": "code",
   "execution_count": null,
   "metadata": {},
   "outputs": [],
   "source": [
    "df['manhattan_to_fro'] = df.apply(manhattan, axis=1)"
   ]
  },
  {
   "cell_type": "markdown",
   "metadata": {},
   "source": [
    "## Save file"
   ]
  },
  {
   "cell_type": "code",
   "execution_count": null,
   "metadata": {},
   "outputs": [],
   "source": [
    "df.to_csv('NYC_Cab_Fare_Wrangled_Time_Distance.csv')"
   ]
  },
  {
   "cell_type": "markdown",
   "metadata": {},
   "source": [
    "## Distance Additions"
   ]
  },
  {
   "cell_type": "code",
   "execution_count": null,
   "metadata": {},
   "outputs": [],
   "source": [
    "plt.hist(df['euclidean_distance'], bins=20, range=(0,1))\n",
    "plt.title('Rides Less Than 1 Mile', fontsize=15)\n",
    "plt.savefig('Cab Cost per Mile', dpi=300)\n",
    "plt.show()"
   ]
  },
  {
   "cell_type": "code",
   "execution_count": null,
   "metadata": {},
   "outputs": [],
   "source": [
    "plt.hist(df['euclidean_feet'], bins=20, range=(0,400))\n",
    "plt.title('Rides Less Than 400 Feet', fontsize=15)\n",
    "plt.savefig('Rides Less Than 400 Feet', dpi=300)\n",
    "plt.show()"
   ]
  },
  {
   "cell_type": "code",
   "execution_count": null,
   "metadata": {},
   "outputs": [],
   "source": [
    "plt.hist(df['euclidean_feet'], bins=20, range=(0,10))\n",
    "plt.title('Rides Less Than 10 Feet', fontsize=15)\n",
    "plt.savefig('Rides Less Than 10 Feet', dpi=300)\n",
    "plt.show()"
   ]
  },
  {
   "cell_type": "code",
   "execution_count": null,
   "metadata": {},
   "outputs": [],
   "source": [
    "y = df.fare_amount\n",
    "x = df.euclidean_feet\n",
    "plt.scatter(x, y, alpha=0.1)\n",
    "plt.ylabel('Fare')\n",
    "plt.xlabel('Feet')\n",
    "plt.ylim(0,400)\n",
    "plt.xlim(0,400)\n",
    "plt.title('Cost per Mile NYC Cabs', fontsize=15)"
   ]
  },
  {
   "cell_type": "code",
   "execution_count": null,
   "metadata": {},
   "outputs": [],
   "source": [
    "y = df.fare_amount\n",
    "x = df.euclidean_feet\n",
    "plt.scatter(x, y, alpha=0.1)\n",
    "plt.ylabel('Fare')\n",
    "plt.xlabel('Feet')\n",
    "plt.ylim(0,100)\n",
    "plt.xlim(0,10)\n",
    "plt.title('Cost per Mile NYC Cabs', fontsize=15)"
   ]
  }
 ],
 "metadata": {
  "kernelspec": {
   "display_name": "Python 3",
   "language": "python",
   "name": "python3"
  },
  "language_info": {
   "codemirror_mode": {
    "name": "ipython",
    "version": 3
   },
   "file_extension": ".py",
   "mimetype": "text/x-python",
   "name": "python",
   "nbconvert_exporter": "python",
   "pygments_lexer": "ipython3",
   "version": "3.6.6"
  }
 },
 "nbformat": 4,
 "nbformat_minor": 2
}
