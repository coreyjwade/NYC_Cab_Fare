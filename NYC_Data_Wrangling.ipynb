{
 "cells": [
  {
   "cell_type": "markdown",
   "metadata": {},
   "source": [
    "# Predicting New York City Cab Fare"
   ]
  },
  {
   "cell_type": "markdown",
   "metadata": {},
   "source": [
    "This files in this notebook were downloaded from the Kaggle Competition \"New York City Taxi Fare Prediction\" at https://www.kaggle.com/c/new-york-city-taxi-fare-prediction."
   ]
  },
  {
   "cell_type": "code",
   "execution_count": 1,
   "metadata": {},
   "outputs": [],
   "source": [
    "import pandas as pd\n",
    "import numpy as np\n",
    "import matplotlib.pyplot as plt\n",
    "%matplotlib inline"
   ]
  },
  {
   "cell_type": "markdown",
   "metadata": {},
   "source": [
    "## Data Wrangling"
   ]
  },
  {
   "cell_type": "code",
   "execution_count": 2,
   "metadata": {},
   "outputs": [
    {
     "name": "stdout",
     "output_type": "stream",
     "text": [
      "CPU times: user 1min 58s, sys: 1min 6s, total: 3min 4s\n",
      "Wall time: 3min 37s\n"
     ]
    }
   ],
   "source": [
    "%%time\n",
    "df = pd.read_csv('train.csv')"
   ]
  },
  {
   "cell_type": "code",
   "execution_count": 3,
   "metadata": {},
   "outputs": [],
   "source": [
    "import feather"
   ]
  },
  {
   "cell_type": "code",
   "execution_count": 4,
   "metadata": {},
   "outputs": [
    {
     "name": "stdout",
     "output_type": "stream",
     "text": [
      "CPU times: user 12.8 s, sys: 34.1 s, total: 46.9 s\n",
      "Wall time: 59.1 s\n"
     ]
    }
   ],
   "source": [
    "%%time\n",
    "# Save into feather format, about 1.5Gb. \n",
    "df.to_feather('nyc_cab_fare_raw.feather')"
   ]
  },
  {
   "cell_type": "code",
   "execution_count": 5,
   "metadata": {},
   "outputs": [
    {
     "name": "stderr",
     "output_type": "stream",
     "text": [
      "/anaconda3/lib/python3.6/site-packages/pandas/io/feather_format.py:112: FutureWarning: `nthreads` argument is deprecated, pass `use_threads` instead\n",
      "  return feather.read_dataframe(path, nthreads=nthreads)\n"
     ]
    },
    {
     "name": "stdout",
     "output_type": "stream",
     "text": [
      "CPU times: user 18.8 s, sys: 33.9 s, total: 52.8 s\n",
      "Wall time: 1min 57s\n"
     ]
    }
   ],
   "source": [
    "%%time\n",
    "# load the same dataframe next time directly, without reading the csv file again!\n",
    "df = pd.read_feather('nyc_cab_fare_raw.feather')"
   ]
  },
  {
   "cell_type": "code",
   "execution_count": 6,
   "metadata": {},
   "outputs": [
    {
     "data": {
      "text/html": [
       "<div>\n",
       "<style scoped>\n",
       "    .dataframe tbody tr th:only-of-type {\n",
       "        vertical-align: middle;\n",
       "    }\n",
       "\n",
       "    .dataframe tbody tr th {\n",
       "        vertical-align: top;\n",
       "    }\n",
       "\n",
       "    .dataframe thead th {\n",
       "        text-align: right;\n",
       "    }\n",
       "</style>\n",
       "<table border=\"1\" class=\"dataframe\">\n",
       "  <thead>\n",
       "    <tr style=\"text-align: right;\">\n",
       "      <th></th>\n",
       "      <th>key</th>\n",
       "      <th>fare_amount</th>\n",
       "      <th>pickup_datetime</th>\n",
       "      <th>pickup_longitude</th>\n",
       "      <th>pickup_latitude</th>\n",
       "      <th>dropoff_longitude</th>\n",
       "      <th>dropoff_latitude</th>\n",
       "      <th>passenger_count</th>\n",
       "    </tr>\n",
       "  </thead>\n",
       "  <tbody>\n",
       "    <tr>\n",
       "      <th>0</th>\n",
       "      <td>2009-06-15 17:26:21.0000001</td>\n",
       "      <td>4.5</td>\n",
       "      <td>2009-06-15 17:26:21 UTC</td>\n",
       "      <td>-73.844311</td>\n",
       "      <td>40.721319</td>\n",
       "      <td>-73.841610</td>\n",
       "      <td>40.712278</td>\n",
       "      <td>1</td>\n",
       "    </tr>\n",
       "    <tr>\n",
       "      <th>1</th>\n",
       "      <td>2010-01-05 16:52:16.0000002</td>\n",
       "      <td>16.9</td>\n",
       "      <td>2010-01-05 16:52:16 UTC</td>\n",
       "      <td>-74.016048</td>\n",
       "      <td>40.711303</td>\n",
       "      <td>-73.979268</td>\n",
       "      <td>40.782004</td>\n",
       "      <td>1</td>\n",
       "    </tr>\n",
       "    <tr>\n",
       "      <th>2</th>\n",
       "      <td>2011-08-18 00:35:00.00000049</td>\n",
       "      <td>5.7</td>\n",
       "      <td>2011-08-18 00:35:00 UTC</td>\n",
       "      <td>-73.982738</td>\n",
       "      <td>40.761270</td>\n",
       "      <td>-73.991242</td>\n",
       "      <td>40.750562</td>\n",
       "      <td>2</td>\n",
       "    </tr>\n",
       "    <tr>\n",
       "      <th>3</th>\n",
       "      <td>2012-04-21 04:30:42.0000001</td>\n",
       "      <td>7.7</td>\n",
       "      <td>2012-04-21 04:30:42 UTC</td>\n",
       "      <td>-73.987130</td>\n",
       "      <td>40.733143</td>\n",
       "      <td>-73.991567</td>\n",
       "      <td>40.758092</td>\n",
       "      <td>1</td>\n",
       "    </tr>\n",
       "    <tr>\n",
       "      <th>4</th>\n",
       "      <td>2010-03-09 07:51:00.000000135</td>\n",
       "      <td>5.3</td>\n",
       "      <td>2010-03-09 07:51:00 UTC</td>\n",
       "      <td>-73.968095</td>\n",
       "      <td>40.768008</td>\n",
       "      <td>-73.956655</td>\n",
       "      <td>40.783762</td>\n",
       "      <td>1</td>\n",
       "    </tr>\n",
       "  </tbody>\n",
       "</table>\n",
       "</div>"
      ],
      "text/plain": [
       "                             key  fare_amount          pickup_datetime  \\\n",
       "0    2009-06-15 17:26:21.0000001          4.5  2009-06-15 17:26:21 UTC   \n",
       "1    2010-01-05 16:52:16.0000002         16.9  2010-01-05 16:52:16 UTC   \n",
       "2   2011-08-18 00:35:00.00000049          5.7  2011-08-18 00:35:00 UTC   \n",
       "3    2012-04-21 04:30:42.0000001          7.7  2012-04-21 04:30:42 UTC   \n",
       "4  2010-03-09 07:51:00.000000135          5.3  2010-03-09 07:51:00 UTC   \n",
       "\n",
       "   pickup_longitude  pickup_latitude  dropoff_longitude  dropoff_latitude  \\\n",
       "0        -73.844311        40.721319         -73.841610         40.712278   \n",
       "1        -74.016048        40.711303         -73.979268         40.782004   \n",
       "2        -73.982738        40.761270         -73.991242         40.750562   \n",
       "3        -73.987130        40.733143         -73.991567         40.758092   \n",
       "4        -73.968095        40.768008         -73.956655         40.783762   \n",
       "\n",
       "   passenger_count  \n",
       "0                1  \n",
       "1                1  \n",
       "2                2  \n",
       "3                1  \n",
       "4                1  "
      ]
     },
     "execution_count": 6,
     "metadata": {},
     "output_type": "execute_result"
    }
   ],
   "source": [
    "df.head()"
   ]
  },
  {
   "cell_type": "code",
   "execution_count": 7,
   "metadata": {},
   "outputs": [
    {
     "data": {
      "text/html": [
       "<div>\n",
       "<style scoped>\n",
       "    .dataframe tbody tr th:only-of-type {\n",
       "        vertical-align: middle;\n",
       "    }\n",
       "\n",
       "    .dataframe tbody tr th {\n",
       "        vertical-align: top;\n",
       "    }\n",
       "\n",
       "    .dataframe thead th {\n",
       "        text-align: right;\n",
       "    }\n",
       "</style>\n",
       "<table border=\"1\" class=\"dataframe\">\n",
       "  <thead>\n",
       "    <tr style=\"text-align: right;\">\n",
       "      <th></th>\n",
       "      <th>fare_amount</th>\n",
       "      <th>pickup_longitude</th>\n",
       "      <th>pickup_latitude</th>\n",
       "      <th>dropoff_longitude</th>\n",
       "      <th>dropoff_latitude</th>\n",
       "      <th>passenger_count</th>\n",
       "    </tr>\n",
       "  </thead>\n",
       "  <tbody>\n",
       "    <tr>\n",
       "      <th>count</th>\n",
       "      <td>5.542386e+07</td>\n",
       "      <td>5.542386e+07</td>\n",
       "      <td>5.542386e+07</td>\n",
       "      <td>5.542348e+07</td>\n",
       "      <td>5.542348e+07</td>\n",
       "      <td>5.542386e+07</td>\n",
       "    </tr>\n",
       "    <tr>\n",
       "      <th>mean</th>\n",
       "      <td>1.134505e+01</td>\n",
       "      <td>-7.250968e+01</td>\n",
       "      <td>3.991979e+01</td>\n",
       "      <td>-7.251121e+01</td>\n",
       "      <td>3.992068e+01</td>\n",
       "      <td>1.685380e+00</td>\n",
       "    </tr>\n",
       "    <tr>\n",
       "      <th>std</th>\n",
       "      <td>2.071083e+01</td>\n",
       "      <td>1.284888e+01</td>\n",
       "      <td>9.642353e+00</td>\n",
       "      <td>1.278220e+01</td>\n",
       "      <td>9.633346e+00</td>\n",
       "      <td>1.327664e+00</td>\n",
       "    </tr>\n",
       "    <tr>\n",
       "      <th>min</th>\n",
       "      <td>-3.000000e+02</td>\n",
       "      <td>-3.442060e+03</td>\n",
       "      <td>-3.492264e+03</td>\n",
       "      <td>-3.442025e+03</td>\n",
       "      <td>-3.547887e+03</td>\n",
       "      <td>0.000000e+00</td>\n",
       "    </tr>\n",
       "    <tr>\n",
       "      <th>25%</th>\n",
       "      <td>6.000000e+00</td>\n",
       "      <td>-7.399207e+01</td>\n",
       "      <td>4.073493e+01</td>\n",
       "      <td>-7.399140e+01</td>\n",
       "      <td>4.073403e+01</td>\n",
       "      <td>1.000000e+00</td>\n",
       "    </tr>\n",
       "    <tr>\n",
       "      <th>50%</th>\n",
       "      <td>8.500000e+00</td>\n",
       "      <td>-7.398180e+01</td>\n",
       "      <td>4.075265e+01</td>\n",
       "      <td>-7.398015e+01</td>\n",
       "      <td>4.075316e+01</td>\n",
       "      <td>1.000000e+00</td>\n",
       "    </tr>\n",
       "    <tr>\n",
       "      <th>75%</th>\n",
       "      <td>1.250000e+01</td>\n",
       "      <td>-7.396708e+01</td>\n",
       "      <td>4.076713e+01</td>\n",
       "      <td>-7.396367e+01</td>\n",
       "      <td>4.076810e+01</td>\n",
       "      <td>2.000000e+00</td>\n",
       "    </tr>\n",
       "    <tr>\n",
       "      <th>max</th>\n",
       "      <td>9.396336e+04</td>\n",
       "      <td>3.457626e+03</td>\n",
       "      <td>3.408790e+03</td>\n",
       "      <td>3.457622e+03</td>\n",
       "      <td>3.537133e+03</td>\n",
       "      <td>2.080000e+02</td>\n",
       "    </tr>\n",
       "  </tbody>\n",
       "</table>\n",
       "</div>"
      ],
      "text/plain": [
       "        fare_amount  pickup_longitude  pickup_latitude  dropoff_longitude  \\\n",
       "count  5.542386e+07      5.542386e+07     5.542386e+07       5.542348e+07   \n",
       "mean   1.134505e+01     -7.250968e+01     3.991979e+01      -7.251121e+01   \n",
       "std    2.071083e+01      1.284888e+01     9.642353e+00       1.278220e+01   \n",
       "min   -3.000000e+02     -3.442060e+03    -3.492264e+03      -3.442025e+03   \n",
       "25%    6.000000e+00     -7.399207e+01     4.073493e+01      -7.399140e+01   \n",
       "50%    8.500000e+00     -7.398180e+01     4.075265e+01      -7.398015e+01   \n",
       "75%    1.250000e+01     -7.396708e+01     4.076713e+01      -7.396367e+01   \n",
       "max    9.396336e+04      3.457626e+03     3.408790e+03       3.457622e+03   \n",
       "\n",
       "       dropoff_latitude  passenger_count  \n",
       "count      5.542348e+07     5.542386e+07  \n",
       "mean       3.992068e+01     1.685380e+00  \n",
       "std        9.633346e+00     1.327664e+00  \n",
       "min       -3.547887e+03     0.000000e+00  \n",
       "25%        4.073403e+01     1.000000e+00  \n",
       "50%        4.075316e+01     1.000000e+00  \n",
       "75%        4.076810e+01     2.000000e+00  \n",
       "max        3.537133e+03     2.080000e+02  "
      ]
     },
     "execution_count": 7,
     "metadata": {},
     "output_type": "execute_result"
    }
   ],
   "source": [
    "df.describe()"
   ]
  },
  {
   "cell_type": "code",
   "execution_count": 8,
   "metadata": {},
   "outputs": [
    {
     "name": "stdout",
     "output_type": "stream",
     "text": [
      "<class 'pandas.core.frame.DataFrame'>\n",
      "RangeIndex: 55423856 entries, 0 to 55423855\n",
      "Data columns (total 8 columns):\n",
      "key                  object\n",
      "fare_amount          float64\n",
      "pickup_datetime      object\n",
      "pickup_longitude     float64\n",
      "pickup_latitude      float64\n",
      "dropoff_longitude    float64\n",
      "dropoff_latitude     float64\n",
      "passenger_count      int64\n",
      "dtypes: float64(5), int64(1), object(2)\n",
      "memory usage: 3.3+ GB\n"
     ]
    }
   ],
   "source": [
    "df.info()"
   ]
  },
  {
   "cell_type": "markdown",
   "metadata": {},
   "source": [
    "The max and min values seems like errors. More on that later. The dropoffs have a count less than the pickups. We can check for NaNs. "
   ]
  },
  {
   "cell_type": "markdown",
   "metadata": {},
   "source": [
    "### NaN Values"
   ]
  },
  {
   "cell_type": "code",
   "execution_count": 9,
   "metadata": {},
   "outputs": [
    {
     "data": {
      "text/plain": [
       "376"
      ]
     },
     "execution_count": 9,
     "metadata": {},
     "output_type": "execute_result"
    }
   ],
   "source": [
    "# Count number of reviews with no dropoff latitude\n",
    "df.dropoff_latitude.isnull().sum()"
   ]
  },
  {
   "cell_type": "code",
   "execution_count": 10,
   "metadata": {},
   "outputs": [],
   "source": [
    "# Check for null values\n",
    "dfn = df[df.isnull().any(axis=1)]"
   ]
  },
  {
   "cell_type": "code",
   "execution_count": 11,
   "metadata": {},
   "outputs": [
    {
     "data": {
      "text/html": [
       "<div>\n",
       "<style scoped>\n",
       "    .dataframe tbody tr th:only-of-type {\n",
       "        vertical-align: middle;\n",
       "    }\n",
       "\n",
       "    .dataframe tbody tr th {\n",
       "        vertical-align: top;\n",
       "    }\n",
       "\n",
       "    .dataframe thead th {\n",
       "        text-align: right;\n",
       "    }\n",
       "</style>\n",
       "<table border=\"1\" class=\"dataframe\">\n",
       "  <thead>\n",
       "    <tr style=\"text-align: right;\">\n",
       "      <th></th>\n",
       "      <th>key</th>\n",
       "      <th>fare_amount</th>\n",
       "      <th>pickup_datetime</th>\n",
       "      <th>pickup_longitude</th>\n",
       "      <th>pickup_latitude</th>\n",
       "      <th>dropoff_longitude</th>\n",
       "      <th>dropoff_latitude</th>\n",
       "      <th>passenger_count</th>\n",
       "    </tr>\n",
       "  </thead>\n",
       "  <tbody>\n",
       "    <tr>\n",
       "      <th>120227</th>\n",
       "      <td>2012-12-11 12:57:00.00000013</td>\n",
       "      <td>12.50</td>\n",
       "      <td>2012-12-11 12:57:00 UTC</td>\n",
       "      <td>-73.992760</td>\n",
       "      <td>40.743098</td>\n",
       "      <td>NaN</td>\n",
       "      <td>NaN</td>\n",
       "      <td>0</td>\n",
       "    </tr>\n",
       "    <tr>\n",
       "      <th>245696</th>\n",
       "      <td>2013-03-21 18:07:07.0000001</td>\n",
       "      <td>86.50</td>\n",
       "      <td>2013-03-21 18:07:07 UTC</td>\n",
       "      <td>-73.991572</td>\n",
       "      <td>40.740591</td>\n",
       "      <td>NaN</td>\n",
       "      <td>NaN</td>\n",
       "      <td>0</td>\n",
       "    </tr>\n",
       "    <tr>\n",
       "      <th>340533</th>\n",
       "      <td>2012-12-11 12:50:52.00000010</td>\n",
       "      <td>27.50</td>\n",
       "      <td>2012-12-11 12:50:52 UTC</td>\n",
       "      <td>-73.979639</td>\n",
       "      <td>40.784742</td>\n",
       "      <td>NaN</td>\n",
       "      <td>NaN</td>\n",
       "      <td>0</td>\n",
       "    </tr>\n",
       "    <tr>\n",
       "      <th>428108</th>\n",
       "      <td>2011-09-08 09:12:52.0000001</td>\n",
       "      <td>11.80</td>\n",
       "      <td>2011-09-08 09:12:52 UTC</td>\n",
       "      <td>-73.987041</td>\n",
       "      <td>40.751542</td>\n",
       "      <td>NaN</td>\n",
       "      <td>NaN</td>\n",
       "      <td>0</td>\n",
       "    </tr>\n",
       "    <tr>\n",
       "      <th>471472</th>\n",
       "      <td>2012-12-11 12:34:20.0000006</td>\n",
       "      <td>7.80</td>\n",
       "      <td>2012-12-11 12:34:20 UTC</td>\n",
       "      <td>0.000000</td>\n",
       "      <td>0.000000</td>\n",
       "      <td>NaN</td>\n",
       "      <td>NaN</td>\n",
       "      <td>0</td>\n",
       "    </tr>\n",
       "    <tr>\n",
       "      <th>524834</th>\n",
       "      <td>2011-09-25 23:01:12.0000005</td>\n",
       "      <td>14.76</td>\n",
       "      <td>2011-09-25 23:01:12 UTC</td>\n",
       "      <td>-73.985374</td>\n",
       "      <td>40.768518</td>\n",
       "      <td>NaN</td>\n",
       "      <td>NaN</td>\n",
       "      <td>0</td>\n",
       "    </tr>\n",
       "    <tr>\n",
       "      <th>574023</th>\n",
       "      <td>2013-11-04 20:59:15.0000001</td>\n",
       "      <td>10.20</td>\n",
       "      <td>2013-11-04 20:59:15 UTC</td>\n",
       "      <td>-73.998460</td>\n",
       "      <td>40.745406</td>\n",
       "      <td>NaN</td>\n",
       "      <td>NaN</td>\n",
       "      <td>0</td>\n",
       "    </tr>\n",
       "    <tr>\n",
       "      <th>580338</th>\n",
       "      <td>2012-12-11 12:00:53.0000002</td>\n",
       "      <td>21.00</td>\n",
       "      <td>2012-12-11 12:00:53 UTC</td>\n",
       "      <td>-73.974743</td>\n",
       "      <td>40.752057</td>\n",
       "      <td>NaN</td>\n",
       "      <td>NaN</td>\n",
       "      <td>0</td>\n",
       "    </tr>\n",
       "    <tr>\n",
       "      <th>794694</th>\n",
       "      <td>2013-11-04 20:07:59.0000006</td>\n",
       "      <td>7.20</td>\n",
       "      <td>2013-11-04 20:07:59 UTC</td>\n",
       "      <td>-73.977048</td>\n",
       "      <td>40.787565</td>\n",
       "      <td>NaN</td>\n",
       "      <td>NaN</td>\n",
       "      <td>0</td>\n",
       "    </tr>\n",
       "    <tr>\n",
       "      <th>895400</th>\n",
       "      <td>2011-06-20 11:34:44.0000001</td>\n",
       "      <td>40.00</td>\n",
       "      <td>2011-06-20 11:34:44 UTC</td>\n",
       "      <td>-73.862900</td>\n",
       "      <td>40.768900</td>\n",
       "      <td>NaN</td>\n",
       "      <td>NaN</td>\n",
       "      <td>0</td>\n",
       "    </tr>\n",
       "  </tbody>\n",
       "</table>\n",
       "</div>"
      ],
      "text/plain": [
       "                                 key  fare_amount          pickup_datetime  \\\n",
       "120227  2012-12-11 12:57:00.00000013        12.50  2012-12-11 12:57:00 UTC   \n",
       "245696   2013-03-21 18:07:07.0000001        86.50  2013-03-21 18:07:07 UTC   \n",
       "340533  2012-12-11 12:50:52.00000010        27.50  2012-12-11 12:50:52 UTC   \n",
       "428108   2011-09-08 09:12:52.0000001        11.80  2011-09-08 09:12:52 UTC   \n",
       "471472   2012-12-11 12:34:20.0000006         7.80  2012-12-11 12:34:20 UTC   \n",
       "524834   2011-09-25 23:01:12.0000005        14.76  2011-09-25 23:01:12 UTC   \n",
       "574023   2013-11-04 20:59:15.0000001        10.20  2013-11-04 20:59:15 UTC   \n",
       "580338   2012-12-11 12:00:53.0000002        21.00  2012-12-11 12:00:53 UTC   \n",
       "794694   2013-11-04 20:07:59.0000006         7.20  2013-11-04 20:07:59 UTC   \n",
       "895400   2011-06-20 11:34:44.0000001        40.00  2011-06-20 11:34:44 UTC   \n",
       "\n",
       "        pickup_longitude  pickup_latitude  dropoff_longitude  \\\n",
       "120227        -73.992760        40.743098                NaN   \n",
       "245696        -73.991572        40.740591                NaN   \n",
       "340533        -73.979639        40.784742                NaN   \n",
       "428108        -73.987041        40.751542                NaN   \n",
       "471472          0.000000         0.000000                NaN   \n",
       "524834        -73.985374        40.768518                NaN   \n",
       "574023        -73.998460        40.745406                NaN   \n",
       "580338        -73.974743        40.752057                NaN   \n",
       "794694        -73.977048        40.787565                NaN   \n",
       "895400        -73.862900        40.768900                NaN   \n",
       "\n",
       "        dropoff_latitude  passenger_count  \n",
       "120227               NaN                0  \n",
       "245696               NaN                0  \n",
       "340533               NaN                0  \n",
       "428108               NaN                0  \n",
       "471472               NaN                0  \n",
       "524834               NaN                0  \n",
       "574023               NaN                0  \n",
       "580338               NaN                0  \n",
       "794694               NaN                0  \n",
       "895400               NaN                0  "
      ]
     },
     "execution_count": 11,
     "metadata": {},
     "output_type": "execute_result"
    }
   ],
   "source": [
    "# Display null values\n",
    "dfn.head(10)"
   ]
  },
  {
   "cell_type": "markdown",
   "metadata": {},
   "source": [
    "Since these rows all include fare amounts, they should be eliminated from the data. Had the cab just been running idle, the dropoff and pickup would have the same coordinates. Also note the pickup coordinates of 0. This must also be an error."
   ]
  },
  {
   "cell_type": "code",
   "execution_count": 12,
   "metadata": {},
   "outputs": [],
   "source": [
    "# Eliminate null values\n",
    "df = df.dropna(axis=0, subset=['dropoff_latitude'])"
   ]
  },
  {
   "cell_type": "code",
   "execution_count": 13,
   "metadata": {},
   "outputs": [
    {
     "data": {
      "text/html": [
       "<div>\n",
       "<style scoped>\n",
       "    .dataframe tbody tr th:only-of-type {\n",
       "        vertical-align: middle;\n",
       "    }\n",
       "\n",
       "    .dataframe tbody tr th {\n",
       "        vertical-align: top;\n",
       "    }\n",
       "\n",
       "    .dataframe thead th {\n",
       "        text-align: right;\n",
       "    }\n",
       "</style>\n",
       "<table border=\"1\" class=\"dataframe\">\n",
       "  <thead>\n",
       "    <tr style=\"text-align: right;\">\n",
       "      <th></th>\n",
       "      <th>fare_amount</th>\n",
       "      <th>pickup_longitude</th>\n",
       "      <th>pickup_latitude</th>\n",
       "      <th>dropoff_longitude</th>\n",
       "      <th>dropoff_latitude</th>\n",
       "      <th>passenger_count</th>\n",
       "    </tr>\n",
       "  </thead>\n",
       "  <tbody>\n",
       "    <tr>\n",
       "      <th>count</th>\n",
       "      <td>5.542348e+07</td>\n",
       "      <td>5.542348e+07</td>\n",
       "      <td>5.542348e+07</td>\n",
       "      <td>5.542348e+07</td>\n",
       "      <td>5.542348e+07</td>\n",
       "      <td>5.542348e+07</td>\n",
       "    </tr>\n",
       "    <tr>\n",
       "      <th>mean</th>\n",
       "      <td>1.134500e+01</td>\n",
       "      <td>-7.250973e+01</td>\n",
       "      <td>3.991982e+01</td>\n",
       "      <td>-7.251121e+01</td>\n",
       "      <td>3.992068e+01</td>\n",
       "      <td>1.685391e+00</td>\n",
       "    </tr>\n",
       "    <tr>\n",
       "      <th>std</th>\n",
       "      <td>2.071087e+01</td>\n",
       "      <td>1.284878e+01</td>\n",
       "      <td>9.642324e+00</td>\n",
       "      <td>1.278220e+01</td>\n",
       "      <td>9.633346e+00</td>\n",
       "      <td>1.327662e+00</td>\n",
       "    </tr>\n",
       "    <tr>\n",
       "      <th>min</th>\n",
       "      <td>-3.000000e+02</td>\n",
       "      <td>-3.442060e+03</td>\n",
       "      <td>-3.492264e+03</td>\n",
       "      <td>-3.442025e+03</td>\n",
       "      <td>-3.547887e+03</td>\n",
       "      <td>0.000000e+00</td>\n",
       "    </tr>\n",
       "    <tr>\n",
       "      <th>25%</th>\n",
       "      <td>6.000000e+00</td>\n",
       "      <td>-7.399207e+01</td>\n",
       "      <td>4.073493e+01</td>\n",
       "      <td>-7.399140e+01</td>\n",
       "      <td>4.073403e+01</td>\n",
       "      <td>1.000000e+00</td>\n",
       "    </tr>\n",
       "    <tr>\n",
       "      <th>50%</th>\n",
       "      <td>8.500000e+00</td>\n",
       "      <td>-7.398180e+01</td>\n",
       "      <td>4.075265e+01</td>\n",
       "      <td>-7.398015e+01</td>\n",
       "      <td>4.075316e+01</td>\n",
       "      <td>1.000000e+00</td>\n",
       "    </tr>\n",
       "    <tr>\n",
       "      <th>75%</th>\n",
       "      <td>1.250000e+01</td>\n",
       "      <td>-7.396708e+01</td>\n",
       "      <td>4.076713e+01</td>\n",
       "      <td>-7.396367e+01</td>\n",
       "      <td>4.076810e+01</td>\n",
       "      <td>2.000000e+00</td>\n",
       "    </tr>\n",
       "    <tr>\n",
       "      <th>max</th>\n",
       "      <td>9.396336e+04</td>\n",
       "      <td>3.457626e+03</td>\n",
       "      <td>3.408790e+03</td>\n",
       "      <td>3.457622e+03</td>\n",
       "      <td>3.537133e+03</td>\n",
       "      <td>2.080000e+02</td>\n",
       "    </tr>\n",
       "  </tbody>\n",
       "</table>\n",
       "</div>"
      ],
      "text/plain": [
       "        fare_amount  pickup_longitude  pickup_latitude  dropoff_longitude  \\\n",
       "count  5.542348e+07      5.542348e+07     5.542348e+07       5.542348e+07   \n",
       "mean   1.134500e+01     -7.250973e+01     3.991982e+01      -7.251121e+01   \n",
       "std    2.071087e+01      1.284878e+01     9.642324e+00       1.278220e+01   \n",
       "min   -3.000000e+02     -3.442060e+03    -3.492264e+03      -3.442025e+03   \n",
       "25%    6.000000e+00     -7.399207e+01     4.073493e+01      -7.399140e+01   \n",
       "50%    8.500000e+00     -7.398180e+01     4.075265e+01      -7.398015e+01   \n",
       "75%    1.250000e+01     -7.396708e+01     4.076713e+01      -7.396367e+01   \n",
       "max    9.396336e+04      3.457626e+03     3.408790e+03       3.457622e+03   \n",
       "\n",
       "       dropoff_latitude  passenger_count  \n",
       "count      5.542348e+07     5.542348e+07  \n",
       "mean       3.992068e+01     1.685391e+00  \n",
       "std        9.633346e+00     1.327662e+00  \n",
       "min       -3.547887e+03     0.000000e+00  \n",
       "25%        4.073403e+01     1.000000e+00  \n",
       "50%        4.075316e+01     1.000000e+00  \n",
       "75%        4.076810e+01     2.000000e+00  \n",
       "max        3.537133e+03     2.080000e+02  "
      ]
     },
     "execution_count": 13,
     "metadata": {},
     "output_type": "execute_result"
    }
   ],
   "source": [
    "# Verify that counts are the same\n",
    "df.describe()"
   ]
  },
  {
   "cell_type": "markdown",
   "metadata": {},
   "source": [
    "### Latitude Longitude Corrections"
   ]
  },
  {
   "cell_type": "markdown",
   "metadata": {},
   "source": [
    "According to https://www.mapdevelopers.com/geocode_bounding_box.php, New York City has the following bounds: \n",
    "North Latitude: 40.917577 \n",
    "South Latitude: 40.477399 \n",
    "East Longitude: -73.700272 \n",
    "West Longitude: -74.259090"
   ]
  },
  {
   "cell_type": "code",
   "execution_count": 14,
   "metadata": {},
   "outputs": [],
   "source": [
    "# Find cab rides whose pickup or dropoff are within NYC boundaries\n",
    "# Declare constants\n",
    "latmin = 40.477399\n",
    "latmax = 40.917577\n",
    "longmin = -74.259090\n",
    "longmax = -73.700272\n",
    "\n",
    "# Create dataframe with correct coordinates\n",
    "df = df[((((df['pickup_longitude']<=longmax) & (df['pickup_longitude']>=longmin)) & ((df['pickup_latitude']<=latmax) & (df['pickup_latitude']>=latmin)))) | ((((df['dropoff_longitude']<=longmax) % (df['dropoff_longitude']>=longmin)) & ((df['dropoff_latitude']<=latmax) & (df['dropoff_latitude']>=latmin))))]"
   ]
  },
  {
   "cell_type": "code",
   "execution_count": 15,
   "metadata": {},
   "outputs": [
    {
     "data": {
      "text/html": [
       "<div>\n",
       "<style scoped>\n",
       "    .dataframe tbody tr th:only-of-type {\n",
       "        vertical-align: middle;\n",
       "    }\n",
       "\n",
       "    .dataframe tbody tr th {\n",
       "        vertical-align: top;\n",
       "    }\n",
       "\n",
       "    .dataframe thead th {\n",
       "        text-align: right;\n",
       "    }\n",
       "</style>\n",
       "<table border=\"1\" class=\"dataframe\">\n",
       "  <thead>\n",
       "    <tr style=\"text-align: right;\">\n",
       "      <th></th>\n",
       "      <th>fare_amount</th>\n",
       "      <th>pickup_longitude</th>\n",
       "      <th>pickup_latitude</th>\n",
       "      <th>dropoff_longitude</th>\n",
       "      <th>dropoff_latitude</th>\n",
       "      <th>passenger_count</th>\n",
       "    </tr>\n",
       "  </thead>\n",
       "  <tbody>\n",
       "    <tr>\n",
       "      <th>count</th>\n",
       "      <td>5.427071e+07</td>\n",
       "      <td>5.427071e+07</td>\n",
       "      <td>5.427071e+07</td>\n",
       "      <td>5.427071e+07</td>\n",
       "      <td>5.427071e+07</td>\n",
       "      <td>5.427071e+07</td>\n",
       "    </tr>\n",
       "    <tr>\n",
       "      <th>mean</th>\n",
       "      <td>1.131923e+01</td>\n",
       "      <td>-7.397545e+01</td>\n",
       "      <td>4.075083e+01</td>\n",
       "      <td>-7.391284e+01</td>\n",
       "      <td>4.071768e+01</td>\n",
       "      <td>1.685381e+00</td>\n",
       "    </tr>\n",
       "    <tr>\n",
       "      <th>std</th>\n",
       "      <td>2.080626e+01</td>\n",
       "      <td>3.458571e-02</td>\n",
       "      <td>2.694461e-02</td>\n",
       "      <td>3.471237e+00</td>\n",
       "      <td>3.171780e+00</td>\n",
       "      <td>1.315814e+00</td>\n",
       "    </tr>\n",
       "    <tr>\n",
       "      <th>min</th>\n",
       "      <td>-3.000000e+02</td>\n",
       "      <td>-7.425908e+01</td>\n",
       "      <td>4.047759e+01</td>\n",
       "      <td>-2.771290e+03</td>\n",
       "      <td>-3.481141e+03</td>\n",
       "      <td>0.000000e+00</td>\n",
       "    </tr>\n",
       "    <tr>\n",
       "      <th>25%</th>\n",
       "      <td>6.000000e+00</td>\n",
       "      <td>-7.399228e+01</td>\n",
       "      <td>4.073657e+01</td>\n",
       "      <td>-7.399158e+01</td>\n",
       "      <td>4.073550e+01</td>\n",
       "      <td>1.000000e+00</td>\n",
       "    </tr>\n",
       "    <tr>\n",
       "      <th>50%</th>\n",
       "      <td>8.500000e+00</td>\n",
       "      <td>-7.398210e+01</td>\n",
       "      <td>4.075336e+01</td>\n",
       "      <td>-7.398059e+01</td>\n",
       "      <td>4.075382e+01</td>\n",
       "      <td>1.000000e+00</td>\n",
       "    </tr>\n",
       "    <tr>\n",
       "      <th>75%</th>\n",
       "      <td>1.250000e+01</td>\n",
       "      <td>-7.396832e+01</td>\n",
       "      <td>4.076752e+01</td>\n",
       "      <td>-7.396530e+01</td>\n",
       "      <td>4.076837e+01</td>\n",
       "      <td>2.000000e+00</td>\n",
       "    </tr>\n",
       "    <tr>\n",
       "      <th>max</th>\n",
       "      <td>9.396336e+04</td>\n",
       "      <td>-7.370028e+01</td>\n",
       "      <td>4.091755e+01</td>\n",
       "      <td>3.133219e+03</td>\n",
       "      <td>3.537133e+03</td>\n",
       "      <td>2.080000e+02</td>\n",
       "    </tr>\n",
       "  </tbody>\n",
       "</table>\n",
       "</div>"
      ],
      "text/plain": [
       "        fare_amount  pickup_longitude  pickup_latitude  dropoff_longitude  \\\n",
       "count  5.427071e+07      5.427071e+07     5.427071e+07       5.427071e+07   \n",
       "mean   1.131923e+01     -7.397545e+01     4.075083e+01      -7.391284e+01   \n",
       "std    2.080626e+01      3.458571e-02     2.694461e-02       3.471237e+00   \n",
       "min   -3.000000e+02     -7.425908e+01     4.047759e+01      -2.771290e+03   \n",
       "25%    6.000000e+00     -7.399228e+01     4.073657e+01      -7.399158e+01   \n",
       "50%    8.500000e+00     -7.398210e+01     4.075336e+01      -7.398059e+01   \n",
       "75%    1.250000e+01     -7.396832e+01     4.076752e+01      -7.396530e+01   \n",
       "max    9.396336e+04     -7.370028e+01     4.091755e+01       3.133219e+03   \n",
       "\n",
       "       dropoff_latitude  passenger_count  \n",
       "count      5.427071e+07     5.427071e+07  \n",
       "mean       4.071768e+01     1.685381e+00  \n",
       "std        3.171780e+00     1.315814e+00  \n",
       "min       -3.481141e+03     0.000000e+00  \n",
       "25%        4.073550e+01     1.000000e+00  \n",
       "50%        4.075382e+01     1.000000e+00  \n",
       "75%        4.076837e+01     2.000000e+00  \n",
       "max        3.537133e+03     2.080000e+02  "
      ]
     },
     "execution_count": 15,
     "metadata": {},
     "output_type": "execute_result"
    }
   ],
   "source": [
    "df.describe()"
   ]
  },
  {
   "cell_type": "markdown",
   "metadata": {},
   "source": [
    "Some of the entries still don't make sense. Whereas the pickup might be correct, the min/max reveal dropoff"
   ]
  },
  {
   "cell_type": "markdown",
   "metadata": {},
   "source": [
    "According to https://www.mapdevelopers.com/geocode_bounding_box.php, the boundary of the United States is as follows.\n",
    "North Latitude: 71.538800 \n",
    "South Latitude: 18.776300 \n",
    "East Longitude: -66.885417 \n",
    "West Longitude: 170.595700\n",
    "\n",
    "Sticking to the Mainland, California gives the following:\n",
    "West Longitude: -124.482003"
   ]
  },
  {
   "cell_type": "code",
   "execution_count": 16,
   "metadata": {},
   "outputs": [],
   "source": [
    "# Choose cab rides whose pickup and dropoff are the US Mainland\n",
    "# Declare constants\n",
    "latmin = 5.496100\n",
    "latmax = 71.538800\n",
    "longmin = -124.482003\n",
    "longmax = -66.885417\n",
    "\n",
    "# Create dataframe with correct coordinates\n",
    "df = df[((((df['pickup_longitude']<=longmax) & (df['pickup_longitude']>=longmin)) & ((df['pickup_latitude']<=latmax) & (df['pickup_latitude']>=latmin)))) & ((((df['dropoff_longitude']<=longmax) & (df['dropoff_longitude']>=longmin)) & ((df['dropoff_latitude']<=latmax) & (df['dropoff_latitude']>=latmin))))]"
   ]
  },
  {
   "cell_type": "code",
   "execution_count": 17,
   "metadata": {},
   "outputs": [
    {
     "data": {
      "text/html": [
       "<div>\n",
       "<style scoped>\n",
       "    .dataframe tbody tr th:only-of-type {\n",
       "        vertical-align: middle;\n",
       "    }\n",
       "\n",
       "    .dataframe tbody tr th {\n",
       "        vertical-align: top;\n",
       "    }\n",
       "\n",
       "    .dataframe thead th {\n",
       "        text-align: right;\n",
       "    }\n",
       "</style>\n",
       "<table border=\"1\" class=\"dataframe\">\n",
       "  <thead>\n",
       "    <tr style=\"text-align: right;\">\n",
       "      <th></th>\n",
       "      <th>fare_amount</th>\n",
       "      <th>pickup_longitude</th>\n",
       "      <th>pickup_latitude</th>\n",
       "      <th>dropoff_longitude</th>\n",
       "      <th>dropoff_latitude</th>\n",
       "      <th>passenger_count</th>\n",
       "    </tr>\n",
       "  </thead>\n",
       "  <tbody>\n",
       "    <tr>\n",
       "      <th>count</th>\n",
       "      <td>5.421767e+07</td>\n",
       "      <td>5.421767e+07</td>\n",
       "      <td>5.421767e+07</td>\n",
       "      <td>5.421767e+07</td>\n",
       "      <td>5.421767e+07</td>\n",
       "      <td>5.421767e+07</td>\n",
       "    </tr>\n",
       "    <tr>\n",
       "      <th>mean</th>\n",
       "      <td>1.131472e+01</td>\n",
       "      <td>-7.397546e+01</td>\n",
       "      <td>4.075084e+01</td>\n",
       "      <td>-7.397460e+01</td>\n",
       "      <td>4.075117e+01</td>\n",
       "      <td>1.685375e+00</td>\n",
       "    </tr>\n",
       "    <tr>\n",
       "      <th>std</th>\n",
       "      <td>2.080550e+01</td>\n",
       "      <td>3.455069e-02</td>\n",
       "      <td>2.693088e-02</td>\n",
       "      <td>4.513702e-02</td>\n",
       "      <td>5.484992e-02</td>\n",
       "      <td>1.315440e+00</td>\n",
       "    </tr>\n",
       "    <tr>\n",
       "      <th>min</th>\n",
       "      <td>-3.000000e+02</td>\n",
       "      <td>-7.425908e+01</td>\n",
       "      <td>4.047759e+01</td>\n",
       "      <td>-1.191480e+02</td>\n",
       "      <td>5.500000e+00</td>\n",
       "      <td>0.000000e+00</td>\n",
       "    </tr>\n",
       "    <tr>\n",
       "      <th>25%</th>\n",
       "      <td>6.000000e+00</td>\n",
       "      <td>-7.399228e+01</td>\n",
       "      <td>4.073657e+01</td>\n",
       "      <td>-7.399159e+01</td>\n",
       "      <td>4.073558e+01</td>\n",
       "      <td>1.000000e+00</td>\n",
       "    </tr>\n",
       "    <tr>\n",
       "      <th>50%</th>\n",
       "      <td>8.500000e+00</td>\n",
       "      <td>-7.398210e+01</td>\n",
       "      <td>4.075336e+01</td>\n",
       "      <td>-7.398061e+01</td>\n",
       "      <td>4.075385e+01</td>\n",
       "      <td>1.000000e+00</td>\n",
       "    </tr>\n",
       "    <tr>\n",
       "      <th>75%</th>\n",
       "      <td>1.250000e+01</td>\n",
       "      <td>-7.396833e+01</td>\n",
       "      <td>4.076752e+01</td>\n",
       "      <td>-7.396539e+01</td>\n",
       "      <td>4.076838e+01</td>\n",
       "      <td>2.000000e+00</td>\n",
       "    </tr>\n",
       "    <tr>\n",
       "      <th>max</th>\n",
       "      <td>9.396336e+04</td>\n",
       "      <td>-7.370028e+01</td>\n",
       "      <td>4.091755e+01</td>\n",
       "      <td>-6.691319e+01</td>\n",
       "      <td>7.008333e+01</td>\n",
       "      <td>2.080000e+02</td>\n",
       "    </tr>\n",
       "  </tbody>\n",
       "</table>\n",
       "</div>"
      ],
      "text/plain": [
       "        fare_amount  pickup_longitude  pickup_latitude  dropoff_longitude  \\\n",
       "count  5.421767e+07      5.421767e+07     5.421767e+07       5.421767e+07   \n",
       "mean   1.131472e+01     -7.397546e+01     4.075084e+01      -7.397460e+01   \n",
       "std    2.080550e+01      3.455069e-02     2.693088e-02       4.513702e-02   \n",
       "min   -3.000000e+02     -7.425908e+01     4.047759e+01      -1.191480e+02   \n",
       "25%    6.000000e+00     -7.399228e+01     4.073657e+01      -7.399159e+01   \n",
       "50%    8.500000e+00     -7.398210e+01     4.075336e+01      -7.398061e+01   \n",
       "75%    1.250000e+01     -7.396833e+01     4.076752e+01      -7.396539e+01   \n",
       "max    9.396336e+04     -7.370028e+01     4.091755e+01      -6.691319e+01   \n",
       "\n",
       "       dropoff_latitude  passenger_count  \n",
       "count      5.421767e+07     5.421767e+07  \n",
       "mean       4.075117e+01     1.685375e+00  \n",
       "std        5.484992e-02     1.315440e+00  \n",
       "min        5.500000e+00     0.000000e+00  \n",
       "25%        4.073558e+01     1.000000e+00  \n",
       "50%        4.075385e+01     1.000000e+00  \n",
       "75%        4.076838e+01     2.000000e+00  \n",
       "max        7.008333e+01     2.080000e+02  "
      ]
     },
     "execution_count": 17,
     "metadata": {},
     "output_type": "execute_result"
    }
   ],
   "source": [
    "df.describe()"
   ]
  },
  {
   "cell_type": "markdown",
   "metadata": {},
   "source": [
    "### Fare / Passenger Count Corrections"
   ]
  },
  {
   "cell_type": "markdown",
   "metadata": {},
   "source": [
    "There still appear to be anomalies. There should not be 208 passengers in a taxi, or 0. It is conceivable that there could be 0 passengers, and money could be lost, but since the data includes pickups and dropoffs, and the goal is to predict cab fare, the entries with 0 passengers can be eliminated. Furthermore, this 208 passenger anomaly could be a cross state bus ride. It can also be eliminated. According to https://www1.nyc.gov/nyc-resources/faq/484/how-many-passengers-are-allowed-in-a-taxiIf, 4 or 5 people are allowed in a taxi, plus one child under 9. I'll assume a couple more can crowd in and the driver will allow it."
   ]
  },
  {
   "cell_type": "code",
   "execution_count": 18,
   "metadata": {},
   "outputs": [],
   "source": [
    "# Only choose cabs between 1 and 9 riders\n",
    "df = df[(df['passenger_count'] < 10) & (df['passenger_count'] > 0)]"
   ]
  },
  {
   "cell_type": "code",
   "execution_count": 19,
   "metadata": {},
   "outputs": [
    {
     "data": {
      "text/html": [
       "<div>\n",
       "<style scoped>\n",
       "    .dataframe tbody tr th:only-of-type {\n",
       "        vertical-align: middle;\n",
       "    }\n",
       "\n",
       "    .dataframe tbody tr th {\n",
       "        vertical-align: top;\n",
       "    }\n",
       "\n",
       "    .dataframe thead th {\n",
       "        text-align: right;\n",
       "    }\n",
       "</style>\n",
       "<table border=\"1\" class=\"dataframe\">\n",
       "  <thead>\n",
       "    <tr style=\"text-align: right;\">\n",
       "      <th></th>\n",
       "      <th>fare_amount</th>\n",
       "      <th>pickup_longitude</th>\n",
       "      <th>pickup_latitude</th>\n",
       "      <th>dropoff_longitude</th>\n",
       "      <th>dropoff_latitude</th>\n",
       "      <th>passenger_count</th>\n",
       "    </tr>\n",
       "  </thead>\n",
       "  <tbody>\n",
       "    <tr>\n",
       "      <th>count</th>\n",
       "      <td>5.402688e+07</td>\n",
       "      <td>5.402688e+07</td>\n",
       "      <td>5.402688e+07</td>\n",
       "      <td>5.402688e+07</td>\n",
       "      <td>5.402688e+07</td>\n",
       "      <td>5.402688e+07</td>\n",
       "    </tr>\n",
       "    <tr>\n",
       "      <th>mean</th>\n",
       "      <td>1.132304e+01</td>\n",
       "      <td>-7.397546e+01</td>\n",
       "      <td>4.075084e+01</td>\n",
       "      <td>-7.397460e+01</td>\n",
       "      <td>4.075116e+01</td>\n",
       "      <td>1.691236e+00</td>\n",
       "    </tr>\n",
       "    <tr>\n",
       "      <th>std</th>\n",
       "      <td>2.083836e+01</td>\n",
       "      <td>3.456311e-02</td>\n",
       "      <td>2.693433e-02</td>\n",
       "      <td>4.518246e-02</td>\n",
       "      <td>5.488711e-02</td>\n",
       "      <td>1.307088e+00</td>\n",
       "    </tr>\n",
       "    <tr>\n",
       "      <th>min</th>\n",
       "      <td>-3.000000e+02</td>\n",
       "      <td>-7.425908e+01</td>\n",
       "      <td>4.047759e+01</td>\n",
       "      <td>-1.191480e+02</td>\n",
       "      <td>5.500000e+00</td>\n",
       "      <td>1.000000e+00</td>\n",
       "    </tr>\n",
       "    <tr>\n",
       "      <th>25%</th>\n",
       "      <td>6.000000e+00</td>\n",
       "      <td>-7.399228e+01</td>\n",
       "      <td>4.073657e+01</td>\n",
       "      <td>-7.399159e+01</td>\n",
       "      <td>4.073557e+01</td>\n",
       "      <td>1.000000e+00</td>\n",
       "    </tr>\n",
       "    <tr>\n",
       "      <th>50%</th>\n",
       "      <td>8.500000e+00</td>\n",
       "      <td>-7.398210e+01</td>\n",
       "      <td>4.075336e+01</td>\n",
       "      <td>-7.398061e+01</td>\n",
       "      <td>4.075385e+01</td>\n",
       "      <td>1.000000e+00</td>\n",
       "    </tr>\n",
       "    <tr>\n",
       "      <th>75%</th>\n",
       "      <td>1.250000e+01</td>\n",
       "      <td>-7.396833e+01</td>\n",
       "      <td>4.076752e+01</td>\n",
       "      <td>-7.396538e+01</td>\n",
       "      <td>4.076838e+01</td>\n",
       "      <td>2.000000e+00</td>\n",
       "    </tr>\n",
       "    <tr>\n",
       "      <th>max</th>\n",
       "      <td>9.396336e+04</td>\n",
       "      <td>-7.370028e+01</td>\n",
       "      <td>4.091755e+01</td>\n",
       "      <td>-6.691319e+01</td>\n",
       "      <td>7.008333e+01</td>\n",
       "      <td>9.000000e+00</td>\n",
       "    </tr>\n",
       "  </tbody>\n",
       "</table>\n",
       "</div>"
      ],
      "text/plain": [
       "        fare_amount  pickup_longitude  pickup_latitude  dropoff_longitude  \\\n",
       "count  5.402688e+07      5.402688e+07     5.402688e+07       5.402688e+07   \n",
       "mean   1.132304e+01     -7.397546e+01     4.075084e+01      -7.397460e+01   \n",
       "std    2.083836e+01      3.456311e-02     2.693433e-02       4.518246e-02   \n",
       "min   -3.000000e+02     -7.425908e+01     4.047759e+01      -1.191480e+02   \n",
       "25%    6.000000e+00     -7.399228e+01     4.073657e+01      -7.399159e+01   \n",
       "50%    8.500000e+00     -7.398210e+01     4.075336e+01      -7.398061e+01   \n",
       "75%    1.250000e+01     -7.396833e+01     4.076752e+01      -7.396538e+01   \n",
       "max    9.396336e+04     -7.370028e+01     4.091755e+01      -6.691319e+01   \n",
       "\n",
       "       dropoff_latitude  passenger_count  \n",
       "count      5.402688e+07     5.402688e+07  \n",
       "mean       4.075116e+01     1.691236e+00  \n",
       "std        5.488711e-02     1.307088e+00  \n",
       "min        5.500000e+00     1.000000e+00  \n",
       "25%        4.073557e+01     1.000000e+00  \n",
       "50%        4.075385e+01     1.000000e+00  \n",
       "75%        4.076838e+01     2.000000e+00  \n",
       "max        7.008333e+01     9.000000e+00  "
      ]
     },
     "execution_count": 19,
     "metadata": {},
     "output_type": "execute_result"
    }
   ],
   "source": [
    "df.describe()"
   ]
  },
  {
   "cell_type": "markdown",
   "metadata": {},
   "source": [
    "This looks better, but there are still problems with the min and the max. Also, that max fare keeps coming up with a different passenger_count."
   ]
  },
  {
   "cell_type": "code",
   "execution_count": 20,
   "metadata": {},
   "outputs": [
    {
     "data": {
      "text/html": [
       "<div>\n",
       "<style scoped>\n",
       "    .dataframe tbody tr th:only-of-type {\n",
       "        vertical-align: middle;\n",
       "    }\n",
       "\n",
       "    .dataframe tbody tr th {\n",
       "        vertical-align: top;\n",
       "    }\n",
       "\n",
       "    .dataframe thead th {\n",
       "        text-align: right;\n",
       "    }\n",
       "</style>\n",
       "<table border=\"1\" class=\"dataframe\">\n",
       "  <thead>\n",
       "    <tr style=\"text-align: right;\">\n",
       "      <th></th>\n",
       "      <th>key</th>\n",
       "      <th>fare_amount</th>\n",
       "      <th>pickup_datetime</th>\n",
       "      <th>pickup_longitude</th>\n",
       "      <th>pickup_latitude</th>\n",
       "      <th>dropoff_longitude</th>\n",
       "      <th>dropoff_latitude</th>\n",
       "      <th>passenger_count</th>\n",
       "    </tr>\n",
       "  </thead>\n",
       "  <tbody>\n",
       "    <tr>\n",
       "      <th>18859340</th>\n",
       "      <td>2013-08-20 11:52:52.0000001</td>\n",
       "      <td>61550.86</td>\n",
       "      <td>2013-08-20 11:52:52 UTC</td>\n",
       "      <td>-73.967711</td>\n",
       "      <td>40.755965</td>\n",
       "      <td>-73.945572</td>\n",
       "      <td>40.747666</td>\n",
       "      <td>1</td>\n",
       "    </tr>\n",
       "    <tr>\n",
       "      <th>41032263</th>\n",
       "      <td>2015-02-24 08:57:37.0000004</td>\n",
       "      <td>93963.36</td>\n",
       "      <td>2015-02-24 08:57:37 UTC</td>\n",
       "      <td>-73.994461</td>\n",
       "      <td>40.712353</td>\n",
       "      <td>-74.012543</td>\n",
       "      <td>40.702904</td>\n",
       "      <td>2</td>\n",
       "    </tr>\n",
       "    <tr>\n",
       "      <th>41186018</th>\n",
       "      <td>2015-05-03 09:35:20.0000001</td>\n",
       "      <td>75747.02</td>\n",
       "      <td>2015-05-03 09:35:20 UTC</td>\n",
       "      <td>-73.967949</td>\n",
       "      <td>40.792355</td>\n",
       "      <td>-73.990898</td>\n",
       "      <td>40.738976</td>\n",
       "      <td>1</td>\n",
       "    </tr>\n",
       "  </tbody>\n",
       "</table>\n",
       "</div>"
      ],
      "text/plain": [
       "                                  key  fare_amount          pickup_datetime  \\\n",
       "18859340  2013-08-20 11:52:52.0000001     61550.86  2013-08-20 11:52:52 UTC   \n",
       "41032263  2015-02-24 08:57:37.0000004     93963.36  2015-02-24 08:57:37 UTC   \n",
       "41186018  2015-05-03 09:35:20.0000001     75747.02  2015-05-03 09:35:20 UTC   \n",
       "\n",
       "          pickup_longitude  pickup_latitude  dropoff_longitude  \\\n",
       "18859340        -73.967711        40.755965         -73.945572   \n",
       "41032263        -73.994461        40.712353         -74.012543   \n",
       "41186018        -73.967949        40.792355         -73.990898   \n",
       "\n",
       "          dropoff_latitude  passenger_count  \n",
       "18859340         40.747666                1  \n",
       "41032263         40.702904                2  \n",
       "41186018         40.738976                1  "
      ]
     },
     "execution_count": 20,
     "metadata": {},
     "output_type": "execute_result"
    }
   ],
   "source": [
    "df[df['fare_amount']>=10000]"
   ]
  },
  {
   "cell_type": "markdown",
   "metadata": {},
   "source": [
    "It is possible that people are going to California and back, but even so, this messes with the data. We are presuming that the dropoff is the goal destination, but this won't always be the case."
   ]
  },
  {
   "cell_type": "code",
   "execution_count": 21,
   "metadata": {},
   "outputs": [],
   "source": [
    "# Choose only cab rides that are less than 10,000.\n",
    "df = df[df['fare_amount']<10000]"
   ]
  },
  {
   "cell_type": "markdown",
   "metadata": {},
   "source": [
    "No one should have a negative cab ride. According to Dr. Google, the NYC Taxi base fare recently increased from 2 to 2.50. It's unclear what the minimum cab fare should be for this dataset. A histogram should verify things."
   ]
  },
  {
   "cell_type": "code",
   "execution_count": 22,
   "metadata": {},
   "outputs": [
    {
     "data": {
      "image/png": "[encoded data removed]",
      "text/plain": [
       "<Figure size 432x288 with 1 Axes>"
      ]
     },
     "metadata": {},
     "output_type": "display_data"
    }
   ],
   "source": [
    "# Setup Seaborn\n",
    "import seaborn as sns\n",
    "sns.set_style(\"darkgrid\")\n",
    "\n",
    "# Create histogram of 20 bins showing fares from 0 to $20\n",
    "plt.hist(df.fare_amount, bins=21, range=(0,20), ec='white')\n",
    "\n",
    "# Create labels\n",
    "plt.xlabel('$ Cab Fare')\n",
    "plt.ylabel('Passenger Count')\n",
    "plt.title('Cab Fares Under $20 ', fontsize=15)\n",
    "\n",
    "# Save figure\n",
    "plt.savefig(\"Cab_Fares_Under_20_Hist\", dpi=300)\n",
    "\n",
    "# Show graph\n",
    "plt.show()"
   ]
  },
  {
   "cell_type": "markdown",
   "metadata": {},
   "source": [
    "The histogram reveals that the mininum cab fare was 2.50 during the time period that the data was collected."
   ]
  },
  {
   "cell_type": "code",
   "execution_count": 23,
   "metadata": {},
   "outputs": [],
   "source": [
    "# Eliminate cab rides less than $2.50\n",
    "df = df[df['fare_amount'] >= 2.50]"
   ]
  },
  {
   "cell_type": "code",
   "execution_count": 24,
   "metadata": {},
   "outputs": [
    {
     "data": {
      "text/html": [
       "<div>\n",
       "<style scoped>\n",
       "    .dataframe tbody tr th:only-of-type {\n",
       "        vertical-align: middle;\n",
       "    }\n",
       "\n",
       "    .dataframe tbody tr th {\n",
       "        vertical-align: top;\n",
       "    }\n",
       "\n",
       "    .dataframe thead th {\n",
       "        text-align: right;\n",
       "    }\n",
       "</style>\n",
       "<table border=\"1\" class=\"dataframe\">\n",
       "  <thead>\n",
       "    <tr style=\"text-align: right;\">\n",
       "      <th></th>\n",
       "      <th>fare_amount</th>\n",
       "      <th>pickup_longitude</th>\n",
       "      <th>pickup_latitude</th>\n",
       "      <th>dropoff_longitude</th>\n",
       "      <th>dropoff_latitude</th>\n",
       "      <th>passenger_count</th>\n",
       "    </tr>\n",
       "  </thead>\n",
       "  <tbody>\n",
       "    <tr>\n",
       "      <th>count</th>\n",
       "      <td>5.402291e+07</td>\n",
       "      <td>5.402291e+07</td>\n",
       "      <td>5.402291e+07</td>\n",
       "      <td>5.402291e+07</td>\n",
       "      <td>5.402291e+07</td>\n",
       "      <td>5.402291e+07</td>\n",
       "    </tr>\n",
       "    <tr>\n",
       "      <th>mean</th>\n",
       "      <td>1.131997e+01</td>\n",
       "      <td>-7.397546e+01</td>\n",
       "      <td>4.075084e+01</td>\n",
       "      <td>-7.397460e+01</td>\n",
       "      <td>4.075116e+01</td>\n",
       "      <td>1.691238e+00</td>\n",
       "    </tr>\n",
       "    <tr>\n",
       "      <th>std</th>\n",
       "      <td>9.724556e+00</td>\n",
       "      <td>3.455982e-02</td>\n",
       "      <td>2.693309e-02</td>\n",
       "      <td>4.517953e-02</td>\n",
       "      <td>5.488774e-02</td>\n",
       "      <td>1.307091e+00</td>\n",
       "    </tr>\n",
       "    <tr>\n",
       "      <th>min</th>\n",
       "      <td>2.500000e+00</td>\n",
       "      <td>-7.425908e+01</td>\n",
       "      <td>4.047759e+01</td>\n",
       "      <td>-1.191480e+02</td>\n",
       "      <td>5.500000e+00</td>\n",
       "      <td>1.000000e+00</td>\n",
       "    </tr>\n",
       "    <tr>\n",
       "      <th>25%</th>\n",
       "      <td>6.000000e+00</td>\n",
       "      <td>-7.399228e+01</td>\n",
       "      <td>4.073657e+01</td>\n",
       "      <td>-7.399159e+01</td>\n",
       "      <td>4.073557e+01</td>\n",
       "      <td>1.000000e+00</td>\n",
       "    </tr>\n",
       "    <tr>\n",
       "      <th>50%</th>\n",
       "      <td>8.500000e+00</td>\n",
       "      <td>-7.398210e+01</td>\n",
       "      <td>4.075336e+01</td>\n",
       "      <td>-7.398061e+01</td>\n",
       "      <td>4.075385e+01</td>\n",
       "      <td>1.000000e+00</td>\n",
       "    </tr>\n",
       "    <tr>\n",
       "      <th>75%</th>\n",
       "      <td>1.250000e+01</td>\n",
       "      <td>-7.396833e+01</td>\n",
       "      <td>4.076752e+01</td>\n",
       "      <td>-7.396538e+01</td>\n",
       "      <td>4.076838e+01</td>\n",
       "      <td>2.000000e+00</td>\n",
       "    </tr>\n",
       "    <tr>\n",
       "      <th>max</th>\n",
       "      <td>9.000410e+03</td>\n",
       "      <td>-7.370028e+01</td>\n",
       "      <td>4.091755e+01</td>\n",
       "      <td>-6.691319e+01</td>\n",
       "      <td>7.008333e+01</td>\n",
       "      <td>9.000000e+00</td>\n",
       "    </tr>\n",
       "  </tbody>\n",
       "</table>\n",
       "</div>"
      ],
      "text/plain": [
       "        fare_amount  pickup_longitude  pickup_latitude  dropoff_longitude  \\\n",
       "count  5.402291e+07      5.402291e+07     5.402291e+07       5.402291e+07   \n",
       "mean   1.131997e+01     -7.397546e+01     4.075084e+01      -7.397460e+01   \n",
       "std    9.724556e+00      3.455982e-02     2.693309e-02       4.517953e-02   \n",
       "min    2.500000e+00     -7.425908e+01     4.047759e+01      -1.191480e+02   \n",
       "25%    6.000000e+00     -7.399228e+01     4.073657e+01      -7.399159e+01   \n",
       "50%    8.500000e+00     -7.398210e+01     4.075336e+01      -7.398061e+01   \n",
       "75%    1.250000e+01     -7.396833e+01     4.076752e+01      -7.396538e+01   \n",
       "max    9.000410e+03     -7.370028e+01     4.091755e+01      -6.691319e+01   \n",
       "\n",
       "       dropoff_latitude  passenger_count  \n",
       "count      5.402291e+07     5.402291e+07  \n",
       "mean       4.075116e+01     1.691238e+00  \n",
       "std        5.488774e-02     1.307091e+00  \n",
       "min        5.500000e+00     1.000000e+00  \n",
       "25%        4.073557e+01     1.000000e+00  \n",
       "50%        4.075385e+01     1.000000e+00  \n",
       "75%        4.076838e+01     2.000000e+00  \n",
       "max        7.008333e+01     9.000000e+00  "
      ]
     },
     "execution_count": 24,
     "metadata": {},
     "output_type": "execute_result"
    }
   ],
   "source": [
    "df.describe()"
   ]
  },
  {
   "cell_type": "markdown",
   "metadata": {},
   "source": [
    "Still a couple of issues. The min fare looks good, but the max seems quite high. Also, the dropoff latitude and longitude of the min are way out of range."
   ]
  },
  {
   "cell_type": "markdown",
   "metadata": {},
   "source": [
    "One idea is to create a new column, distance, and then plot it against fare to determine outliers. While it's true that someone can rent a cab for hours zigzagging across NYC, and return to where they started, this kind of fare is going to distort the data."
   ]
  },
  {
   "cell_type": "markdown",
   "metadata": {},
   "source": [
    "In the meantime, here is a histogram of all the cab fares."
   ]
  },
  {
   "cell_type": "code",
   "execution_count": 25,
   "metadata": {},
   "outputs": [
    {
     "data": {
      "image/png": "[encoded data removed]",
      "text/plain": [
       "<Figure size 432x288 with 1 Axes>"
      ]
     },
     "metadata": {},
     "output_type": "display_data"
    }
   ],
   "source": [
    "# Create log histogram of all current fares\n",
    "plt.hist(df.fare_amount, bins=20, ec='white', log=True)\n",
    "plt.xlabel('$ Cab Fare')\n",
    "plt.ylabel('Passenger Count')\n",
    "plt.title('Log Cab Fare Histogram', fontsize=15)\n",
    "plt.savefig(\"Cab_Fare_Hist\", dpi=300)\n",
    "plt.show()"
   ]
  },
  {
   "cell_type": "code",
   "execution_count": 26,
   "metadata": {},
   "outputs": [],
   "source": [
    "# Save file before adding new columns\n",
    "df.to_csv('NYC_Cab_Fare_Wrangled.csv')"
   ]
  },
  {
   "cell_type": "markdown",
   "metadata": {},
   "source": [
    "### Euclidean and Taxicab Distance"
   ]
  },
  {
   "cell_type": "markdown",
   "metadata": {},
   "source": [
    "I am going to define both a Euclidean Distance, an unrealistic min since the shortest distance between 2 points is not a straight line through buildings and blocks, and a Taxicab Distance, a more realistic expectation of miles traveled. The Euclidean distance will serve as a min to eliminate outliers and errors. According to http://nymag.com/nymetro/urban/features/taxi/n_20286/, one could not do bretter than $1.50 per mile. "
   ]
  },
  {
   "cell_type": "code",
   "execution_count": 27,
   "metadata": {},
   "outputs": [
    {
     "data": {
      "text/html": [
       "<div>\n",
       "<style scoped>\n",
       "    .dataframe tbody tr th:only-of-type {\n",
       "        vertical-align: middle;\n",
       "    }\n",
       "\n",
       "    .dataframe tbody tr th {\n",
       "        vertical-align: top;\n",
       "    }\n",
       "\n",
       "    .dataframe thead th {\n",
       "        text-align: right;\n",
       "    }\n",
       "</style>\n",
       "<table border=\"1\" class=\"dataframe\">\n",
       "  <thead>\n",
       "    <tr style=\"text-align: right;\">\n",
       "      <th></th>\n",
       "      <th>key</th>\n",
       "      <th>fare_amount</th>\n",
       "      <th>pickup_datetime</th>\n",
       "      <th>pickup_longitude</th>\n",
       "      <th>pickup_latitude</th>\n",
       "      <th>dropoff_longitude</th>\n",
       "      <th>dropoff_latitude</th>\n",
       "      <th>passenger_count</th>\n",
       "      <th>euclidean_distance</th>\n",
       "      <th>taxicab_distance</th>\n",
       "    </tr>\n",
       "  </thead>\n",
       "  <tbody>\n",
       "    <tr>\n",
       "      <th>0</th>\n",
       "      <td>2009-06-15 17:26:21.0000001</td>\n",
       "      <td>4.5</td>\n",
       "      <td>2009-06-15 17:26:21 UTC</td>\n",
       "      <td>-73.844311</td>\n",
       "      <td>40.721319</td>\n",
       "      <td>-73.841610</td>\n",
       "      <td>40.712278</td>\n",
       "      <td>1</td>\n",
       "      <td>0.651073</td>\n",
       "      <td>0.810198</td>\n",
       "    </tr>\n",
       "    <tr>\n",
       "      <th>1</th>\n",
       "      <td>2010-01-05 16:52:16.0000002</td>\n",
       "      <td>16.9</td>\n",
       "      <td>2010-01-05 16:52:16 UTC</td>\n",
       "      <td>-74.016048</td>\n",
       "      <td>40.711303</td>\n",
       "      <td>-73.979268</td>\n",
       "      <td>40.782004</td>\n",
       "      <td>1</td>\n",
       "      <td>5.499001</td>\n",
       "      <td>7.416189</td>\n",
       "    </tr>\n",
       "    <tr>\n",
       "      <th>2</th>\n",
       "      <td>2011-08-18 00:35:00.00000049</td>\n",
       "      <td>5.7</td>\n",
       "      <td>2011-08-18 00:35:00 UTC</td>\n",
       "      <td>-73.982738</td>\n",
       "      <td>40.761270</td>\n",
       "      <td>-73.991242</td>\n",
       "      <td>40.750562</td>\n",
       "      <td>2</td>\n",
       "      <td>0.943509</td>\n",
       "      <td>1.325628</td>\n",
       "    </tr>\n",
       "    <tr>\n",
       "      <th>3</th>\n",
       "      <td>2012-04-21 04:30:42.0000001</td>\n",
       "      <td>7.7</td>\n",
       "      <td>2012-04-21 04:30:42 UTC</td>\n",
       "      <td>-73.987130</td>\n",
       "      <td>40.733143</td>\n",
       "      <td>-73.991567</td>\n",
       "      <td>40.758092</td>\n",
       "      <td>1</td>\n",
       "      <td>1.748493</td>\n",
       "      <td>2.027634</td>\n",
       "    </tr>\n",
       "    <tr>\n",
       "      <th>4</th>\n",
       "      <td>2010-03-09 07:51:00.000000135</td>\n",
       "      <td>5.3</td>\n",
       "      <td>2010-03-09 07:51:00 UTC</td>\n",
       "      <td>-73.968095</td>\n",
       "      <td>40.768008</td>\n",
       "      <td>-73.956655</td>\n",
       "      <td>40.783762</td>\n",
       "      <td>1</td>\n",
       "      <td>1.343397</td>\n",
       "      <td>1.876386</td>\n",
       "    </tr>\n",
       "  </tbody>\n",
       "</table>\n",
       "</div>"
      ],
      "text/plain": [
       "                             key  fare_amount          pickup_datetime  \\\n",
       "0    2009-06-15 17:26:21.0000001          4.5  2009-06-15 17:26:21 UTC   \n",
       "1    2010-01-05 16:52:16.0000002         16.9  2010-01-05 16:52:16 UTC   \n",
       "2   2011-08-18 00:35:00.00000049          5.7  2011-08-18 00:35:00 UTC   \n",
       "3    2012-04-21 04:30:42.0000001          7.7  2012-04-21 04:30:42 UTC   \n",
       "4  2010-03-09 07:51:00.000000135          5.3  2010-03-09 07:51:00 UTC   \n",
       "\n",
       "   pickup_longitude  pickup_latitude  dropoff_longitude  dropoff_latitude  \\\n",
       "0        -73.844311        40.721319         -73.841610         40.712278   \n",
       "1        -74.016048        40.711303         -73.979268         40.782004   \n",
       "2        -73.982738        40.761270         -73.991242         40.750562   \n",
       "3        -73.987130        40.733143         -73.991567         40.758092   \n",
       "4        -73.968095        40.768008         -73.956655         40.783762   \n",
       "\n",
       "   passenger_count  euclidean_distance  taxicab_distance  \n",
       "0                1            0.651073          0.810198  \n",
       "1                1            5.499001          7.416189  \n",
       "2                2            0.943509          1.325628  \n",
       "3                1            1.748493          2.027634  \n",
       "4                1            1.343397          1.876386  "
      ]
     },
     "execution_count": 27,
     "metadata": {},
     "output_type": "execute_result"
    }
   ],
   "source": [
    "# Define coordinates (x,y)\n",
    "x1 = df['pickup_latitude']\n",
    "y1 = df['pickup_longitude']\n",
    "x2 = df['dropoff_latitude']\n",
    "y2 = df['dropoff_longitude']\n",
    "\n",
    "# Create Euclidean Distrance column\n",
    "df['euclidean_distance'] = np.sqrt((y2-y1)**2 + (x2-x1)**2)\n",
    "\n",
    "# Create Taxicab Distance column\n",
    "df['taxicab_distance'] = np.abs(y2-y1) + np.abs(x2-x1)\n",
    "\n",
    "# Convert to miles\n",
    "df['euclidean_distance'] = df['euclidean_distance'] * 69\n",
    "df['taxicab_distance'] = df['taxicab_distance'] * 69\n",
    "\n",
    "# Show first five entries\n",
    "df.head()"
   ]
  },
  {
   "cell_type": "markdown",
   "metadata": {},
   "source": [
    "#### Distance / Fare Plots"
   ]
  },
  {
   "cell_type": "code",
   "execution_count": 28,
   "metadata": {},
   "outputs": [
    {
     "data": {
      "image/png": "[encoded data removed]",
      "text/plain": [
       "<Figure size 432x288 with 1 Axes>"
      ]
     },
     "metadata": {},
     "output_type": "display_data"
    }
   ],
   "source": [
    "# Define x and y\n",
    "x = df.euclidean_distance\n",
    "y = df.fare_amount\n",
    "\n",
    "# Create scatter plot\n",
    "plt.scatter(x, y, alpha=0.2)\n",
    "\n",
    "# Create labels\n",
    "plt.ylabel('Fare')\n",
    "plt.xlabel('Miles')\n",
    "\n",
    "# Create title\n",
    "plt.title('NYC Cab Cost per Mile', fontsize=15)\n",
    "\n",
    "minLine, = plt.plot(x, 2.5 + 2*x, 'plum', label='Min_cost')\n",
    "\n",
    "plt.legend(handles=[minLine])\n",
    "plt.savefig('Cab Cost per Mile', dpi=300)\n",
    "plt.show()"
   ]
  },
  {
   "cell_type": "markdown",
   "metadata": {},
   "source": [
    "All rides underneath the plum line can be eliminated. Since the going rate was 2.50 per cab at 2.00 per mile in NYC, they are impossible."
   ]
  },
  {
   "cell_type": "code",
   "execution_count": null,
   "metadata": {},
   "outputs": [],
   "source": [
    "# Define x and y\n",
    "x = df.euclidean_distance\n",
    "y = df.fare_amount\n",
    "\n",
    "# Prevent cell overflow\n",
    "plt.rcParams['agg.path.chunksize'] = 10000\n",
    "\n",
    "# Create scatter plot\n",
    "plt.scatter(x, y, alpha=0.2)\n",
    "\n",
    "# Create labels\n",
    "plt.ylabel('Fare')\n",
    "plt.xlabel('Miles')\n",
    "\n",
    "# Create zoom limits\n",
    "plt.xlim(0, 1000)\n",
    "plt.ylim(0, 1000)\n",
    "\n",
    "# Create title\n",
    "plt.title('NYC Cab Cost per Mile', fontsize=15)\n",
    "\n",
    "#Since helpful votes cannot exceed total votes, the cyan line represents a maximum. \n",
    "#All dots must be underneath the line\n",
    "minLine, = plt.plot(x, 2.5 + 2*x, 'plum', label='Min_cost')\n",
    "\n",
    "plt.legend(handles=[minLine])\n",
    "plt.savefig('Cab Cost per Mile Zoom', dpi=300)\n",
    "plt.show()"
   ]
  },
  {
   "cell_type": "code",
   "execution_count": 29,
   "metadata": {},
   "outputs": [
    {
     "data": {
      "image/png": "[encoded data removed]",
      "text/plain": [
       "<Figure size 432x288 with 1 Axes>"
      ]
     },
     "metadata": {},
     "output_type": "display_data"
    }
   ],
   "source": [
    "# Define x and y\n",
    "x = df.euclidean_distance\n",
    "y = df.fare_amount\n",
    "\n",
    "# Prevent cell overflow\n",
    "plt.rcParams['agg.path.chunksize'] = 10000\n",
    "\n",
    "# Create scatter plot\n",
    "plt.scatter(x, y, alpha=0.2)\n",
    "\n",
    "# Create labels\n",
    "plt.ylabel('Fare')\n",
    "plt.xlabel('Miles')\n",
    "\n",
    "# Create zoom limits\n",
    "plt.xlim(0, 25)\n",
    "plt.ylim(0, 25)\n",
    "\n",
    "# Create title\n",
    "plt.title('NYC Cab Cost per Mile', fontsize=15)\n",
    "\n",
    "#Since helpful votes cannot exceed total votes, the cyan line represents a maximum. \n",
    "#All dots must be underneath the line\n",
    "minLine, = plt.plot(x, 2.5 + 2*x, 'plum', label='Min_cost')\n",
    "\n",
    "plt.legend(handles=[minLine])\n",
    "plt.savefig('Cab Cost per Mile Zoom', dpi=300)\n",
    "plt.show()"
   ]
  },
  {
   "cell_type": "code",
   "execution_count": 30,
   "metadata": {},
   "outputs": [],
   "source": [
    "#### Eliminate unrealistic plots\n",
    "df = df[df['fare_amount'] >= (df['euclidean_distance'] * 2 + 2.50)]"
   ]
  },
  {
   "cell_type": "code",
   "execution_count": 31,
   "metadata": {},
   "outputs": [],
   "source": [
    "# Elminate fares that traveled no distance\n",
    "df = df[df['euclidean_distance']>0]"
   ]
  },
  {
   "cell_type": "code",
   "execution_count": 32,
   "metadata": {},
   "outputs": [
    {
     "data": {
      "image/png": "[encoded data removed]",
      "text/plain": [
       "<Figure size 432x288 with 1 Axes>"
      ]
     },
     "metadata": {},
     "output_type": "display_data"
    }
   ],
   "source": [
    "# Show updated log cab fare histogram\n",
    "plt.hist(df.fare_amount, bins=20, ec='white', log=True)\n",
    "plt.xlabel('$ Cab Fare')\n",
    "plt.ylabel('Passenger Count')\n",
    "plt.title('Log Cab Fare Histogram', fontsize=15)\n",
    "plt.savefig(\"Cab_Fare_Hist_Updated\", dpi=300)\n",
    "plt.show()"
   ]
  },
  {
   "cell_type": "code",
   "execution_count": 34,
   "metadata": {},
   "outputs": [
    {
     "data": {
      "image/png": "[encoded data removed]",
      "text/plain": [
       "<Figure size 432x288 with 1 Axes>"
      ]
     },
     "metadata": {},
     "output_type": "display_data"
    }
   ],
   "source": [
    "# Show zoomed in log cab fare histogram\n",
    "plt.hist(df.fare_amount, bins=20, range=(0,200), ec='white', log=True)\n",
    "plt.xlabel('$ Cab Fare')\n",
    "plt.ylabel('Passenger Count')\n",
    "plt.title('Log Cab Fare Histogram 0-200', fontsize=15)\n",
    "plt.savefig(\"Cab_Fare_Hist_zoom\", dpi=300)\n",
    "plt.show()"
   ]
  },
  {
   "cell_type": "code",
   "execution_count": 35,
   "metadata": {},
   "outputs": [
    {
     "data": {
      "image/png": "[encoded data removed]",
      "text/plain": [
       "<Figure size 432x288 with 1 Axes>"
      ]
     },
     "metadata": {},
     "output_type": "display_data"
    }
   ],
   "source": [
    "# Show zoomed in cab fare histogram\n",
    "plt.hist(df.fare_amount, bins=20, range=(0,200), ec='white')\n",
    "plt.xlabel('$ Cab Fare')\n",
    "plt.ylabel('Passenger Count')\n",
    "plt.title('Cab Fare Histogram 0-200', fontsize=15)\n",
    "plt.savefig(\"Cab_Fare_Hist_0-200\", dpi=300)\n",
    "plt.show()"
   ]
  },
  {
   "cell_type": "markdown",
   "metadata": {},
   "source": [
    "### Save File"
   ]
  },
  {
   "cell_type": "code",
   "execution_count": 36,
   "metadata": {},
   "outputs": [],
   "source": [
    "# Save wrangled frame as csv file\n",
    "df.to_csv('NYC_Cab_Fare_Wrangled.csv')"
   ]
  },
  {
   "cell_type": "code",
   "execution_count": 37,
   "metadata": {},
   "outputs": [
    {
     "data": {
      "text/plain": [
       "14135"
      ]
     },
     "execution_count": 37,
     "metadata": {},
     "output_type": "execute_result"
    }
   ],
   "source": [
    "# Get rid of accumulated garbage\n",
    "import gc\n",
    "gc.collect()"
   ]
  },
  {
   "cell_type": "markdown",
   "metadata": {},
   "source": [
    "## Time Series"
   ]
  },
  {
   "cell_type": "code",
   "execution_count": 55,
   "metadata": {},
   "outputs": [
    {
     "name": "stdout",
     "output_type": "stream",
     "text": [
      "CPU times: user 1h 52min 41s, sys: 2min 35s, total: 1h 55min 17s\n",
      "Wall time: 2h 6min 53s\n"
     ]
    }
   ],
   "source": [
    "%%time\n",
    "# If the kernel keeps dying, run statement underneath\n",
    "df = pd.read_csv('NYC_Cab_Fare_Wrangled.csv', parse_dates=['pickup_datetime'])"
   ]
  },
  {
   "cell_type": "code",
   "execution_count": 56,
   "metadata": {},
   "outputs": [
    {
     "name": "stdout",
     "output_type": "stream",
     "text": [
      "<class 'pandas.core.frame.DataFrame'>\n",
      "RangeIndex: 51915840 entries, 0 to 51915839\n",
      "Data columns (total 11 columns):\n",
      "Unnamed: 0            int64\n",
      "key                   object\n",
      "fare_amount           float64\n",
      "pickup_datetime       datetime64[ns]\n",
      "pickup_longitude      float64\n",
      "pickup_latitude       float64\n",
      "dropoff_longitude     float64\n",
      "dropoff_latitude      float64\n",
      "passenger_count       int64\n",
      "euclidean_distance    float64\n",
      "taxicab_distance      float64\n",
      "dtypes: datetime64[ns](1), float64(7), int64(2), object(1)\n",
      "memory usage: 4.3+ GB\n"
     ]
    }
   ],
   "source": [
    "df.info()"
   ]
  },
  {
   "cell_type": "code",
   "execution_count": 57,
   "metadata": {},
   "outputs": [
    {
     "data": {
      "text/html": [
       "<div>\n",
       "<style scoped>\n",
       "    .dataframe tbody tr th:only-of-type {\n",
       "        vertical-align: middle;\n",
       "    }\n",
       "\n",
       "    .dataframe tbody tr th {\n",
       "        vertical-align: top;\n",
       "    }\n",
       "\n",
       "    .dataframe thead th {\n",
       "        text-align: right;\n",
       "    }\n",
       "</style>\n",
       "<table border=\"1\" class=\"dataframe\">\n",
       "  <thead>\n",
       "    <tr style=\"text-align: right;\">\n",
       "      <th></th>\n",
       "      <th>Unnamed: 0</th>\n",
       "      <th>key</th>\n",
       "      <th>fare_amount</th>\n",
       "      <th>pickup_datetime</th>\n",
       "      <th>pickup_longitude</th>\n",
       "      <th>pickup_latitude</th>\n",
       "      <th>dropoff_longitude</th>\n",
       "      <th>dropoff_latitude</th>\n",
       "      <th>passenger_count</th>\n",
       "      <th>euclidean_distance</th>\n",
       "      <th>taxicab_distance</th>\n",
       "    </tr>\n",
       "  </thead>\n",
       "  <tbody>\n",
       "    <tr>\n",
       "      <th>0</th>\n",
       "      <td>0</td>\n",
       "      <td>2009-06-15 17:26:21.0000001</td>\n",
       "      <td>4.5</td>\n",
       "      <td>2009-06-15 17:26:21</td>\n",
       "      <td>-73.844311</td>\n",
       "      <td>40.721319</td>\n",
       "      <td>-73.841610</td>\n",
       "      <td>40.712278</td>\n",
       "      <td>1</td>\n",
       "      <td>0.651073</td>\n",
       "      <td>0.810198</td>\n",
       "    </tr>\n",
       "    <tr>\n",
       "      <th>1</th>\n",
       "      <td>1</td>\n",
       "      <td>2010-01-05 16:52:16.0000002</td>\n",
       "      <td>16.9</td>\n",
       "      <td>2010-01-05 16:52:16</td>\n",
       "      <td>-74.016048</td>\n",
       "      <td>40.711303</td>\n",
       "      <td>-73.979268</td>\n",
       "      <td>40.782004</td>\n",
       "      <td>1</td>\n",
       "      <td>5.499001</td>\n",
       "      <td>7.416189</td>\n",
       "    </tr>\n",
       "    <tr>\n",
       "      <th>2</th>\n",
       "      <td>2</td>\n",
       "      <td>2011-08-18 00:35:00.00000049</td>\n",
       "      <td>5.7</td>\n",
       "      <td>2011-08-18 00:35:00</td>\n",
       "      <td>-73.982738</td>\n",
       "      <td>40.761270</td>\n",
       "      <td>-73.991242</td>\n",
       "      <td>40.750562</td>\n",
       "      <td>2</td>\n",
       "      <td>0.943509</td>\n",
       "      <td>1.325628</td>\n",
       "    </tr>\n",
       "    <tr>\n",
       "      <th>3</th>\n",
       "      <td>3</td>\n",
       "      <td>2012-04-21 04:30:42.0000001</td>\n",
       "      <td>7.7</td>\n",
       "      <td>2012-04-21 04:30:42</td>\n",
       "      <td>-73.987130</td>\n",
       "      <td>40.733143</td>\n",
       "      <td>-73.991567</td>\n",
       "      <td>40.758092</td>\n",
       "      <td>1</td>\n",
       "      <td>1.748493</td>\n",
       "      <td>2.027634</td>\n",
       "    </tr>\n",
       "    <tr>\n",
       "      <th>4</th>\n",
       "      <td>4</td>\n",
       "      <td>2010-03-09 07:51:00.000000135</td>\n",
       "      <td>5.3</td>\n",
       "      <td>2010-03-09 07:51:00</td>\n",
       "      <td>-73.968095</td>\n",
       "      <td>40.768008</td>\n",
       "      <td>-73.956655</td>\n",
       "      <td>40.783762</td>\n",
       "      <td>1</td>\n",
       "      <td>1.343397</td>\n",
       "      <td>1.876386</td>\n",
       "    </tr>\n",
       "  </tbody>\n",
       "</table>\n",
       "</div>"
      ],
      "text/plain": [
       "   Unnamed: 0                            key  fare_amount     pickup_datetime  \\\n",
       "0           0    2009-06-15 17:26:21.0000001          4.5 2009-06-15 17:26:21   \n",
       "1           1    2010-01-05 16:52:16.0000002         16.9 2010-01-05 16:52:16   \n",
       "2           2   2011-08-18 00:35:00.00000049          5.7 2011-08-18 00:35:00   \n",
       "3           3    2012-04-21 04:30:42.0000001          7.7 2012-04-21 04:30:42   \n",
       "4           4  2010-03-09 07:51:00.000000135          5.3 2010-03-09 07:51:00   \n",
       "\n",
       "   pickup_longitude  pickup_latitude  dropoff_longitude  dropoff_latitude  \\\n",
       "0        -73.844311        40.721319         -73.841610         40.712278   \n",
       "1        -74.016048        40.711303         -73.979268         40.782004   \n",
       "2        -73.982738        40.761270         -73.991242         40.750562   \n",
       "3        -73.987130        40.733143         -73.991567         40.758092   \n",
       "4        -73.968095        40.768008         -73.956655         40.783762   \n",
       "\n",
       "   passenger_count  euclidean_distance  taxicab_distance  \n",
       "0                1            0.651073          0.810198  \n",
       "1                1            5.499001          7.416189  \n",
       "2                2            0.943509          1.325628  \n",
       "3                1            1.748493          2.027634  \n",
       "4                1            1.343397          1.876386  "
      ]
     },
     "execution_count": 57,
     "metadata": {},
     "output_type": "execute_result"
    }
   ],
   "source": [
    "df.head()"
   ]
  },
  {
   "cell_type": "code",
   "execution_count": null,
   "metadata": {},
   "outputs": [],
   "source": [
    "#type(df.pickup_datetime[0])"
   ]
  },
  {
   "cell_type": "code",
   "execution_count": null,
   "metadata": {},
   "outputs": [],
   "source": [
    "#def cut_UTC(row):\n",
    "    #row = row.split(' UTC')\n",
    "    #return row[0]"
   ]
  },
  {
   "cell_type": "code",
   "execution_count": null,
   "metadata": {},
   "outputs": [],
   "source": [
    "#df['pickup_datetime'] = df['pickup_datetime'].apply(cut_UTC)"
   ]
  },
  {
   "cell_type": "code",
   "execution_count": 42,
   "metadata": {},
   "outputs": [],
   "source": [
    "#df['pickup_datetime']=pd.to_datetime(df['pickup_datetime'], errors='ignore')"
   ]
  },
  {
   "cell_type": "code",
   "execution_count": 58,
   "metadata": {},
   "outputs": [],
   "source": [
    "df['month'] = df['pickup_datetime'].dt.month\n",
    "df['year'] = df['pickup_datetime'].dt.year\n",
    "df['hour'] = df['pickup_datetime'].dt.hour\n",
    "df['minute'] = df['pickup_datetime'].dt.minute\n",
    "df['second'] = df['pickup_datetime'].dt.second\n",
    "df['dayofweek'] = df['pickup_datetime'].dt.dayofweek"
   ]
  },
  {
   "cell_type": "code",
   "execution_count": 59,
   "metadata": {},
   "outputs": [],
   "source": [
    "df['15_min_intervals'] = 4 * df['hour'] + (df['minute']/15).astype(int)\n",
    "df['total_seconds'] = 3600 * df['hour'] + 60 * df['minute'] + df['second']"
   ]
  },
  {
   "cell_type": "code",
   "execution_count": 60,
   "metadata": {},
   "outputs": [],
   "source": [
    "def summer_month(row):\n",
    "    if row['month'] in [6,7,8]:\n",
    "        return 1\n",
    "    else:\n",
    "        return 0\n",
    "\n",
    "df['summer_month'] = df.apply(summer_month, axis=1)"
   ]
  },
  {
   "cell_type": "code",
   "execution_count": 61,
   "metadata": {},
   "outputs": [
    {
     "ename": "KeyboardInterrupt",
     "evalue": "",
     "output_type": "error",
     "traceback": [
      "\u001b[0;31m---------------------------------------------------------------------------\u001b[0m",
      "\u001b[0;31mKeyboardInterrupt\u001b[0m                         Traceback (most recent call last)",
      "\u001b[0;32m<ipython-input-61-012b5cfa63ae>\u001b[0m in \u001b[0;36m<module>\u001b[0;34m()\u001b[0m\n\u001b[1;32m      5\u001b[0m         \u001b[0;32mreturn\u001b[0m \u001b[0;36m0\u001b[0m\u001b[0;34m\u001b[0m\u001b[0m\n\u001b[1;32m      6\u001b[0m \u001b[0;34m\u001b[0m\u001b[0m\n\u001b[0;32m----> 7\u001b[0;31m \u001b[0mdf\u001b[0m\u001b[0;34m[\u001b[0m\u001b[0;34m'cold_month'\u001b[0m\u001b[0;34m]\u001b[0m \u001b[0;34m=\u001b[0m \u001b[0mdf\u001b[0m\u001b[0;34m.\u001b[0m\u001b[0mapply\u001b[0m\u001b[0;34m(\u001b[0m\u001b[0mcold_month\u001b[0m\u001b[0;34m,\u001b[0m \u001b[0maxis\u001b[0m\u001b[0;34m=\u001b[0m\u001b[0;36m1\u001b[0m\u001b[0;34m)\u001b[0m\u001b[0;34m\u001b[0m\u001b[0m\n\u001b[0m",
      "\u001b[0;32m/anaconda3/lib/python3.6/site-packages/pandas/core/frame.py\u001b[0m in \u001b[0;36mapply\u001b[0;34m(self, func, axis, broadcast, raw, reduce, result_type, args, **kwds)\u001b[0m\n\u001b[1;32m   6012\u001b[0m                          \u001b[0margs\u001b[0m\u001b[0;34m=\u001b[0m\u001b[0margs\u001b[0m\u001b[0;34m,\u001b[0m\u001b[0;34m\u001b[0m\u001b[0m\n\u001b[1;32m   6013\u001b[0m                          kwds=kwds)\n\u001b[0;32m-> 6014\u001b[0;31m         \u001b[0;32mreturn\u001b[0m \u001b[0mop\u001b[0m\u001b[0;34m.\u001b[0m\u001b[0mget_result\u001b[0m\u001b[0;34m(\u001b[0m\u001b[0;34m)\u001b[0m\u001b[0;34m\u001b[0m\u001b[0m\n\u001b[0m\u001b[1;32m   6015\u001b[0m \u001b[0;34m\u001b[0m\u001b[0m\n\u001b[1;32m   6016\u001b[0m     \u001b[0;32mdef\u001b[0m \u001b[0mapplymap\u001b[0m\u001b[0;34m(\u001b[0m\u001b[0mself\u001b[0m\u001b[0;34m,\u001b[0m \u001b[0mfunc\u001b[0m\u001b[0;34m)\u001b[0m\u001b[0;34m:\u001b[0m\u001b[0;34m\u001b[0m\u001b[0m\n",
      "\u001b[0;32m/anaconda3/lib/python3.6/site-packages/pandas/core/apply.py\u001b[0m in \u001b[0;36mget_result\u001b[0;34m(self)\u001b[0m\n\u001b[1;32m    140\u001b[0m             \u001b[0;32mreturn\u001b[0m \u001b[0mself\u001b[0m\u001b[0;34m.\u001b[0m\u001b[0mapply_raw\u001b[0m\u001b[0;34m(\u001b[0m\u001b[0;34m)\u001b[0m\u001b[0;34m\u001b[0m\u001b[0m\n\u001b[1;32m    141\u001b[0m \u001b[0;34m\u001b[0m\u001b[0m\n\u001b[0;32m--> 142\u001b[0;31m         \u001b[0;32mreturn\u001b[0m \u001b[0mself\u001b[0m\u001b[0;34m.\u001b[0m\u001b[0mapply_standard\u001b[0m\u001b[0;34m(\u001b[0m\u001b[0;34m)\u001b[0m\u001b[0;34m\u001b[0m\u001b[0m\n\u001b[0m\u001b[1;32m    143\u001b[0m \u001b[0;34m\u001b[0m\u001b[0m\n\u001b[1;32m    144\u001b[0m     \u001b[0;32mdef\u001b[0m \u001b[0mapply_empty_result\u001b[0m\u001b[0;34m(\u001b[0m\u001b[0mself\u001b[0m\u001b[0;34m)\u001b[0m\u001b[0;34m:\u001b[0m\u001b[0;34m\u001b[0m\u001b[0m\n",
      "\u001b[0;32m/anaconda3/lib/python3.6/site-packages/pandas/core/apply.py\u001b[0m in \u001b[0;36mapply_standard\u001b[0;34m(self)\u001b[0m\n\u001b[1;32m    230\u001b[0m             \u001b[0;31m# Create a dummy Series from an empty array\u001b[0m\u001b[0;34m\u001b[0m\u001b[0;34m\u001b[0m\u001b[0m\n\u001b[1;32m    231\u001b[0m             \u001b[0;32mfrom\u001b[0m \u001b[0mpandas\u001b[0m \u001b[0;32mimport\u001b[0m \u001b[0mSeries\u001b[0m\u001b[0;34m\u001b[0m\u001b[0m\n\u001b[0;32m--> 232\u001b[0;31m             \u001b[0mvalues\u001b[0m \u001b[0;34m=\u001b[0m \u001b[0mself\u001b[0m\u001b[0;34m.\u001b[0m\u001b[0mvalues\u001b[0m\u001b[0;34m\u001b[0m\u001b[0m\n\u001b[0m\u001b[1;32m    233\u001b[0m             \u001b[0mindex\u001b[0m \u001b[0;34m=\u001b[0m \u001b[0mself\u001b[0m\u001b[0;34m.\u001b[0m\u001b[0mobj\u001b[0m\u001b[0;34m.\u001b[0m\u001b[0m_get_axis\u001b[0m\u001b[0;34m(\u001b[0m\u001b[0mself\u001b[0m\u001b[0;34m.\u001b[0m\u001b[0maxis\u001b[0m\u001b[0;34m)\u001b[0m\u001b[0;34m\u001b[0m\u001b[0m\n\u001b[1;32m    234\u001b[0m             \u001b[0mlabels\u001b[0m \u001b[0;34m=\u001b[0m \u001b[0mself\u001b[0m\u001b[0;34m.\u001b[0m\u001b[0magg_axis\u001b[0m\u001b[0;34m\u001b[0m\u001b[0m\n",
      "\u001b[0;32mpandas/_libs/properties.pyx\u001b[0m in \u001b[0;36mpandas._libs.properties.CachedProperty.__get__\u001b[0;34m()\u001b[0m\n",
      "\u001b[0;32m/anaconda3/lib/python3.6/site-packages/pandas/core/apply.py\u001b[0m in \u001b[0;36mvalues\u001b[0;34m(self)\u001b[0m\n\u001b[1;32m     93\u001b[0m     \u001b[0;34m@\u001b[0m\u001b[0mcache_readonly\u001b[0m\u001b[0;34m\u001b[0m\u001b[0m\n\u001b[1;32m     94\u001b[0m     \u001b[0;32mdef\u001b[0m \u001b[0mvalues\u001b[0m\u001b[0;34m(\u001b[0m\u001b[0mself\u001b[0m\u001b[0;34m)\u001b[0m\u001b[0;34m:\u001b[0m\u001b[0;34m\u001b[0m\u001b[0m\n\u001b[0;32m---> 95\u001b[0;31m         \u001b[0;32mreturn\u001b[0m \u001b[0mself\u001b[0m\u001b[0;34m.\u001b[0m\u001b[0mobj\u001b[0m\u001b[0;34m.\u001b[0m\u001b[0mvalues\u001b[0m\u001b[0;34m\u001b[0m\u001b[0m\n\u001b[0m\u001b[1;32m     96\u001b[0m \u001b[0;34m\u001b[0m\u001b[0m\n\u001b[1;32m     97\u001b[0m     \u001b[0;34m@\u001b[0m\u001b[0mcache_readonly\u001b[0m\u001b[0;34m\u001b[0m\u001b[0m\n",
      "\u001b[0;32m/anaconda3/lib/python3.6/site-packages/pandas/core/generic.py\u001b[0m in \u001b[0;36mvalues\u001b[0;34m(self)\u001b[0m\n\u001b[1;32m   4631\u001b[0m         \"\"\"\n\u001b[1;32m   4632\u001b[0m         \u001b[0mself\u001b[0m\u001b[0;34m.\u001b[0m\u001b[0m_consolidate_inplace\u001b[0m\u001b[0;34m(\u001b[0m\u001b[0;34m)\u001b[0m\u001b[0;34m\u001b[0m\u001b[0m\n\u001b[0;32m-> 4633\u001b[0;31m         \u001b[0;32mreturn\u001b[0m \u001b[0mself\u001b[0m\u001b[0;34m.\u001b[0m\u001b[0m_data\u001b[0m\u001b[0;34m.\u001b[0m\u001b[0mas_array\u001b[0m\u001b[0;34m(\u001b[0m\u001b[0mtranspose\u001b[0m\u001b[0;34m=\u001b[0m\u001b[0mself\u001b[0m\u001b[0;34m.\u001b[0m\u001b[0m_AXIS_REVERSED\u001b[0m\u001b[0;34m)\u001b[0m\u001b[0;34m\u001b[0m\u001b[0m\n\u001b[0m\u001b[1;32m   4634\u001b[0m \u001b[0;34m\u001b[0m\u001b[0m\n\u001b[1;32m   4635\u001b[0m     \u001b[0;34m@\u001b[0m\u001b[0mproperty\u001b[0m\u001b[0;34m\u001b[0m\u001b[0m\n",
      "\u001b[0;32m/anaconda3/lib/python3.6/site-packages/pandas/core/internals.py\u001b[0m in \u001b[0;36mas_array\u001b[0;34m(self, transpose, items)\u001b[0m\n\u001b[1;32m   3947\u001b[0m             \u001b[0marr\u001b[0m \u001b[0;34m=\u001b[0m \u001b[0mmgr\u001b[0m\u001b[0;34m.\u001b[0m\u001b[0mblocks\u001b[0m\u001b[0;34m[\u001b[0m\u001b[0;36m0\u001b[0m\u001b[0;34m]\u001b[0m\u001b[0;34m.\u001b[0m\u001b[0mget_values\u001b[0m\u001b[0;34m(\u001b[0m\u001b[0;34m)\u001b[0m\u001b[0;34m\u001b[0m\u001b[0m\n\u001b[1;32m   3948\u001b[0m         \u001b[0;32melse\u001b[0m\u001b[0;34m:\u001b[0m\u001b[0;34m\u001b[0m\u001b[0m\n\u001b[0;32m-> 3949\u001b[0;31m             \u001b[0marr\u001b[0m \u001b[0;34m=\u001b[0m \u001b[0mmgr\u001b[0m\u001b[0;34m.\u001b[0m\u001b[0m_interleave\u001b[0m\u001b[0;34m(\u001b[0m\u001b[0;34m)\u001b[0m\u001b[0;34m\u001b[0m\u001b[0m\n\u001b[0m\u001b[1;32m   3950\u001b[0m \u001b[0;34m\u001b[0m\u001b[0m\n\u001b[1;32m   3951\u001b[0m         \u001b[0;32mreturn\u001b[0m \u001b[0marr\u001b[0m\u001b[0;34m.\u001b[0m\u001b[0mtranspose\u001b[0m\u001b[0;34m(\u001b[0m\u001b[0;34m)\u001b[0m \u001b[0;32mif\u001b[0m \u001b[0mtranspose\u001b[0m \u001b[0;32melse\u001b[0m \u001b[0marr\u001b[0m\u001b[0;34m\u001b[0m\u001b[0m\n",
      "\u001b[0;32m/anaconda3/lib/python3.6/site-packages/pandas/core/internals.py\u001b[0m in \u001b[0;36m_interleave\u001b[0;34m(self)\u001b[0m\n\u001b[1;32m   3976\u001b[0m         \u001b[0;32mfor\u001b[0m \u001b[0mblk\u001b[0m \u001b[0;32min\u001b[0m \u001b[0mself\u001b[0m\u001b[0;34m.\u001b[0m\u001b[0mblocks\u001b[0m\u001b[0;34m:\u001b[0m\u001b[0;34m\u001b[0m\u001b[0m\n\u001b[1;32m   3977\u001b[0m             \u001b[0mrl\u001b[0m \u001b[0;34m=\u001b[0m \u001b[0mblk\u001b[0m\u001b[0;34m.\u001b[0m\u001b[0mmgr_locs\u001b[0m\u001b[0;34m\u001b[0m\u001b[0m\n\u001b[0;32m-> 3978\u001b[0;31m             \u001b[0mresult\u001b[0m\u001b[0;34m[\u001b[0m\u001b[0mrl\u001b[0m\u001b[0;34m.\u001b[0m\u001b[0mindexer\u001b[0m\u001b[0;34m]\u001b[0m \u001b[0;34m=\u001b[0m \u001b[0mblk\u001b[0m\u001b[0;34m.\u001b[0m\u001b[0mget_values\u001b[0m\u001b[0;34m(\u001b[0m\u001b[0mdtype\u001b[0m\u001b[0;34m)\u001b[0m\u001b[0;34m\u001b[0m\u001b[0m\n\u001b[0m\u001b[1;32m   3979\u001b[0m             \u001b[0mitemmask\u001b[0m\u001b[0;34m[\u001b[0m\u001b[0mrl\u001b[0m\u001b[0;34m.\u001b[0m\u001b[0mindexer\u001b[0m\u001b[0;34m]\u001b[0m \u001b[0;34m=\u001b[0m \u001b[0;36m1\u001b[0m\u001b[0;34m\u001b[0m\u001b[0m\n\u001b[1;32m   3980\u001b[0m \u001b[0;34m\u001b[0m\u001b[0m\n",
      "\u001b[0;31mKeyboardInterrupt\u001b[0m: "
     ]
    }
   ],
   "source": [
    "def cold_month(row):\n",
    "    if row['month'] in [1,2,3,11,12]:\n",
    "        return 1\n",
    "    else:\n",
    "        return 0\n",
    "    \n",
    "df['cold_month'] = df.apply(cold_month, axis=1)"
   ]
  },
  {
   "cell_type": "code",
   "execution_count": null,
   "metadata": {},
   "outputs": [],
   "source": [
    "def weekend(row):\n",
    "    if row['dayofweek'] in [5,6]:\n",
    "        return 1\n",
    "    else:\n",
    "        return 0\n",
    "\n",
    "df['weekend'] = df.apply(weekend, axis=1)"
   ]
  },
  {
   "cell_type": "code",
   "execution_count": null,
   "metadata": {},
   "outputs": [],
   "source": [
    "def rush_hour(row):\n",
    "    if (row['hour'] in [7,8,9,15,16,17,18,19]) & (row['weekend'] == 0):\n",
    "        return 1\n",
    "    else:\n",
    "        return 0\n",
    "\n",
    "df['rush_hour'] = df.apply(rush_hour, axis=1)"
   ]
  },
  {
   "cell_type": "code",
   "execution_count": null,
   "metadata": {},
   "outputs": [],
   "source": [
    "def night_rush(row):\n",
    "    if (row['hour'] in [19,20,21,22,23,24,1]) & (row['dayofweek'] in [3,4,5]):\n",
    "        return 1\n",
    "    else:\n",
    "        return 0\n",
    "    \n",
    "df['night_rush'] = df.apply(night_rush, axis=1)"
   ]
  },
  {
   "cell_type": "code",
   "execution_count": null,
   "metadata": {},
   "outputs": [],
   "source": [
    "def night_charge(row):\n",
    "    if row['hour'] in [20,21,22,23,24,1,2,3,4,5,6]:\n",
    "        return 1\n",
    "    else:\n",
    "        return 0\n",
    "    \n",
    "df['night_charge'] = df.apply(night_charge, axis=1)"
   ]
  },
  {
   "cell_type": "code",
   "execution_count": null,
   "metadata": {},
   "outputs": [],
   "source": [
    "def weekday_surcharge(row):\n",
    "    if (row['hour'] in [16,17,18,19,20]) & (row['dayofweek'] in [1,2,3,4,5]):\n",
    "        return 1\n",
    "    else:\n",
    "        return 0\n",
    "    \n",
    "df['weekday_surcharge'] = df.apply(weekday_surcharge, axis=1)"
   ]
  },
  {
   "cell_type": "code",
   "execution_count": null,
   "metadata": {},
   "outputs": [],
   "source": [
    "df.head()"
   ]
  },
  {
   "cell_type": "code",
   "execution_count": null,
   "metadata": {},
   "outputs": [],
   "source": [
    "df.describe()"
   ]
  },
  {
   "cell_type": "code",
   "execution_count": null,
   "metadata": {},
   "outputs": [],
   "source": []
  },
  {
   "cell_type": "code",
   "execution_count": 54,
   "metadata": {},
   "outputs": [
    {
     "ename": "NotADirectoryError",
     "evalue": "[Errno 20] Not a directory: '/Users/coreyjwade/Desktop/Data/NY_Cab_Fare/NYC_Cab_Fare_Wrangled_Time_Distance.csv/111.part'",
     "output_type": "error",
     "traceback": [
      "\u001b[0;31m---------------------------------------------------------------------------\u001b[0m",
      "\u001b[0;31mNotADirectoryError\u001b[0m                        Traceback (most recent call last)",
      "\u001b[0;32m<ipython-input-54-4bbb73469556>\u001b[0m in \u001b[0;36m<module>\u001b[0;34m()\u001b[0m\n\u001b[0;32m----> 1\u001b[0;31m \u001b[0mdf\u001b[0m\u001b[0;34m.\u001b[0m\u001b[0mto_csv\u001b[0m\u001b[0;34m(\u001b[0m\u001b[0;34m'/Users/coreyjwade/Desktop/Data/NY_Cab_Fare/NYC_Cab_Fare_Wrangled_Time_Distance.csv'\u001b[0m\u001b[0;34m)\u001b[0m\u001b[0;34m\u001b[0m\u001b[0m\n\u001b[0m",
      "\u001b[0;32m/anaconda3/lib/python3.6/site-packages/dask/dataframe/core.py\u001b[0m in \u001b[0;36mto_csv\u001b[0;34m(self, filename, **kwargs)\u001b[0m\n\u001b[1;32m   1089\u001b[0m         \u001b[0;34m\"\"\" See dd.to_csv docstring for more information \"\"\"\u001b[0m\u001b[0;34m\u001b[0m\u001b[0m\n\u001b[1;32m   1090\u001b[0m         \u001b[0;32mfrom\u001b[0m \u001b[0;34m.\u001b[0m\u001b[0mio\u001b[0m \u001b[0;32mimport\u001b[0m \u001b[0mto_csv\u001b[0m\u001b[0;34m\u001b[0m\u001b[0m\n\u001b[0;32m-> 1091\u001b[0;31m         \u001b[0;32mreturn\u001b[0m \u001b[0mto_csv\u001b[0m\u001b[0;34m(\u001b[0m\u001b[0mself\u001b[0m\u001b[0;34m,\u001b[0m \u001b[0mfilename\u001b[0m\u001b[0;34m,\u001b[0m \u001b[0;34m**\u001b[0m\u001b[0mkwargs\u001b[0m\u001b[0;34m)\u001b[0m\u001b[0;34m\u001b[0m\u001b[0m\n\u001b[0m\u001b[1;32m   1092\u001b[0m \u001b[0;34m\u001b[0m\u001b[0m\n\u001b[1;32m   1093\u001b[0m     \u001b[0;32mdef\u001b[0m \u001b[0mto_json\u001b[0m\u001b[0;34m(\u001b[0m\u001b[0mself\u001b[0m\u001b[0;34m,\u001b[0m \u001b[0mfilename\u001b[0m\u001b[0;34m,\u001b[0m \u001b[0;34m*\u001b[0m\u001b[0margs\u001b[0m\u001b[0;34m,\u001b[0m \u001b[0;34m**\u001b[0m\u001b[0mkwargs\u001b[0m\u001b[0;34m)\u001b[0m\u001b[0;34m:\u001b[0m\u001b[0;34m\u001b[0m\u001b[0m\n",
      "\u001b[0;32m/anaconda3/lib/python3.6/site-packages/dask/dataframe/io/csv.py\u001b[0m in \u001b[0;36mto_csv\u001b[0;34m(df, filename, name_function, compression, compute, get, scheduler, storage_options, **kwargs)\u001b[0m\n\u001b[1;32m    575\u001b[0m \u001b[0;34m\u001b[0m\u001b[0m\n\u001b[1;32m    576\u001b[0m     \u001b[0;32mif\u001b[0m \u001b[0mcompute\u001b[0m\u001b[0;34m:\u001b[0m\u001b[0;34m\u001b[0m\u001b[0m\n\u001b[0;32m--> 577\u001b[0;31m         \u001b[0mdelayed\u001b[0m\u001b[0;34m(\u001b[0m\u001b[0mvalues\u001b[0m\u001b[0;34m)\u001b[0m\u001b[0;34m.\u001b[0m\u001b[0mcompute\u001b[0m\u001b[0;34m(\u001b[0m\u001b[0mget\u001b[0m\u001b[0;34m=\u001b[0m\u001b[0mget\u001b[0m\u001b[0;34m,\u001b[0m \u001b[0mscheduler\u001b[0m\u001b[0;34m=\u001b[0m\u001b[0mscheduler\u001b[0m\u001b[0;34m)\u001b[0m\u001b[0;34m\u001b[0m\u001b[0m\n\u001b[0m\u001b[1;32m    578\u001b[0m         \u001b[0;32mreturn\u001b[0m \u001b[0;34m[\u001b[0m\u001b[0mf\u001b[0m\u001b[0;34m.\u001b[0m\u001b[0mpath\u001b[0m \u001b[0;32mfor\u001b[0m \u001b[0mf\u001b[0m \u001b[0;32min\u001b[0m \u001b[0mfiles\u001b[0m\u001b[0;34m]\u001b[0m\u001b[0;34m\u001b[0m\u001b[0m\n\u001b[1;32m    579\u001b[0m     \u001b[0;32melse\u001b[0m\u001b[0;34m:\u001b[0m\u001b[0;34m\u001b[0m\u001b[0m\n",
      "\u001b[0;32m/anaconda3/lib/python3.6/site-packages/dask/base.py\u001b[0m in \u001b[0;36mcompute\u001b[0;34m(self, **kwargs)\u001b[0m\n\u001b[1;32m    154\u001b[0m         \u001b[0mdask\u001b[0m\u001b[0;34m.\u001b[0m\u001b[0mbase\u001b[0m\u001b[0;34m.\u001b[0m\u001b[0mcompute\u001b[0m\u001b[0;34m\u001b[0m\u001b[0m\n\u001b[1;32m    155\u001b[0m         \"\"\"\n\u001b[0;32m--> 156\u001b[0;31m         \u001b[0;34m(\u001b[0m\u001b[0mresult\u001b[0m\u001b[0;34m,\u001b[0m\u001b[0;34m)\u001b[0m \u001b[0;34m=\u001b[0m \u001b[0mcompute\u001b[0m\u001b[0;34m(\u001b[0m\u001b[0mself\u001b[0m\u001b[0;34m,\u001b[0m \u001b[0mtraverse\u001b[0m\u001b[0;34m=\u001b[0m\u001b[0;32mFalse\u001b[0m\u001b[0;34m,\u001b[0m \u001b[0;34m**\u001b[0m\u001b[0mkwargs\u001b[0m\u001b[0;34m)\u001b[0m\u001b[0;34m\u001b[0m\u001b[0m\n\u001b[0m\u001b[1;32m    157\u001b[0m         \u001b[0;32mreturn\u001b[0m \u001b[0mresult\u001b[0m\u001b[0;34m\u001b[0m\u001b[0m\n\u001b[1;32m    158\u001b[0m \u001b[0;34m\u001b[0m\u001b[0m\n",
      "\u001b[0;32m/anaconda3/lib/python3.6/site-packages/dask/base.py\u001b[0m in \u001b[0;36mcompute\u001b[0;34m(*args, **kwargs)\u001b[0m\n\u001b[1;32m    400\u001b[0m     \u001b[0mkeys\u001b[0m \u001b[0;34m=\u001b[0m \u001b[0;34m[\u001b[0m\u001b[0mx\u001b[0m\u001b[0;34m.\u001b[0m\u001b[0m__dask_keys__\u001b[0m\u001b[0;34m(\u001b[0m\u001b[0;34m)\u001b[0m \u001b[0;32mfor\u001b[0m \u001b[0mx\u001b[0m \u001b[0;32min\u001b[0m \u001b[0mcollections\u001b[0m\u001b[0;34m]\u001b[0m\u001b[0;34m\u001b[0m\u001b[0m\n\u001b[1;32m    401\u001b[0m     \u001b[0mpostcomputes\u001b[0m \u001b[0;34m=\u001b[0m \u001b[0;34m[\u001b[0m\u001b[0mx\u001b[0m\u001b[0;34m.\u001b[0m\u001b[0m__dask_postcompute__\u001b[0m\u001b[0;34m(\u001b[0m\u001b[0;34m)\u001b[0m \u001b[0;32mfor\u001b[0m \u001b[0mx\u001b[0m \u001b[0;32min\u001b[0m \u001b[0mcollections\u001b[0m\u001b[0;34m]\u001b[0m\u001b[0;34m\u001b[0m\u001b[0m\n\u001b[0;32m--> 402\u001b[0;31m     \u001b[0mresults\u001b[0m \u001b[0;34m=\u001b[0m \u001b[0mschedule\u001b[0m\u001b[0;34m(\u001b[0m\u001b[0mdsk\u001b[0m\u001b[0;34m,\u001b[0m \u001b[0mkeys\u001b[0m\u001b[0;34m,\u001b[0m \u001b[0;34m**\u001b[0m\u001b[0mkwargs\u001b[0m\u001b[0;34m)\u001b[0m\u001b[0;34m\u001b[0m\u001b[0m\n\u001b[0m\u001b[1;32m    403\u001b[0m     \u001b[0;32mreturn\u001b[0m \u001b[0mrepack\u001b[0m\u001b[0;34m(\u001b[0m\u001b[0;34m[\u001b[0m\u001b[0mf\u001b[0m\u001b[0;34m(\u001b[0m\u001b[0mr\u001b[0m\u001b[0;34m,\u001b[0m \u001b[0;34m*\u001b[0m\u001b[0ma\u001b[0m\u001b[0;34m)\u001b[0m \u001b[0;32mfor\u001b[0m \u001b[0mr\u001b[0m\u001b[0;34m,\u001b[0m \u001b[0;34m(\u001b[0m\u001b[0mf\u001b[0m\u001b[0;34m,\u001b[0m \u001b[0ma\u001b[0m\u001b[0;34m)\u001b[0m \u001b[0;32min\u001b[0m \u001b[0mzip\u001b[0m\u001b[0;34m(\u001b[0m\u001b[0mresults\u001b[0m\u001b[0;34m,\u001b[0m \u001b[0mpostcomputes\u001b[0m\u001b[0;34m)\u001b[0m\u001b[0;34m]\u001b[0m\u001b[0;34m)\u001b[0m\u001b[0;34m\u001b[0m\u001b[0m\n\u001b[1;32m    404\u001b[0m \u001b[0;34m\u001b[0m\u001b[0m\n",
      "\u001b[0;32m/anaconda3/lib/python3.6/site-packages/dask/threaded.py\u001b[0m in \u001b[0;36mget\u001b[0;34m(dsk, result, cache, num_workers, **kwargs)\u001b[0m\n\u001b[1;32m     73\u001b[0m     results = get_async(pool.apply_async, len(pool._pool), dsk, result,\n\u001b[1;32m     74\u001b[0m                         \u001b[0mcache\u001b[0m\u001b[0;34m=\u001b[0m\u001b[0mcache\u001b[0m\u001b[0;34m,\u001b[0m \u001b[0mget_id\u001b[0m\u001b[0;34m=\u001b[0m\u001b[0m_thread_get_id\u001b[0m\u001b[0;34m,\u001b[0m\u001b[0;34m\u001b[0m\u001b[0m\n\u001b[0;32m---> 75\u001b[0;31m                         pack_exception=pack_exception, **kwargs)\n\u001b[0m\u001b[1;32m     76\u001b[0m \u001b[0;34m\u001b[0m\u001b[0m\n\u001b[1;32m     77\u001b[0m     \u001b[0;31m# Cleanup pools associated to dead threads\u001b[0m\u001b[0;34m\u001b[0m\u001b[0;34m\u001b[0m\u001b[0m\n",
      "\u001b[0;32m/anaconda3/lib/python3.6/site-packages/dask/local.py\u001b[0m in \u001b[0;36mget_async\u001b[0;34m(apply_async, num_workers, dsk, result, cache, get_id, rerun_exceptions_locally, pack_exception, raise_exception, callbacks, dumps, loads, **kwargs)\u001b[0m\n\u001b[1;32m    503\u001b[0m                         \u001b[0m_execute_task\u001b[0m\u001b[0;34m(\u001b[0m\u001b[0mtask\u001b[0m\u001b[0;34m,\u001b[0m \u001b[0mdata\u001b[0m\u001b[0;34m)\u001b[0m  \u001b[0;31m# Re-execute locally\u001b[0m\u001b[0;34m\u001b[0m\u001b[0m\n\u001b[1;32m    504\u001b[0m                     \u001b[0;32melse\u001b[0m\u001b[0;34m:\u001b[0m\u001b[0;34m\u001b[0m\u001b[0m\n\u001b[0;32m--> 505\u001b[0;31m                         \u001b[0mraise_exception\u001b[0m\u001b[0;34m(\u001b[0m\u001b[0mexc\u001b[0m\u001b[0;34m,\u001b[0m \u001b[0mtb\u001b[0m\u001b[0;34m)\u001b[0m\u001b[0;34m\u001b[0m\u001b[0m\n\u001b[0m\u001b[1;32m    506\u001b[0m                 \u001b[0mres\u001b[0m\u001b[0;34m,\u001b[0m \u001b[0mworker_id\u001b[0m \u001b[0;34m=\u001b[0m \u001b[0mloads\u001b[0m\u001b[0;34m(\u001b[0m\u001b[0mres_info\u001b[0m\u001b[0;34m)\u001b[0m\u001b[0;34m\u001b[0m\u001b[0m\n\u001b[1;32m    507\u001b[0m                 \u001b[0mstate\u001b[0m\u001b[0;34m[\u001b[0m\u001b[0;34m'cache'\u001b[0m\u001b[0;34m]\u001b[0m\u001b[0;34m[\u001b[0m\u001b[0mkey\u001b[0m\u001b[0;34m]\u001b[0m \u001b[0;34m=\u001b[0m \u001b[0mres\u001b[0m\u001b[0;34m\u001b[0m\u001b[0m\n",
      "\u001b[0;32m/anaconda3/lib/python3.6/site-packages/dask/compatibility.py\u001b[0m in \u001b[0;36mreraise\u001b[0;34m(exc, tb)\u001b[0m\n\u001b[1;32m     67\u001b[0m         \u001b[0;32mif\u001b[0m \u001b[0mexc\u001b[0m\u001b[0;34m.\u001b[0m\u001b[0m__traceback__\u001b[0m \u001b[0;32mis\u001b[0m \u001b[0;32mnot\u001b[0m \u001b[0mtb\u001b[0m\u001b[0;34m:\u001b[0m\u001b[0;34m\u001b[0m\u001b[0m\n\u001b[1;32m     68\u001b[0m             \u001b[0;32mraise\u001b[0m \u001b[0mexc\u001b[0m\u001b[0;34m.\u001b[0m\u001b[0mwith_traceback\u001b[0m\u001b[0;34m(\u001b[0m\u001b[0mtb\u001b[0m\u001b[0;34m)\u001b[0m\u001b[0;34m\u001b[0m\u001b[0m\n\u001b[0;32m---> 69\u001b[0;31m         \u001b[0;32mraise\u001b[0m \u001b[0mexc\u001b[0m\u001b[0;34m\u001b[0m\u001b[0m\n\u001b[0m\u001b[1;32m     70\u001b[0m \u001b[0;34m\u001b[0m\u001b[0m\n\u001b[1;32m     71\u001b[0m \u001b[0;32melse\u001b[0m\u001b[0;34m:\u001b[0m\u001b[0;34m\u001b[0m\u001b[0m\n",
      "\u001b[0;32m/anaconda3/lib/python3.6/site-packages/dask/local.py\u001b[0m in \u001b[0;36mexecute_task\u001b[0;34m(key, task_info, dumps, loads, get_id, pack_exception)\u001b[0m\n\u001b[1;32m    272\u001b[0m     \u001b[0;32mtry\u001b[0m\u001b[0;34m:\u001b[0m\u001b[0;34m\u001b[0m\u001b[0m\n\u001b[1;32m    273\u001b[0m         \u001b[0mtask\u001b[0m\u001b[0;34m,\u001b[0m \u001b[0mdata\u001b[0m \u001b[0;34m=\u001b[0m \u001b[0mloads\u001b[0m\u001b[0;34m(\u001b[0m\u001b[0mtask_info\u001b[0m\u001b[0;34m)\u001b[0m\u001b[0;34m\u001b[0m\u001b[0m\n\u001b[0;32m--> 274\u001b[0;31m         \u001b[0mresult\u001b[0m \u001b[0;34m=\u001b[0m \u001b[0m_execute_task\u001b[0m\u001b[0;34m(\u001b[0m\u001b[0mtask\u001b[0m\u001b[0;34m,\u001b[0m \u001b[0mdata\u001b[0m\u001b[0;34m)\u001b[0m\u001b[0;34m\u001b[0m\u001b[0m\n\u001b[0m\u001b[1;32m    275\u001b[0m         \u001b[0mid\u001b[0m \u001b[0;34m=\u001b[0m \u001b[0mget_id\u001b[0m\u001b[0;34m(\u001b[0m\u001b[0;34m)\u001b[0m\u001b[0;34m\u001b[0m\u001b[0m\n\u001b[1;32m    276\u001b[0m         \u001b[0mresult\u001b[0m \u001b[0;34m=\u001b[0m \u001b[0mdumps\u001b[0m\u001b[0;34m(\u001b[0m\u001b[0;34m(\u001b[0m\u001b[0mresult\u001b[0m\u001b[0;34m,\u001b[0m \u001b[0mid\u001b[0m\u001b[0;34m)\u001b[0m\u001b[0;34m)\u001b[0m\u001b[0;34m\u001b[0m\u001b[0m\n",
      "\u001b[0;32m/anaconda3/lib/python3.6/site-packages/dask/local.py\u001b[0m in \u001b[0;36m_execute_task\u001b[0;34m(arg, cache, dsk)\u001b[0m\n\u001b[1;32m    253\u001b[0m         \u001b[0mfunc\u001b[0m\u001b[0;34m,\u001b[0m \u001b[0margs\u001b[0m \u001b[0;34m=\u001b[0m \u001b[0marg\u001b[0m\u001b[0;34m[\u001b[0m\u001b[0;36m0\u001b[0m\u001b[0;34m]\u001b[0m\u001b[0;34m,\u001b[0m \u001b[0marg\u001b[0m\u001b[0;34m[\u001b[0m\u001b[0;36m1\u001b[0m\u001b[0;34m:\u001b[0m\u001b[0;34m]\u001b[0m\u001b[0;34m\u001b[0m\u001b[0m\n\u001b[1;32m    254\u001b[0m         \u001b[0margs2\u001b[0m \u001b[0;34m=\u001b[0m \u001b[0;34m[\u001b[0m\u001b[0m_execute_task\u001b[0m\u001b[0;34m(\u001b[0m\u001b[0ma\u001b[0m\u001b[0;34m,\u001b[0m \u001b[0mcache\u001b[0m\u001b[0;34m)\u001b[0m \u001b[0;32mfor\u001b[0m \u001b[0ma\u001b[0m \u001b[0;32min\u001b[0m \u001b[0margs\u001b[0m\u001b[0;34m]\u001b[0m\u001b[0;34m\u001b[0m\u001b[0m\n\u001b[0;32m--> 255\u001b[0;31m         \u001b[0;32mreturn\u001b[0m \u001b[0mfunc\u001b[0m\u001b[0;34m(\u001b[0m\u001b[0;34m*\u001b[0m\u001b[0margs2\u001b[0m\u001b[0;34m)\u001b[0m\u001b[0;34m\u001b[0m\u001b[0m\n\u001b[0m\u001b[1;32m    256\u001b[0m     \u001b[0;32melif\u001b[0m \u001b[0;32mnot\u001b[0m \u001b[0mishashable\u001b[0m\u001b[0;34m(\u001b[0m\u001b[0marg\u001b[0m\u001b[0;34m)\u001b[0m\u001b[0;34m:\u001b[0m\u001b[0;34m\u001b[0m\u001b[0m\n\u001b[1;32m    257\u001b[0m         \u001b[0;32mreturn\u001b[0m \u001b[0marg\u001b[0m\u001b[0;34m\u001b[0m\u001b[0m\n",
      "\u001b[0;32m/anaconda3/lib/python3.6/site-packages/dask/dataframe/io/csv.py\u001b[0m in \u001b[0;36m_to_csv_chunk\u001b[0;34m(df, fil, **kwargs)\u001b[0m\n\u001b[1;32m    436\u001b[0m \u001b[0;34m\u001b[0m\u001b[0m\n\u001b[1;32m    437\u001b[0m \u001b[0;32mdef\u001b[0m \u001b[0m_to_csv_chunk\u001b[0m\u001b[0;34m(\u001b[0m\u001b[0mdf\u001b[0m\u001b[0;34m,\u001b[0m \u001b[0mfil\u001b[0m\u001b[0;34m,\u001b[0m \u001b[0;34m**\u001b[0m\u001b[0mkwargs\u001b[0m\u001b[0;34m)\u001b[0m\u001b[0;34m:\u001b[0m\u001b[0;34m\u001b[0m\u001b[0m\n\u001b[0;32m--> 438\u001b[0;31m     \u001b[0;32mwith\u001b[0m \u001b[0mfil\u001b[0m \u001b[0;32mas\u001b[0m \u001b[0mf\u001b[0m\u001b[0;34m:\u001b[0m\u001b[0;34m\u001b[0m\u001b[0m\n\u001b[0m\u001b[1;32m    439\u001b[0m         \u001b[0mdf\u001b[0m\u001b[0;34m.\u001b[0m\u001b[0mto_csv\u001b[0m\u001b[0;34m(\u001b[0m\u001b[0mf\u001b[0m\u001b[0;34m,\u001b[0m \u001b[0;34m**\u001b[0m\u001b[0mkwargs\u001b[0m\u001b[0;34m)\u001b[0m\u001b[0;34m\u001b[0m\u001b[0m\n\u001b[1;32m    440\u001b[0m \u001b[0;34m\u001b[0m\u001b[0m\n",
      "\u001b[0;32m/anaconda3/lib/python3.6/site-packages/dask/bytes/core.py\u001b[0m in \u001b[0;36m__enter__\u001b[0;34m(self)\u001b[0m\n\u001b[1;32m    164\u001b[0m         \u001b[0mmode\u001b[0m \u001b[0;34m=\u001b[0m \u001b[0mself\u001b[0m\u001b[0;34m.\u001b[0m\u001b[0mmode\u001b[0m\u001b[0;34m.\u001b[0m\u001b[0mreplace\u001b[0m\u001b[0;34m(\u001b[0m\u001b[0;34m't'\u001b[0m\u001b[0;34m,\u001b[0m \u001b[0;34m''\u001b[0m\u001b[0;34m)\u001b[0m\u001b[0;34m.\u001b[0m\u001b[0mreplace\u001b[0m\u001b[0;34m(\u001b[0m\u001b[0;34m'b'\u001b[0m\u001b[0;34m,\u001b[0m \u001b[0;34m''\u001b[0m\u001b[0;34m)\u001b[0m \u001b[0;34m+\u001b[0m \u001b[0;34m'b'\u001b[0m\u001b[0;34m\u001b[0m\u001b[0m\n\u001b[1;32m    165\u001b[0m \u001b[0;34m\u001b[0m\u001b[0m\n\u001b[0;32m--> 166\u001b[0;31m         \u001b[0mf\u001b[0m \u001b[0;34m=\u001b[0m \u001b[0mSeekableFile\u001b[0m\u001b[0;34m(\u001b[0m\u001b[0mself\u001b[0m\u001b[0;34m.\u001b[0m\u001b[0mfs\u001b[0m\u001b[0;34m.\u001b[0m\u001b[0mopen\u001b[0m\u001b[0;34m(\u001b[0m\u001b[0mself\u001b[0m\u001b[0;34m.\u001b[0m\u001b[0mpath\u001b[0m\u001b[0;34m,\u001b[0m \u001b[0mmode\u001b[0m\u001b[0;34m=\u001b[0m\u001b[0mmode\u001b[0m\u001b[0;34m)\u001b[0m\u001b[0;34m)\u001b[0m\u001b[0;34m\u001b[0m\u001b[0m\n\u001b[0m\u001b[1;32m    167\u001b[0m \u001b[0;34m\u001b[0m\u001b[0m\n\u001b[1;32m    168\u001b[0m         \u001b[0mfobjects\u001b[0m \u001b[0;34m=\u001b[0m \u001b[0;34m[\u001b[0m\u001b[0mf\u001b[0m\u001b[0;34m]\u001b[0m\u001b[0;34m\u001b[0m\u001b[0m\n",
      "\u001b[0;32m/anaconda3/lib/python3.6/site-packages/dask/bytes/local.py\u001b[0m in \u001b[0;36mopen\u001b[0;34m(self, path, mode, **kwargs)\u001b[0m\n\u001b[1;32m     56\u001b[0m             \u001b[0mit\u001b[0m\u001b[0;34m.\u001b[0m \u001b[0mNot\u001b[0m \u001b[0mused\u001b[0m \u001b[0;32mfor\u001b[0m \u001b[0mlocal\u001b[0m\u001b[0;34m.\u001b[0m\u001b[0;34m\u001b[0m\u001b[0m\n\u001b[1;32m     57\u001b[0m         \"\"\"\n\u001b[0;32m---> 58\u001b[0;31m         \u001b[0;32mreturn\u001b[0m \u001b[0mopen\u001b[0m\u001b[0;34m(\u001b[0m\u001b[0mself\u001b[0m\u001b[0;34m.\u001b[0m\u001b[0m_normalize_path\u001b[0m\u001b[0;34m(\u001b[0m\u001b[0mpath\u001b[0m\u001b[0;34m)\u001b[0m\u001b[0;34m,\u001b[0m \u001b[0mmode\u001b[0m\u001b[0;34m=\u001b[0m\u001b[0mmode\u001b[0m\u001b[0;34m)\u001b[0m\u001b[0;34m\u001b[0m\u001b[0m\n\u001b[0m\u001b[1;32m     59\u001b[0m \u001b[0;34m\u001b[0m\u001b[0m\n\u001b[1;32m     60\u001b[0m     \u001b[0;32mdef\u001b[0m \u001b[0mukey\u001b[0m\u001b[0;34m(\u001b[0m\u001b[0mself\u001b[0m\u001b[0;34m,\u001b[0m \u001b[0mpath\u001b[0m\u001b[0;34m)\u001b[0m\u001b[0;34m:\u001b[0m\u001b[0;34m\u001b[0m\u001b[0m\n",
      "\u001b[0;31mNotADirectoryError\u001b[0m: [Errno 20] Not a directory: '/Users/coreyjwade/Desktop/Data/NY_Cab_Fare/NYC_Cab_Fare_Wrangled_Time_Distance.csv/111.part'"
     ]
    }
   ],
   "source": [
    "df.to_csv('/Users/coreyjwade/Desktop/Data/NY_Cab_Fare/NYC_Cab_Fare_Wrangled_Time_Distance.csv')"
   ]
  },
  {
   "cell_type": "markdown",
   "metadata": {},
   "source": [
    "## Holiday Additions"
   ]
  },
  {
   "cell_type": "code",
   "execution_count": null,
   "metadata": {},
   "outputs": [],
   "source": [
    "#from pandas.tseries.holiday import USFederalHolidayCalendar as calendar\n",
    "\n",
    "#dr = pd.date_range(start='2015-07-01', end='2015-07-31')\n",
    "#df = pd.DataFrame()\n",
    "#df['Date'] = dr\n",
    "\n",
    "#cal = calendar()\n",
    "#holidays = cal.holidays(start=dr.min(), end=dr.max())\n",
    "\n",
    "#df['Holiday'] = df['Date'].isin(holidays)\n",
    "#print df"
   ]
  },
  {
   "cell_type": "markdown",
   "metadata": {},
   "source": [
    "## Latitude Longitude Additions"
   ]
  },
  {
   "cell_type": "code",
   "execution_count": null,
   "metadata": {},
   "outputs": [],
   "source": [
    "df = pd.read_csv('NYC_Cab_Fare_Wrangled_Time_Distance.csv')\n",
    "df.head()"
   ]
  },
  {
   "cell_type": "markdown",
   "metadata": {},
   "source": [
    "I used https://getlatlong.net/ to estimate a geographical area for Manhattan."
   ]
  },
  {
   "cell_type": "markdown",
   "metadata": {},
   "source": [
    "These are the 4 points, that when connected as a quadrilateral, enclose most of Manhattan. (I chose some points in the water since they are unaffected traffic\n",
    "\n",
    "Then for any given point (x,y) both of the following conditions must hold:\n",
    "bottom line <= (x,y) <= top line\n",
    "right line <= (x,y) <= left line\n",
    "\n",
    "Or, equilavlently,\n",
    "bottom line <= mx + b <= top line\n",
    "right line <= mx + b <= left line\n",
    "\n",
    "For instance, to determine if (3,4) <= 2x+1,\n",
    "the condition must be checked that\n",
    "4 <= 2(3) + 1\n",
    "which in this case is true."
   ]
  },
  {
   "cell_type": "code",
   "execution_count": null,
   "metadata": {},
   "outputs": [],
   "source": [
    "# Define line from two points and a provided column\n",
    "def two_points_line(a, b, column):\n",
    "        \n",
    "    # Case when y-values are the same\n",
    "    if b[1]==a[1]:\n",
    "        \n",
    "        # Slope defaults to 0\n",
    "        slope = 0\n",
    "        \n",
    "    # Case when x-values are the same\n",
    "    elif b[0]==a[0]:\n",
    "        \n",
    "        # Case when max value is less than 999999999\n",
    "        if column.max() < 999999999:\n",
    "            \n",
    "            # Add 999999999 to max value\n",
    "            slope = column.max() + 999999999\n",
    "        \n",
    "        # All other cases\n",
    "        else:\n",
    "            \n",
    "            # Multiply max value by itself (greater than 999999999)\n",
    "            slope = column.max() * column.max()\n",
    "    \n",
    "    # When x-values and y-values are not 0\n",
    "    else:\n",
    "        \n",
    "        # Use standard slope formula\n",
    "        slope = (b[1] - a[1])/(b[0]-a[0])\n",
    "    \n",
    "    \n",
    "    # Equation for y-intercept (solving y=mx+b for b)\n",
    "    y_int = a[1] - slope * a[0]\n",
    "    \n",
    "    # Return slope and y-intercept\n",
    "    return slope, y_int"
   ]
  },
  {
   "cell_type": "code",
   "execution_count": null,
   "metadata": {},
   "outputs": [],
   "source": [
    "upper_right = (-73.929224, 40.804328)\n",
    "bottom_right = (-73.980036, 40.710706)\n",
    "bottom_left = (-74.054880, 40.681292)\n",
    "upper_left = (-73.966303, 40.830050)"
   ]
  },
  {
   "cell_type": "code",
   "execution_count": null,
   "metadata": {},
   "outputs": [],
   "source": [
    "m_top, b_top = two_points_line(upper_right, upper_left, df.pickup_latitude)\n",
    "m_left, b_left = two_points_line(bottom_left, upper_left, df.pickup_latitude)\n",
    "m_right, b_right = two_points_line(bottom_right, upper_right, df.pickup_latitude)\n",
    "m_bottom, b_bottom = two_points_line(bottom_right, bottom_left, df.pickup_latitude)"
   ]
  },
  {
   "cell_type": "code",
   "execution_count": null,
   "metadata": {},
   "outputs": [],
   "source": [
    "def manhattan_test((a,b)(x,y)):\n",
    "    if (((b >= (a * m_top + b_top)) &\n",
    "    (b <= (a * m_bottom + b_bottom))) &\n",
    "    ((b <= (a * m_right + b_right)) &\n",
    "    (b >= (a * m_left + b_left)))) & (((y >= (x * m_top + b_top)) &\n",
    "    (y <= (x * m_bottom + b_bottom))) &\n",
    "    ((y <= (x * m_right + b_right)) &\n",
    "    (y >= (x * m_left + b_left)))):\n",
    "        return 1\n",
    "    else:\n",
    "        return 0"
   ]
  },
  {
   "cell_type": "code",
   "execution_count": null,
   "metadata": {},
   "outputs": [],
   "source": [
    "print(manhattan_test((-73.947763, 40.805107), (-73.977289, 40.764035))) #expect 1\n",
    "print(manhattan_test((-73.947763, 40.805107), (-73.918924, 40.754673))) #expect 0\n",
    "print(manhattan_test((-73.919611, 40.710966), (-73.918924, 40.754673))) #expect 0"
   ]
  },
  {
   "cell_type": "code",
   "execution_count": null,
   "metadata": {},
   "outputs": [],
   "source": [
    "def manhattan(row):\n",
    "    if (((row['pickup_latitude'] <= (row['pickup_longitude'] * m_top + b_top)) &\n",
    "    (row['pickup_latitude'] >= (row['pickup_longitude'] * m_bottom + b_bottom))) &\n",
    "    ((row['pickup_latitude'] >= (row['pickup_longitude'] * m_right + b_right)) &\n",
    "    (row['pickup_latitude'] <= (row['pickup_longitude'] * m_left + b_left)))) & (((row['dropoff_latitude'] <= (row['dropoff_longitude'] * m_top + b_top)) &\n",
    "    (row['dropoff_latitude'] >= (row['dropoff_longitude'] * m_bottom + b_bottom))) &\n",
    "    ((row['dropoff_latitude'] >= (row['dropoff_longitude'] * m_right + b_right)) &\n",
    "    (row['dropoff_latitude'] <= (row['dropoff_longitude'] * m_left + b_left)))):\n",
    "        return 1\n",
    "    else:\n",
    "        return 0"
   ]
  },
  {
   "cell_type": "code",
   "execution_count": null,
   "metadata": {},
   "outputs": [],
   "source": [
    "df['manhattan'] = df.apply(manhattan, axis=1)"
   ]
  },
  {
   "cell_type": "code",
   "execution_count": null,
   "metadata": {},
   "outputs": [],
   "source": [
    "def manhattan_to_fro(row):\n",
    "    if ((((row['pickup_latitude'] <= (row['pickup_longitude'] * m_top + b_top)) &\n",
    "    (row['pickup_latitude'] >= (row['pickup_longitude'] * m_bottom + b_bottom))) &\n",
    "    ((row['pickup_latitude'] >= (row['pickup_longitude'] * m_right + b_right)) &\n",
    "    (row['pickup_latitude'] <= (row['pickup_longitude'] * m_left + b_left)))) | (((row['dropoff_latitude'] <= (row['dropoff_longitude'] * m_top + b_top)) &\n",
    "    (row['dropoff_latitude'] >= (row['dropoff_longitude'] * m_bottom + b_bottom))) &\n",
    "    ((row['dropoff_latitude'] >= (row['dropoff_longitude'] * m_right + b_right)) &\n",
    "    (row['dropoff_latitude'] <= (row['dropoff_longitude'] * m_left + b_left))))) &\n",
    "        \n",
    "    (((((row['pickup_latitude'] <= (row['pickup_longitude'] * m_top + b_top)) &\n",
    "    (row['pickup_latitude'] >= (row['pickup_longitude'] * m_bottom + b_bottom))) &\n",
    "    ((row['pickup_latitude'] >= (row['pickup_longitude'] * m_right + b_right)) &\n",
    "    (row['pickup_latitude'] <= (row['pickup_longitude'] * m_left + b_left))))==False) | (((row['dropoff_latitude'] <= (row['dropoff_longitude'] * m_top + b_top)) &\n",
    "    (row['dropoff_latitude'] >= (row['dropoff_longitude'] * m_bottom + b_bottom))) &\n",
    "    ((row['dropoff_latitude'] >= (row['dropoff_longitude'] * m_right + b_right)) &\n",
    "    (row['dropoff_latitude'] <= (row['dropoff_longitude'] * m_left + b_left)))==False)):\n",
    "        return 1\n",
    "    else:\n",
    "        return 0"
   ]
  },
  {
   "cell_type": "code",
   "execution_count": null,
   "metadata": {},
   "outputs": [],
   "source": [
    "df['manhattan_to_fro'] = df.apply(manhattan, axis=1)"
   ]
  },
  {
   "cell_type": "markdown",
   "metadata": {},
   "source": [
    "## Save file"
   ]
  },
  {
   "cell_type": "code",
   "execution_count": null,
   "metadata": {},
   "outputs": [],
   "source": [
    "df.to_csv('NYC_Cab_Fare_Wrangled_Time_Distance.csv')"
   ]
  },
  {
   "cell_type": "markdown",
   "metadata": {},
   "source": [
    "## Distance Additions"
   ]
  },
  {
   "cell_type": "code",
   "execution_count": null,
   "metadata": {},
   "outputs": [],
   "source": [
    "plt.hist(df['euclidean_distance'], bins=20, range=(0,1))\n",
    "plt.title('Rides Less Than 1 Mile', fontsize=15)\n",
    "plt.savefig('Cab Cost per Mile', dpi=300)\n",
    "plt.show()"
   ]
  },
  {
   "cell_type": "code",
   "execution_count": null,
   "metadata": {},
   "outputs": [],
   "source": [
    "plt.hist(df['euclidean_feet'], bins=20, range=(0,400))\n",
    "plt.title('Rides Less Than 400 Feet', fontsize=15)\n",
    "plt.savefig('Rides Less Than 400 Feet', dpi=300)\n",
    "plt.show()"
   ]
  },
  {
   "cell_type": "code",
   "execution_count": null,
   "metadata": {},
   "outputs": [],
   "source": [
    "plt.hist(df['euclidean_feet'], bins=20, range=(0,10))\n",
    "plt.title('Rides Less Than 10 Feet', fontsize=15)\n",
    "plt.savefig('Rides Less Than 10 Feet', dpi=300)\n",
    "plt.show()"
   ]
  },
  {
   "cell_type": "code",
   "execution_count": null,
   "metadata": {},
   "outputs": [],
   "source": [
    "y = df.fare_amount\n",
    "x = df.euclidean_feet\n",
    "plt.scatter(x, y, alpha=0.1)\n",
    "plt.ylabel('Fare')\n",
    "plt.xlabel('Feet')\n",
    "plt.ylim(0,400)\n",
    "plt.xlim(0,400)\n",
    "plt.title('Cost per Mile NYC Cabs', fontsize=15)"
   ]
  },
  {
   "cell_type": "code",
   "execution_count": null,
   "metadata": {},
   "outputs": [],
   "source": [
    "y = df.fare_amount\n",
    "x = df.euclidean_feet\n",
    "plt.scatter(x, y, alpha=0.1)\n",
    "plt.ylabel('Fare')\n",
    "plt.xlabel('Feet')\n",
    "plt.ylim(0,100)\n",
    "plt.xlim(0,10)\n",
    "plt.title('Cost per Mile NYC Cabs', fontsize=15)"
   ]
  }
 ],
 "metadata": {
  "kernelspec": {
   "display_name": "Python 3",
   "language": "python",
   "name": "python3"
  },
  "language_info": {
   "codemirror_mode": {
    "name": "ipython",
    "version": 3
   },
   "file_extension": ".py",
   "mimetype": "text/x-python",
   "name": "python",
   "nbconvert_exporter": "python",
   "pygments_lexer": "ipython3",
   "version": "3.6.6"
  }
 },
 "nbformat": 4,
 "nbformat_minor": 2
}
